{
 "cells": [
  {
   "cell_type": "markdown",
   "id": "1a0e3f2d",
   "metadata": {},
   "source": [
    "# Golden SAML AD FS Mail Access"
   ]
  },
  {
   "cell_type": "markdown",
   "id": "73a339ae",
   "metadata": {},
   "source": [
    "## Metadata"
   ]
  },
  {
   "cell_type": "markdown",
   "id": "629108d4",
   "metadata": {},
   "source": [
    "\n",
    "|                   |    |\n",
    "|:------------------|:---|\n",
    "| Contributors      | Roberto Rodriguez @Cyb3rWard0g |\n",
    "| Creation Date     | 2021/08/02 |\n",
    "| Modification Date | 2021/08/02 |\n",
    "| Tactics           | [TA0006](https://attack.mitre.org/tactics/TA0006),[TA0001](https://attack.mitre.org/tactics/TA0001),[TA0003](https://attack.mitre.org/tactics/TA0003),[TA0004](https://attack.mitre.org/tactics/TA0004),[TA0005](https://attack.mitre.org/tactics/TA0005),[TA0009](https://attack.mitre.org/tactics/TA0009) |\n",
    "| Techniques        | [T1552.004](https://attack.mitre.org/techniques/T1552/004),[T1606.002](https://attack.mitre.org/techniques/T1606/002),[T1078.004](https://attack.mitre.org/techniques/T1078/004),[T1098.002](https://attack.mitre.org/techniques/T1098/002),[T1114](https://attack.mitre.org/techniques/T1114) |\n",
    "| Tags              | SimuLand |"
   ]
  },
  {
   "cell_type": "markdown",
   "id": "1a365890",
   "metadata": {},
   "source": [
    "## Dataset Description\n",
    "This dataset represent a threat actor stealing the AD FS token signing certificate from an on-prem AD FS server to sign a new SAML token, impersonate a privileged user and eventually collect mail data via the Microsoft Graph API."
   ]
  },
  {
   "cell_type": "markdown",
   "id": "198a4bdf",
   "metadata": {},
   "source": [
    "## Datasets Downloads"
   ]
  },
  {
   "cell_type": "markdown",
   "id": "bc8e6721",
   "metadata": {},
   "source": [
    "\n",
    "| Type | Link   |\n",
    "|:-------------|:-------|\n",
    "| Cloud | [https://raw.githubusercontent.com/OTRF/Security-Datasets/master/datasets/compound/GoldenSAMLADFSMailAccess/AADAuditEvents.Zip](https://raw.githubusercontent.com/OTRF/Security-Datasets/master/datasets/compound/GoldenSAMLADFSMailAccess/AADAuditEvents.Zip) |\n",
    "| Cloud | [https://raw.githubusercontent.com/OTRF/Security-Datasets/master/datasets/compound/GoldenSAMLADFSMailAccess/Microsoft365DefenderEvents.Zip](https://raw.githubusercontent.com/OTRF/Security-Datasets/master/datasets/compound/GoldenSAMLADFSMailAccess/Microsoft365DefenderEvents.Zip) |\n",
    "| Cloud | [https://raw.githubusercontent.com/OTRF/Security-Datasets/master/datasets/compound/GoldenSAMLADFSMailAccess/OfficeActivityEvents.Zip](https://raw.githubusercontent.com/OTRF/Security-Datasets/master/datasets/compound/GoldenSAMLADFSMailAccess/OfficeActivityEvents.Zip) |\n",
    "| Host | [https://raw.githubusercontent.com/OTRF/Security-Datasets/master/datasets/compound/GoldenSAMLADFSMailAccess/WindowsEvents.Zip](https://raw.githubusercontent.com/OTRF/Security-Datasets/master/datasets/compound/GoldenSAMLADFSMailAccess/WindowsEvents.Zip) |"
   ]
  },
  {
   "cell_type": "markdown",
   "id": "2125309c",
   "metadata": {},
   "source": [
    "## Simulation Metadata"
   ]
  },
  {
   "cell_type": "markdown",
   "id": "130379b8",
   "metadata": {},
   "source": [
    "### Environment"
   ]
  },
  {
   "cell_type": "markdown",
   "id": "d9e17b4b",
   "metadata": {},
   "source": [
    "\n",
    "| Name | link |\n",
    "|:-----|:-----|\n",
    "| SimuLand   | [https://github.com/Azure/SimuLand/tree/main/2_deploy/aadHybridIdentityADFS](https://github.com/Azure/SimuLand/tree/main/2_deploy/aadHybridIdentityADFS)   |"
   ]
  },
  {
   "cell_type": "markdown",
   "id": "e9bf4aea",
   "metadata": {},
   "source": [
    "## References\n",
    "* [https://github.com/Azure/SimuLand](https://github.com/Azure/SimuLand) \n",
    "* [https://github.com/Azure/SimuLand/tree/main/labs/01_GoldenSAMLADFSMailAccess](https://github.com/Azure/SimuLand/tree/main/labs/01_GoldenSAMLADFSMailAccess) "
   ]
  }
 ],
 "metadata": {},
 "nbformat": 4,
 "nbformat_minor": 5
}
