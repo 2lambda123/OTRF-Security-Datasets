{
 "cells": [
  {
   "cell_type": "markdown",
   "id": "592bd88b",
   "metadata": {},
   "source": [
    "# Golden SAML AD FS Mail Access"
   ]
  },
  {
   "cell_type": "markdown",
   "id": "4161523f",
   "metadata": {},
   "source": [
    "## Metadata"
   ]
  },
  {
   "cell_type": "markdown",
   "id": "c2a27323",
   "metadata": {},
   "source": [
    "\n",
    "|                   |    |\n",
    "|:------------------|:---|\n",
    "| Contributors      | Roberto Rodriguez @Cyb3rWard0g |\n",
    "| Creation Date     | 2021/08/02 |\n",
    "| Modification Date | 2021/08/02 |\n",
    "| Tactics           | [TA0006](https://attack.mitre.org/tactics/TA0006),[TA0001](https://attack.mitre.org/tactics/TA0001),[TA0003](https://attack.mitre.org/tactics/TA0003),[TA0004](https://attack.mitre.org/tactics/TA0004),[TA0005](https://attack.mitre.org/tactics/TA0005),[TA0009](https://attack.mitre.org/tactics/TA0009) |\n",
    "| Techniques        | [T1552.004](https://attack.mitre.org/techniques/T1552/004),[T1606.002](https://attack.mitre.org/techniques/T1606/002),[T1606.002](https://attack.mitre.org/techniques/T1606/002),[T1078.004](https://attack.mitre.org/techniques/T1078/004),[T1098.002](https://attack.mitre.org/techniques/T1098/002),[T1114](https://attack.mitre.org/techniques/T1114) |\n",
    "| Tags              | SimuLand |"
   ]
  },
  {
   "cell_type": "markdown",
   "id": "0f83595a",
   "metadata": {},
   "source": [
    "## Dataset Description\n",
    "This dataset represent a threat actor stealing the AD FS token signing certificate from an on-prem AD FS server to sign a new SAML token, impersonate a privileged user and eventually collect mail data via the Microsoft Graph API."
   ]
  },
  {
   "cell_type": "markdown",
   "id": "17383b9a",
   "metadata": {},
   "source": [
    "## Datasets Downloads"
   ]
  },
  {
   "cell_type": "markdown",
   "id": "70abb9b3",
   "metadata": {},
   "source": [
    "\n",
    "| Type | Link   |\n",
    "|:-------------|:-------|\n",
    "| Cloud | [https://raw.githubusercontent.com/OTRF/Security-Datasets/master/datasets/compound/GoldenSAMLADFSMailAccess/azureadlogs.zip](https://raw.githubusercontent.com/OTRF/Security-Datasets/master/datasets/compound/GoldenSAMLADFSMailAccess/azureadlogs.zip) |"
   ]
  },
  {
   "cell_type": "markdown",
   "id": "a91e15c6",
   "metadata": {},
   "source": [
    "## Simulation Metadata"
   ]
  },
  {
   "cell_type": "markdown",
   "id": "bedfab3f",
   "metadata": {},
   "source": [
    "### Environment"
   ]
  },
  {
   "cell_type": "markdown",
   "id": "f56ce4ac",
   "metadata": {},
   "source": [
    "\n",
    "| Name | link |\n",
    "|:-----|:-----|\n",
    "| SimuLand   | [https://github.com/Azure/SimuLand/tree/main/2_deploy/aadHybridIdentityADFS](https://github.com/Azure/SimuLand/tree/main/2_deploy/aadHybridIdentityADFS)   |"
   ]
  },
  {
   "cell_type": "markdown",
   "id": "b8f6e077",
   "metadata": {},
   "source": [
    "## References\n",
    "* [https://github.com/Azure/SimuLand](https://github.com/Azure/SimuLand) \n",
    "* [https://github.com/Azure/SimuLand/tree/main/labs/01_GoldenSAMLADFSMailAccess](https://github.com/Azure/SimuLand/tree/main/labs/01_GoldenSAMLADFSMailAccess) "
   ]
  }
 ],
 "metadata": {},
 "nbformat": 4,
 "nbformat_minor": 5
}
