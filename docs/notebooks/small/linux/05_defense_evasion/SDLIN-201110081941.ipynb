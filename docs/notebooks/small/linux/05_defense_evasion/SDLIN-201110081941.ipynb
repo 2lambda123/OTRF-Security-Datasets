{
 "cells": [
  {
   "cell_type": "markdown",
   "id": "0ea9ea45",
   "metadata": {},
   "source": [
    "# DD Binary Padding Hash Change"
   ]
  },
  {
   "cell_type": "markdown",
   "id": "dbac54a7",
   "metadata": {},
   "source": [
    "## Metadata"
   ]
  },
  {
   "cell_type": "markdown",
   "id": "df4e3a27",
   "metadata": {},
   "source": [
    "\n",
    "|                   |    |\n",
    "|:------------------|:---|\n",
    "| Author            | Roberto Rodriguez @Cyb3rWard0g |\n",
    "| Creation Date     | 2020/11/10 |\n",
    "| Modification Date | 2020/11/10 |\n",
    "| Tactics           | ['[TA0005](https://attack.mitre.org/tactics/TA0005)'] |\n",
    "| Techniques        | ['[T1027.001](https://attack.mitre.org/techniques/T1027/001)'] |\n",
    "| Tags              | None |"
   ]
  },
  {
   "cell_type": "markdown",
   "id": "7709fd4d",
   "metadata": {},
   "source": [
    "## Dataset Description\n",
    "This dataset represents a threat actor using dd to add a zero to the binary to change the hash."
   ]
  },
  {
   "cell_type": "markdown",
   "id": "a9313464",
   "metadata": {},
   "source": [
    "## Datasets Downloads"
   ]
  },
  {
   "cell_type": "markdown",
   "id": "b42cf394",
   "metadata": {},
   "source": [
    "\n",
    "| Dataset Type | Link   |\n",
    "|:-------------|:-------|\n",
    "| Host | [https://raw.githubusercontent.com/OTRF/Security-Datasets/master/datasets/small/linux/defense_evasion/host/sh_binary_padding_dd.zip](https://raw.githubusercontent.com/OTRF/Security-Datasets/master/datasets/small/linux/defense_evasion/host/sh_binary_padding_dd.zip) |"
   ]
  },
  {
   "cell_type": "markdown",
   "id": "808aeb65",
   "metadata": {},
   "source": [
    "## Notebooks\n",
    "Notebooks created by the community leveraging the mordor datasets"
   ]
  },
  {
   "cell_type": "markdown",
   "id": "2d6eeb96",
   "metadata": {},
   "source": [
    "\n",
    "| Author | Name | Link |\n",
    "|:-------|:-----|:-----|"
   ]
  },
  {
   "cell_type": "markdown",
   "id": "d629c3c0",
   "metadata": {},
   "source": [
    "## Simulation Plan"
   ]
  },
  {
   "cell_type": "markdown",
   "id": "bab9a2e4",
   "metadata": {},
   "source": [
    "\n",
    "| Environment | Tool Type | Module |\n",
    "|:------------|:----------|:-------|\n",
    "| Lab VM | Manual | [sh](https://github.com/redcanaryco/atomic-red-team/blob/master/atomics/T1027.001/T1027.001.md#atomic-test-1---pad-binary-to-change-hash---linuxmacos-dd) |"
   ]
  },
  {
   "cell_type": "markdown",
   "id": "5b370cf9",
   "metadata": {},
   "source": [
    "## Adversary View\n",
    "```\n",
    "md5sum /tmp/psexec.py \n",
    "5aa8b93e9b40c04d6d9d0cc8cd3975ed  /tmp/psexec.py\n",
    "\n",
    "dd if=/dev/zero bs=1 count=1 >> /tmp/psexec.py \n",
    "1+0 records in\n",
    "1+0 records out\n",
    "1 byte copied, 5.6002e-05 s, 17.9 kB/s\n",
    "\n",
    "md5sum /tmp/psexec.py \n",
    "c509e5bd899de81d603da3f61e717837  /tmp/psexec.py\n",
    "```"
   ]
  },
  {
   "cell_type": "markdown",
   "id": "f88073d4",
   "metadata": {},
   "source": [
    "## Explore Mordor Dataset"
   ]
  },
  {
   "cell_type": "markdown",
   "id": "c5325925",
   "metadata": {},
   "source": [
    "### Initialize Analytics Engine"
   ]
  },
  {
   "cell_type": "code",
   "execution_count": null,
   "id": "e9302114",
   "metadata": {},
   "outputs": [],
   "source": [
    "from openhunt.mordorutils import *\n",
    "spark = get_spark()"
   ]
  },
  {
   "cell_type": "markdown",
   "id": "89fd14fe",
   "metadata": {},
   "source": [
    "### Download & Process Mordor File"
   ]
  },
  {
   "cell_type": "code",
   "execution_count": null,
   "id": "51586ee8",
   "metadata": {},
   "outputs": [],
   "source": [
    "mordor_file = \"https://raw.githubusercontent.com/OTRF/Security-Datasets/master/datasets/small/linux/defense_evasion/host/sh_binary_padding_dd.zip\"\n",
    "registerMordorSQLTable(spark, mordor_file, \"mordorTable\")"
   ]
  },
  {
   "cell_type": "markdown",
   "id": "9bab977f",
   "metadata": {},
   "source": [
    "### Get to know your data"
   ]
  },
  {
   "cell_type": "code",
   "execution_count": null,
   "id": "3d7a043c",
   "metadata": {},
   "outputs": [],
   "source": [
    "df = spark.sql(\n",
    "'''\n",
    "SELECT *\n",
    "FROM mordorTable\n",
    "'''\n",
    ")\n",
    "df.show(1, vertical=True)"
   ]
  }
 ],
 "metadata": {
  "kernelspec": {
   "display_name": "PySpark_Python3",
   "language": "python",
   "name": "pyspark3"
  },
  "language_info": {
   "codemirror_mode": {
    "name": "ipython",
    "version": 3
   },
   "file_extension": ".py",
   "mimetype": "text/x-python",
   "name": "python",
   "nbconvert_exporter": "python",
   "pygments_lexer": "ipython3",
   "version": "3.7.3"
  }
 },
 "nbformat": 4,
 "nbformat_minor": 5
}
