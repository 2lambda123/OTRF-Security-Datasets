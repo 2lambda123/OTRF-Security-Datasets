{
 "cells": [
  {
   "cell_type": "markdown",
   "id": "4e286060",
   "metadata": {},
   "source": [
    "# Covenant Remote File Copy"
   ]
  },
  {
   "cell_type": "markdown",
   "id": "7e609fe6",
   "metadata": {},
   "source": [
    "## Metadata"
   ]
  },
  {
   "cell_type": "markdown",
   "id": "1ce6d99f",
   "metadata": {},
   "source": [
    "\n",
    "|                   |    |\n",
    "|:------------------|:---|\n",
    "| Author            | Roberto Rodriguez @Cyb3rWard0g |\n",
    "| Creation Date     | 2020/08/06 |\n",
    "| Modification Date | 2020/08/06 |\n",
    "| Tactics           | ['[TA0008](https://attack.mitre.org/tactics/TA0008)'] |\n",
    "| Techniques        | ['[T1021.002](https://attack.mitre.org/techniques/T1021/002)'] |\n",
    "| Tags              | ['SMB CreateRequest'] |"
   ]
  },
  {
   "cell_type": "markdown",
   "id": "f5622242",
   "metadata": {},
   "source": [
    "## Dataset Description\n",
    "This dataset represents a threat actor remotely copying a file over SMB (CreateRequest)."
   ]
  },
  {
   "cell_type": "markdown",
   "id": "364e17b6",
   "metadata": {},
   "source": [
    "## Datasets Downloads"
   ]
  },
  {
   "cell_type": "markdown",
   "id": "0419e4ad",
   "metadata": {},
   "source": [
    "\n",
    "| Dataset Type | Link   |\n",
    "|:-------------|:-------|\n",
    "| Host | [https://raw.githubusercontent.com/OTRF/mordor/master/datasets/small/windows/lateral_movement/host/covenant_copy_smb_CreateRequest.zip](https://raw.githubusercontent.com/OTRF/mordor/master/datasets/small/windows/lateral_movement/host/covenant_copy_smb_CreateRequest.zip) |\n",
    "| Network | [https://raw.githubusercontent.com/OTRF/mordor/master/datasets/small/windows/lateral_movement/host/covenant_copy_smb_CreateRequest.zip](https://raw.githubusercontent.com/OTRF/mordor/master/datasets/small/windows/lateral_movement/host/covenant_copy_smb_CreateRequest.zip) |"
   ]
  },
  {
   "cell_type": "markdown",
   "id": "e66a5dd9",
   "metadata": {},
   "source": [
    "## Notebooks\n",
    "Notebooks created by the community leveraging the mordor datasets"
   ]
  },
  {
   "cell_type": "markdown",
   "id": "6ce099fe",
   "metadata": {},
   "source": [
    "\n",
    "| Author | Name | Link |\n",
    "|:-------|:-----|:-----|"
   ]
  },
  {
   "cell_type": "markdown",
   "id": "f29a5714",
   "metadata": {},
   "source": [
    "## Simulation Plan"
   ]
  },
  {
   "cell_type": "markdown",
   "id": "549783e0",
   "metadata": {},
   "source": [
    "\n",
    "| Environment | Tool Type | Module |\n",
    "|:------------|:----------|:-------|\n",
    "| Mordor shire | C2 | [Copy](None) |"
   ]
  },
  {
   "cell_type": "markdown",
   "id": "e31f798b",
   "metadata": {},
   "source": [
    "## Adversary View\n",
    "```\n",
    "[09/22/2020 18:53:30 UTC] Copy completed\n",
    "(wardog) > Copy /source:\"C:\\Users\\pgustavo\\Desktop\\GruntHTTP.exe\" /destination:\"\\\\WORKSTATION6\\C$\\ProgramData\\GruntHTTP.exe\"\n",
    "\n",
    "Successfully copied file from: C:\\Users\\pgustavo\\Desktop\\GruntHTTP.exe to: \\\\WORKSTATION6\\C$\\ProgramData\\GruntHTTP.exe\n",
    "```"
   ]
  },
  {
   "cell_type": "markdown",
   "id": "a4d0d580",
   "metadata": {},
   "source": [
    "## Explore Mordor Dataset"
   ]
  },
  {
   "cell_type": "markdown",
   "id": "bae7762e",
   "metadata": {},
   "source": [
    "### Initialize Analytics Engine"
   ]
  },
  {
   "cell_type": "code",
   "execution_count": null,
   "id": "53409ae1",
   "metadata": {},
   "outputs": [],
   "source": [
    "from openhunt.mordorutils import *\n",
    "spark = get_spark()"
   ]
  },
  {
   "cell_type": "markdown",
   "id": "4b3075da",
   "metadata": {},
   "source": [
    "### Download & Process Mordor File"
   ]
  },
  {
   "cell_type": "code",
   "execution_count": null,
   "id": "8a13aac3",
   "metadata": {},
   "outputs": [],
   "source": [
    "mordor_file = \"https://raw.githubusercontent.com/OTRF/mordor/master/datasets/small/windows/lateral_movement/host/covenant_copy_smb_CreateRequest.zip\"\n",
    "registerMordorSQLTable(spark, mordor_file, \"mordorTable\")"
   ]
  },
  {
   "cell_type": "markdown",
   "id": "c74eaa3a",
   "metadata": {},
   "source": [
    "### Get to know your data"
   ]
  },
  {
   "cell_type": "code",
   "execution_count": null,
   "id": "358e20b4",
   "metadata": {},
   "outputs": [],
   "source": [
    "df = spark.sql(\n",
    "'''\n",
    "SELECT Hostname,Channel,EventID, Count(*) as count\n",
    "FROM mordorTable\n",
    "GROUP BY Hostname,Channel,EventID\n",
    "ORDER BY count DESC\n",
    "'''\n",
    ")\n",
    "df.show(truncate=False)"
   ]
  }
 ],
 "metadata": {
  "kernelspec": {
   "display_name": "PySpark_Python3",
   "language": "python",
   "name": "pyspark3"
  },
  "language_info": {
   "codemirror_mode": {
    "name": "ipython",
    "version": 3
   },
   "file_extension": ".py",
   "mimetype": "text/x-python",
   "name": "python",
   "nbconvert_exporter": "python",
   "pygments_lexer": "ipython3",
   "version": "3.7.3"
  }
 },
 "nbformat": 4,
 "nbformat_minor": 5
}
