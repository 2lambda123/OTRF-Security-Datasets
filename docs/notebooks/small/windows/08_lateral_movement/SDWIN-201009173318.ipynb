{
 "cells": [
  {
   "cell_type": "markdown",
   "id": "f9433c5a",
   "metadata": {},
   "source": [
    "# Covenant Remote WMI Wbemcomn DLL Hijacking"
   ]
  },
  {
   "cell_type": "markdown",
   "id": "733e58d5",
   "metadata": {},
   "source": [
    "## Metadata"
   ]
  },
  {
   "cell_type": "markdown",
   "id": "02d0a002",
   "metadata": {},
   "source": [
    "\n",
    "|                   |    |\n",
    "|:------------------|:---|\n",
    "| Author            | Roberto Rodriguez @Cyb3rWard0g |\n",
    "| Creation Date     | 2020/10/09 |\n",
    "| Modification Date | 2020/10/09 |\n",
    "| Tactics           | ['[TA0002](https://attack.mitre.org/tactics/TA0002)', '[TA0008](https://attack.mitre.org/tactics/TA0008)'] |\n",
    "| Techniques        | ['[T1047](https://attack.mitre.org/techniques/T1047)'] |\n",
    "| Tags              | ['SMB CreateRequest'] |"
   ]
  },
  {
   "cell_type": "markdown",
   "id": "848a3172",
   "metadata": {},
   "source": [
    "## Dataset Description\n",
    "This dataset represents adversaries abusing a DLL hijack vulnerability found in the execution of the WMI provider host (wmiprvse.exe) for lateral movement."
   ]
  },
  {
   "cell_type": "markdown",
   "id": "df18c51d",
   "metadata": {},
   "source": [
    "## Datasets Downloads"
   ]
  },
  {
   "cell_type": "markdown",
   "id": "b7f2031b",
   "metadata": {},
   "source": [
    "\n",
    "| Dataset Type | Link   |\n",
    "|:-------------|:-------|\n",
    "| Host | [https://raw.githubusercontent.com/OTRF/Security-Datasets/master/datasets/small/windows/lateral_movement/host/covenant_wmi_wbemcomn_dll_hijack.zip](https://raw.githubusercontent.com/OTRF/Security-Datasets/master/datasets/small/windows/lateral_movement/host/covenant_wmi_wbemcomn_dll_hijack.zip) |\n",
    "| Network | [https://raw.githubusercontent.com/OTRF/Security-Datasets/master/datasets/small/windows/lateral_movement/network/covenant_wmi_wbemcomn_dll_hijack.zip](https://raw.githubusercontent.com/OTRF/Security-Datasets/master/datasets/small/windows/lateral_movement/network/covenant_wmi_wbemcomn_dll_hijack.zip) |"
   ]
  },
  {
   "cell_type": "markdown",
   "id": "5919be75",
   "metadata": {},
   "source": [
    "## Notebooks\n",
    "Notebooks created by the community leveraging the mordor datasets"
   ]
  },
  {
   "cell_type": "markdown",
   "id": "faf8641b",
   "metadata": {},
   "source": [
    "\n",
    "| Author | Name | Link |\n",
    "|:-------|:-----|:-----|\n",
    "| Threat Hunter Playbook | Remote WMI Wbemcomn DLL Hijack | [https://threathunterplaybook.com/notebooks/windows/08_lateral_movement/WIN-201009173318.html](https://threathunterplaybook.com/notebooks/windows/08_lateral_movement/WIN-201009173318.html) |"
   ]
  },
  {
   "cell_type": "markdown",
   "id": "b2680265",
   "metadata": {},
   "source": [
    "## Simulation Plan"
   ]
  },
  {
   "cell_type": "markdown",
   "id": "b8534948",
   "metadata": {},
   "source": [
    "\n",
    "| Environment | Tool Type | Module |\n",
    "|:------------|:----------|:-------|\n",
    "| Mordor shire | C2 | [ShellCmd](https://github.com/cobbr/Covenant/blob/master/Covenant/Data/Tasks/SharpSploit.Execution.yaml#L96) |\n",
    "| Mordor shire | C2 | [Copy](https://github.com/cobbr/Covenant/blob/master/Covenant/Data/Tasks/DefaultGruntTasks.yaml#L951) |"
   ]
  },
  {
   "cell_type": "markdown",
   "id": "b96aeca1",
   "metadata": {},
   "source": [
    "## Adversary View\n",
    "```\n",
    "Copy /source:\"C:\\ProgramData\\test.dll\" /destination:\"\\\\WORKSTATION6\\C$\\Windows\\System32\\wbem\\wbemcomn.dll\"\n",
    "\n",
    "ShellCmd /shellcommand:\"wmic /node:WORKSTATION6 os get\"\n",
    "```"
   ]
  },
  {
   "cell_type": "markdown",
   "id": "43ebb3df",
   "metadata": {},
   "source": [
    "## Explore Mordor Dataset"
   ]
  },
  {
   "cell_type": "markdown",
   "id": "a81ad6c2",
   "metadata": {},
   "source": [
    "### Initialize Analytics Engine"
   ]
  },
  {
   "cell_type": "code",
   "execution_count": null,
   "id": "93621826",
   "metadata": {},
   "outputs": [],
   "source": [
    "from openhunt.mordorutils import *\n",
    "spark = get_spark()"
   ]
  },
  {
   "cell_type": "markdown",
   "id": "2897808d",
   "metadata": {},
   "source": [
    "### Download & Process Mordor File"
   ]
  },
  {
   "cell_type": "code",
   "execution_count": null,
   "id": "db56d7c1",
   "metadata": {},
   "outputs": [],
   "source": [
    "mordor_file = \"https://raw.githubusercontent.com/OTRF/Security-Datasets/master/datasets/small/windows/lateral_movement/host/covenant_wmi_wbemcomn_dll_hijack.zip\"\n",
    "registerMordorSQLTable(spark, mordor_file, \"mordorTable\")"
   ]
  },
  {
   "cell_type": "markdown",
   "id": "de02953c",
   "metadata": {},
   "source": [
    "### Get to know your data"
   ]
  },
  {
   "cell_type": "code",
   "execution_count": null,
   "id": "393aca2e",
   "metadata": {},
   "outputs": [],
   "source": [
    "df = spark.sql(\n",
    "'''\n",
    "SELECT Hostname,Channel,EventID, Count(*) as count\n",
    "FROM mordorTable\n",
    "GROUP BY Hostname,Channel,EventID\n",
    "ORDER BY count DESC\n",
    "'''\n",
    ")\n",
    "df.show(truncate=False)"
   ]
  }
 ],
 "metadata": {
  "kernelspec": {
   "display_name": "PySpark_Python3",
   "language": "python",
   "name": "pyspark3"
  },
  "language_info": {
   "codemirror_mode": {
    "name": "ipython",
    "version": 3
   },
   "file_extension": ".py",
   "mimetype": "text/x-python",
   "name": "python",
   "nbconvert_exporter": "python",
   "pygments_lexer": "ipython3",
   "version": "3.7.3"
  }
 },
 "nbformat": 4,
 "nbformat_minor": 5
}
