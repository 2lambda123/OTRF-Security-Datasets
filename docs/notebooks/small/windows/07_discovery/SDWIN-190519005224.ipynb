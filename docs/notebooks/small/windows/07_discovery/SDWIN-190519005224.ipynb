{
 "cells": [
  {
   "cell_type": "markdown",
   "id": "0e6fdb12",
   "metadata": {},
   "source": [
    "# Empire Remote Get Session"
   ]
  },
  {
   "cell_type": "markdown",
   "id": "678a6682",
   "metadata": {},
   "source": [
    "## Metadata"
   ]
  },
  {
   "cell_type": "markdown",
   "id": "15dd7be6",
   "metadata": {},
   "source": [
    "\n",
    "|                   |    |\n",
    "|:------------------|:---|\n",
    "| Author            | Roberto Rodriguez @Cyb3rWard0g |\n",
    "| Creation Date     | 2019/05/19 |\n",
    "| Modification Date | 2019/09/20 |\n",
    "| Tactics           | ['[TA0007](https://attack.mitre.org/tactics/TA0007)'] |\n",
    "| Techniques        | ['[T1049](https://attack.mitre.org/techniques/T1049)'] |\n",
    "| Tags              | ['RPC NetSessEnum', 'SMB Srvsvc'] |"
   ]
  },
  {
   "cell_type": "markdown",
   "id": "4e0cb8e6",
   "metadata": {},
   "source": [
    "## Dataset Description\n",
    "This dataset represents adversaries leveraging RPC SRVSVC and the method NetSessEnum over SMB to query remote hosts for active sessions"
   ]
  },
  {
   "cell_type": "markdown",
   "id": "508861b1",
   "metadata": {},
   "source": [
    "## Datasets Downloads"
   ]
  },
  {
   "cell_type": "markdown",
   "id": "a8b3c667",
   "metadata": {},
   "source": [
    "\n",
    "| Dataset Type | Link   |\n",
    "|:-------------|:-------|\n",
    "| Host | [https://raw.githubusercontent.com/OTRF/Security-Datasets/master/datasets/small/windows/discovery/host/empire_getsession_dcerpc_smb_srvsvc_NetSessEnum.zip](https://raw.githubusercontent.com/OTRF/Security-Datasets/master/datasets/small/windows/discovery/host/empire_getsession_dcerpc_smb_srvsvc_NetSessEnum.zip) |\n",
    "| Network | [https://raw.githubusercontent.com/OTRF/Security-Datasets/master/datasets/small/windows/discovery/network/empire_getsession_dcerpc_smb_srvsvc_NetSessEnum.zip](https://raw.githubusercontent.com/OTRF/Security-Datasets/master/datasets/small/windows/discovery/network/empire_getsession_dcerpc_smb_srvsvc_NetSessEnum.zip) |"
   ]
  },
  {
   "cell_type": "markdown",
   "id": "24dd642f",
   "metadata": {},
   "source": [
    "## Notebooks\n",
    "Notebooks created by the community leveraging the mordor datasets"
   ]
  },
  {
   "cell_type": "markdown",
   "id": "3183dc30",
   "metadata": {},
   "source": [
    "\n",
    "| Author | Name | Link |\n",
    "|:-------|:-----|:-----|"
   ]
  },
  {
   "cell_type": "markdown",
   "id": "4f825f0b",
   "metadata": {},
   "source": [
    "## Simulation Plan"
   ]
  },
  {
   "cell_type": "markdown",
   "id": "a7643573",
   "metadata": {},
   "source": [
    "\n",
    "| Environment | Tool Type | Module |\n",
    "|:------------|:----------|:-------|\n",
    "| Mordor shire | C2 | [get_session](https://raw.githubusercontent.com/EmpireProject/Empire/dev/data/module_source/situational_awareness/network/powerview.ps1) |"
   ]
  },
  {
   "cell_type": "markdown",
   "id": "948ee848",
   "metadata": {},
   "source": [
    "## Adversary View\n",
    "```\n",
    "(Empire: WE8XYD3K) > agents\n",
    "\n",
    "[*] Active agents:\n",
    "\n",
    "Name     La Internal IP     Machine Name      Username                Process            PID    Delay    Last Seen            Listener\n",
    "----     -- -----------     ------------      --------                -------            ---    -----    ---------            ----------------\n",
    "WE8XYD3K ps 172.18.39.5     WORKSTATION5      *THESHIRE\\pgustavo      powershell         5972   5/0.0    2020-09-22 07:44:38  http            \n",
    "\n",
    "(Empire: agents) > interact WE8XYD3K\n",
    "(Empire: WE8XYD3K) > usemodule situational_awareness/network/powerview/get_session\n",
    "(Empire: powershell/situational_awareness/network/powerview/get_session) > info\n",
    "\n",
    "              Name: Get-NetSession\n",
    "            Module: powershell/situational_awareness/network/powerview/get_session\n",
    "        NeedsAdmin: False\n",
    "        OpsecSafe: True\n",
    "          Language: powershell\n",
    "MinLanguageVersion: 2\n",
    "        Background: True\n",
    "  OutputExtension: None\n",
    "\n",
    "Authors:\n",
    "  @harmj0y\n",
    "\n",
    "Description:\n",
    "  Execute the NetSessionEnum Win32API call to query a given\n",
    "  host for active sessions on the host. Part of PowerView.\n",
    "\n",
    "Comments:\n",
    "  https://github.com/PowerShellMafia/PowerSploit/blob/dev/Reco\n",
    "  n/\n",
    "\n",
    "Options:\n",
    "\n",
    "  Name         Required    Value                     Description\n",
    "  ----         --------    -------                   -----------\n",
    "  Agent        True        WE8XYD3K                  Agent to run module on.                 \n",
    "  ComputerName False       localhost                 The hostname or IP to query for local   \n",
    "                                                    group users.                            \n",
    "\n",
    "(Empire: powershell/situational_awareness/network/powerview/get_session) > set ComputerName MORDORDC\n",
    "(Empire: powershell/situational_awareness/network/powerview/get_session) > execute\n",
    "[*] Tasked WE8XYD3K to run TASK_CMD_JOB\n",
    "[*] Agent WE8XYD3K tasked with task ID 2\n",
    "[*] Tasked agent WE8XYD3K to run module powershell/situational_awareness/network/powerview/get_session\n",
    "(Empire: powershell/situational_awareness/network/powerview/get_session) > \n",
    "Job started: DV248X\n",
    "\n",
    "CName         UserName Time IdleTime ComputerName\n",
    "-----         -------- ---- -------- ------------\n",
    "\\\\172.18.39.5 pgustavo    0        0 MORDORDC    \n",
    "\n",
    "Get-NetSession completed!\n",
    "\n",
    "(Empire: powershell/situational_awareness/network/powerview/get_session) > \n",
    "```"
   ]
  },
  {
   "cell_type": "markdown",
   "id": "ed0c8ff2",
   "metadata": {},
   "source": [
    "## Explore Mordor Dataset"
   ]
  },
  {
   "cell_type": "markdown",
   "id": "8e39e07d",
   "metadata": {},
   "source": [
    "### Initialize Analytics Engine"
   ]
  },
  {
   "cell_type": "code",
   "execution_count": null,
   "id": "aadcaa44",
   "metadata": {},
   "outputs": [],
   "source": [
    "from openhunt.mordorutils import *\n",
    "spark = get_spark()"
   ]
  },
  {
   "cell_type": "markdown",
   "id": "ad263a0c",
   "metadata": {},
   "source": [
    "### Download & Process Mordor File"
   ]
  },
  {
   "cell_type": "code",
   "execution_count": null,
   "id": "ed97644c",
   "metadata": {},
   "outputs": [],
   "source": [
    "mordor_file = \"https://raw.githubusercontent.com/OTRF/Security-Datasets/master/datasets/small/windows/discovery/host/empire_getsession_dcerpc_smb_srvsvc_NetSessEnum.zip\"\n",
    "registerMordorSQLTable(spark, mordor_file, \"mordorTable\")"
   ]
  },
  {
   "cell_type": "markdown",
   "id": "15321f34",
   "metadata": {},
   "source": [
    "### Get to know your data"
   ]
  },
  {
   "cell_type": "code",
   "execution_count": null,
   "id": "443eb195",
   "metadata": {},
   "outputs": [],
   "source": [
    "df = spark.sql(\n",
    "'''\n",
    "SELECT Hostname,Channel,EventID, Count(*) as count\n",
    "FROM mordorTable\n",
    "GROUP BY Hostname,Channel,EventID\n",
    "ORDER BY count DESC\n",
    "'''\n",
    ")\n",
    "df.show(truncate=False)"
   ]
  }
 ],
 "metadata": {
  "kernelspec": {
   "display_name": "PySpark_Python3",
   "language": "python",
   "name": "pyspark3"
  },
  "language_info": {
   "codemirror_mode": {
    "name": "ipython",
    "version": 3
   },
   "file_extension": ".py",
   "mimetype": "text/x-python",
   "name": "python",
   "nbconvert_exporter": "python",
   "pygments_lexer": "ipython3",
   "version": "3.7.3"
  }
 },
 "nbformat": 4,
 "nbformat_minor": 5
}
