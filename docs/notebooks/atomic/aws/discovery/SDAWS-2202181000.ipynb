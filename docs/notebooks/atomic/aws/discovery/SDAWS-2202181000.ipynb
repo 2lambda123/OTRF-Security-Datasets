{
 "cells": [
  {
   "cell_type": "markdown",
   "id": "2735fb93",
   "metadata": {},
   "source": [
    "# AWS S3 Honey Bucket Logs"
   ]
  },
  {
   "cell_type": "markdown",
   "id": "a75269d5",
   "metadata": {},
   "source": [
    "## Metadata"
   ]
  },
  {
   "cell_type": "markdown",
   "id": "8d1ac904",
   "metadata": {},
   "source": [
    "\n",
    "|                   |    |\n",
    "|:------------------|:---|\n",
    "| Contributors      | Ashwin Patil @ashwinpatil |\n",
    "| Creation Date     | 2022/02/18 |\n",
    "| Modification Date | 2022/02/18 |\n",
    "| Tactics           | [TA0007](https://attack.mitre.org/tactics/TA0007) |\n",
    "| Techniques        | [T1580](https://attack.mitre.org/techniques/T1580) |\n",
    "| Tags              | S3 Public Honeybucket Discovery |"
   ]
  },
  {
   "cell_type": "markdown",
   "id": "0aa1ddc0",
   "metadata": {},
   "source": [
    "## Dataset Description\n",
    "This dataset represents adversaries trying to scan , discover and access open S3 honeybucket based on known hostname patterns. in this case honeybucket microsoft-devtest.s3.amazonaws.com."
   ]
  },
  {
   "cell_type": "markdown",
   "id": "930a0f49",
   "metadata": {},
   "source": [
    "## Datasets Downloads"
   ]
  },
  {
   "cell_type": "markdown",
   "id": "0cb60074",
   "metadata": {},
   "source": [
    "\n",
    "| Type | Link   |\n",
    "|:-------------|:-------|\n",
    "| cloud | [https://raw.githubusercontent.com/OTRF/Security-Datasets/master/datasets/atomic/aws/discovery/aws_s3_honeybucketlogs.zip](https://raw.githubusercontent.com/OTRF/Security-Datasets/master/datasets/atomic/aws/discovery/aws_s3_honeybucketlogs.zip) |"
   ]
  },
  {
   "cell_type": "markdown",
   "id": "1e307922",
   "metadata": {},
   "source": [
    "## Simulation Metadata"
   ]
  },
  {
   "cell_type": "markdown",
   "id": "c2505196",
   "metadata": {},
   "source": [
    "## Adversary View\n",
    "```\n",
    "> pip3 install s3scanner\n",
    "\n",
    "> s3scanner --threads 8 scan --buckets-file ./bucket-names.txt                                                                                                                                                              >\n",
    "\n",
    "> curl -s \"microsoft-devtest.s3.amazonaws.com\"\n",
    "\n",
    "> aws s3 ls s3://microsoft-devtest.s3.amazonaws.com\n",
    "\n",
    "> echo 'Trying to write text file to open public bucket' > hello.txt\n",
    "\n",
    "> aws s3 sync hello.txt s3://microsoft-devtest.s3.amazonaws.com\n",
    "```"
   ]
  },
  {
   "cell_type": "markdown",
   "id": "69685773",
   "metadata": {},
   "source": [
    "## Explore Datasets"
   ]
  },
  {
   "cell_type": "markdown",
   "id": "288242de",
   "metadata": {},
   "source": [
    "### Download & Decompress Dataset"
   ]
  },
  {
   "cell_type": "code",
   "execution_count": null,
   "id": "bf9d57b7",
   "metadata": {},
   "outputs": [],
   "source": [
    "import requests\n",
    "from zipfile import ZipFile\n",
    "from io import BytesIO\n",
    "\n",
    "url = https://raw.githubusercontent.com/OTRF/Security-Datasets/master/datasets/atomic/aws/discovery/aws_s3_honeybucketlogs.zip\n",
    "zipFileRequest = requests.get(url)\n",
    "zipFile = ZipFile(BytesIO(zipFileRequest.content))\n",
    "datasetJSONPath = zipFile.extract(zipFile.namelist()[0])"
   ]
  },
  {
   "cell_type": "markdown",
   "id": "a9a31001",
   "metadata": {},
   "source": [
    "### Read JSON File"
   ]
  },
  {
   "cell_type": "code",
   "execution_count": null,
   "id": "76175135",
   "metadata": {},
   "outputs": [],
   "source": [
    "from pandas.io import json\n",
    "\n",
    "df = json.read_json(path_or_buf=datasetJSONPath, lines=True)"
   ]
  },
  {
   "cell_type": "markdown",
   "id": "767819d0",
   "metadata": {},
   "source": [
    "### Access Security Events"
   ]
  },
  {
   "cell_type": "code",
   "execution_count": null,
   "id": "2f9d9651",
   "metadata": {},
   "outputs": [],
   "source": [
    "df.head(1)"
   ]
  },
  {
   "cell_type": "markdown",
   "id": "745bb697",
   "metadata": {},
   "source": [
    "## References\n",
    "* [https://breachinsider.com/blog/honey-buckets-find-out-who-is-snooping-through-your-amazon-s3-buckets/](https://breachinsider.com/blog/honey-buckets-find-out-who-is-snooping-through-your-amazon-s3-buckets/) "
   ]
  }
 ],
 "metadata": {},
 "nbformat": 4,
 "nbformat_minor": 5
}
