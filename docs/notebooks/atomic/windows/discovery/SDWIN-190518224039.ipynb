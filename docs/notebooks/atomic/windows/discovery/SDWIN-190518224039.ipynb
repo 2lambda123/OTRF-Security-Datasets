{
 "cells": [
  {
   "cell_type": "markdown",
   "id": "189d3b56",
   "metadata": {},
   "source": [
    "# Empire Find Local Admin Access"
   ]
  },
  {
   "cell_type": "markdown",
   "id": "96c97e0a",
   "metadata": {},
   "source": [
    "## Metadata"
   ]
  },
  {
   "cell_type": "markdown",
   "id": "0a979703",
   "metadata": {},
   "source": [
    "\n",
    "|                   |    |\n",
    "|:------------------|:---|\n",
    "| Contributors      | Roberto Rodriguez @Cyb3rWard0g |\n",
    "| Creation Date     | 2019/05/18 |\n",
    "| Modification Date | 2019/05/18 |\n",
    "| Tactics           | [TA0007](https://attack.mitre.org/tactics/TA0007) |\n",
    "| Techniques        | [T1069.001](https://attack.mitre.org/techniques/T1069/001) |\n",
    "| Tags              | RPC OpenSCManager,SMB Svcctl |"
   ]
  },
  {
   "cell_type": "markdown",
   "id": "184c96de",
   "metadata": {},
   "source": [
    "## Dataset Description\n",
    "This dataset represents adversaries using the OpenSCManagerW Win32API call to establish a handle to the remote host and verify if the current user context has local administrator acess to the target."
   ]
  },
  {
   "cell_type": "markdown",
   "id": "666ea471",
   "metadata": {},
   "source": [
    "## Datasets Downloads"
   ]
  },
  {
   "cell_type": "markdown",
   "id": "f712eb4f",
   "metadata": {},
   "source": [
    "\n",
    "| Type | Link   |\n",
    "|:-------------|:-------|\n",
    "| Host | [https://raw.githubusercontent.com/OTRF/Security-Datasets/master/datasets/atomic/windows/discovery/host/empire_find_localadmin_smb_svcctl_OpenSCManager.zip](https://raw.githubusercontent.com/OTRF/Security-Datasets/master/datasets/atomic/windows/discovery/host/empire_find_localadmin_smb_svcctl_OpenSCManager.zip) |"
   ]
  },
  {
   "cell_type": "markdown",
   "id": "957993d3",
   "metadata": {},
   "source": [
    "## Simulation Metadata"
   ]
  },
  {
   "cell_type": "markdown",
   "id": "cafbf4c1",
   "metadata": {},
   "source": [
    "### Tools"
   ]
  },
  {
   "cell_type": "markdown",
   "id": "b38e77ad",
   "metadata": {},
   "source": [
    "\n",
    "| type | Name | Module |\n",
    "|:-----|:-----|--------|\n",
    "| C2 | Empire | [find_localadmin_access](https://github.com/EmpireProject/Empire/blob/master/lib/modules/powershell/situational_awareness/network/powerview/find_localadmin_access.py) |"
   ]
  },
  {
   "cell_type": "markdown",
   "id": "3c782db2",
   "metadata": {},
   "source": [
    "## Adversary View\n",
    "```\n",
    "(Empire: GCSKD17Z) > agents\n",
    "\n",
    "[*] Active agents:\n",
    "\n",
    "Name     La Internal IP     Machine Name      Username                Process            PID    Delay    Last Seen            Listener\n",
    "----     -- -----------     ------------      --------                -------            ---    -----    ---------            ----------------\n",
    "GCSKD17Z ps 172.18.39.5     WORKSTATION5      *THESHIRE\\pgustavo      powershell         1112   5/0.0    2020-09-22 06:15:19  http            \n",
    "\n",
    "(Empire: agents) > interact GCSKD17Z\n",
    "(Empire: GCSKD17Z) > usemodule situational_awareness/network/powerview/find_localadmin_access\n",
    "(Empire: powershell/situational_awareness/network/powerview/find_localadmin_access) > execute\n",
    "[*] Tasked GCSKD17Z to run TASK_CMD_JOB\n",
    "[*] Agent GCSKD17Z tasked with task ID 8\n",
    "[*] Tasked agent GCSKD17Z to run module powershell/situational_awareness/network/powerview/find_localadmin_access\n",
    "(Empire: powershell/situational_awareness/network/powerview/find_localadmin_access) > \n",
    "Job started: GL5DUX\n",
    "\n",
    "(Empire: powershell/situational_awareness/network/powerview/find_localadmin_access) > back\n",
    "(Empire: GCSKD17Z) > \n",
    "WORKSTATION5.theshire.local\n",
    "WORKSTATION6.theshire.local\n",
    "MORDORDC.theshire.local\n",
    "WEC.theshire.local\n",
    "\n",
    "Find-LocalAdminAccess completed!\n",
    "\n",
    "(Empire: GCSKD17Z) >\n",
    "```"
   ]
  },
  {
   "cell_type": "markdown",
   "id": "4c5b5d43",
   "metadata": {},
   "source": [
    "## Explore Datasets"
   ]
  },
  {
   "cell_type": "markdown",
   "id": "61d6228a",
   "metadata": {},
   "source": [
    "### Download & Decompress Dataset"
   ]
  },
  {
   "cell_type": "code",
   "execution_count": null,
   "id": "23b7b191",
   "metadata": {},
   "outputs": [],
   "source": [
    "import requests\n",
    "from zipfile import ZipFile\n",
    "from io import BytesIO\n",
    "\n",
    "url = https://raw.githubusercontent.com/OTRF/Security-Datasets/master/datasets/atomic/windows/discovery/host/empire_find_localadmin_smb_svcctl_OpenSCManager.zip\n",
    "zipFileRequest = requests.get(url)\n",
    "zipFile = ZipFile(BytesIO(zipFileRequest.content))\n",
    "datasetJSONPath = zipFile.extract(zipFile.namelist()[0])"
   ]
  },
  {
   "cell_type": "markdown",
   "id": "2f14d082",
   "metadata": {},
   "source": [
    "### Read JSON File"
   ]
  },
  {
   "cell_type": "code",
   "execution_count": null,
   "id": "8bc42b09",
   "metadata": {},
   "outputs": [],
   "source": [
    "from pandas.io import json\n",
    "\n",
    "df = json.read_json(path_or_buf=datasetJSONPath, lines=True)"
   ]
  },
  {
   "cell_type": "markdown",
   "id": "768afa63",
   "metadata": {},
   "source": [
    "### Access Security Events"
   ]
  },
  {
   "cell_type": "code",
   "execution_count": null,
   "id": "da599f7d",
   "metadata": {},
   "outputs": [],
   "source": [
    "df.groupby(['Channel']).size().sort_values(ascending=False)"
   ]
  },
  {
   "cell_type": "markdown",
   "id": "11f186fe",
   "metadata": {},
   "source": [
    "## References\n",
    "* [https://www.elastic.co/blog/ten-process-injection-techniques-technical-survey-common-and-trending-process](https://www.elastic.co/blog/ten-process-injection-techniques-technical-survey-common-and-trending-process) "
   ]
  }
 ],
 "metadata": {},
 "nbformat": 4,
 "nbformat_minor": 5
}
