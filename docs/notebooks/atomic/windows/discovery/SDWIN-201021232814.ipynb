{
 "cells": [
  {
   "cell_type": "markdown",
   "id": "8312b552",
   "metadata": {},
   "source": [
    "# Internet Explorer Version Discovery"
   ]
  },
  {
   "cell_type": "markdown",
   "id": "2965cc12",
   "metadata": {},
   "source": [
    "## Metadata"
   ]
  },
  {
   "cell_type": "markdown",
   "id": "7cc6c18a",
   "metadata": {},
   "source": [
    "\n",
    "|                   |    |\n",
    "|:------------------|:---|\n",
    "| Contributors      | Roberto Rodriguez @Cyb3rWard0g |\n",
    "| Creation Date     | 2020/10/21 |\n",
    "| Modification Date | 2020/10/21 |\n",
    "| Tactics           | [TA0007](https://attack.mitre.org/tactics/TA0007) |\n",
    "| Techniques        | [T1518](https://attack.mitre.org/techniques/T1518) |\n",
    "| Tags              | art.68981660-6670-47ee-a5fa-7e74806420a4 |"
   ]
  },
  {
   "cell_type": "markdown",
   "id": "eb54701b",
   "metadata": {},
   "source": [
    "## Dataset Description\n",
    "This dataset represents threat actors querying HKEY_LOCAL_MACHINE\\Software\\Microsoft\\Internet Explorer to get the version of internet explorer installed on the system."
   ]
  },
  {
   "cell_type": "markdown",
   "id": "36330875",
   "metadata": {},
   "source": [
    "## Datasets Downloads"
   ]
  },
  {
   "cell_type": "markdown",
   "id": "54cc53eb",
   "metadata": {},
   "source": [
    "\n",
    "| Type | Link   |\n",
    "|:-------------|:-------|\n",
    "| Host | [https://raw.githubusercontent.com/OTRF/Security-Datasets/master/datasets/atomic/windows/discovery/host/cmd_discover_iexplorer_version_registry.zip](https://raw.githubusercontent.com/OTRF/Security-Datasets/master/datasets/atomic/windows/discovery/host/cmd_discover_iexplorer_version_registry.zip) |"
   ]
  },
  {
   "cell_type": "markdown",
   "id": "7dc1d360",
   "metadata": {},
   "source": [
    "## Simulation Metadata"
   ]
  },
  {
   "cell_type": "markdown",
   "id": "2d78a7c2",
   "metadata": {},
   "source": [
    "### Tools"
   ]
  },
  {
   "cell_type": "markdown",
   "id": "4c043833",
   "metadata": {},
   "source": [
    "\n",
    "| type | Name | Module |\n",
    "|:-----|:-----|--------|\n",
    "| Manual | cmd | [cmd](https://github.com/redcanaryco/atomic-red-team/blob/master/atomics/T1518/T1518.md#atomic-test-1---find-and-display-internet-explorer-browser-version) |"
   ]
  },
  {
   "cell_type": "markdown",
   "id": "bbdee9a0",
   "metadata": {},
   "source": [
    "## Adversary View\n",
    "```\n",
    "reg query \"HKEY_LOCAL_MACHINE\\Software\\Microsoft\\Internet Explorer\" /v svcVersion\n",
    "```"
   ]
  },
  {
   "cell_type": "markdown",
   "id": "a8e8181d",
   "metadata": {},
   "source": [
    "## Explore Datasets"
   ]
  },
  {
   "cell_type": "markdown",
   "id": "f9111739",
   "metadata": {},
   "source": [
    "### Download & Decompress Dataset"
   ]
  },
  {
   "cell_type": "code",
   "execution_count": null,
   "id": "4a66a3b3",
   "metadata": {},
   "outputs": [],
   "source": [
    "import requests\n",
    "from zipfile import ZipFile\n",
    "from io import BytesIO\n",
    "\n",
    "url = https://raw.githubusercontent.com/OTRF/Security-Datasets/master/datasets/atomic/windows/discovery/host/cmd_discover_iexplorer_version_registry.zip\n",
    "zipFileRequest = requests.get(url)\n",
    "zipFile = ZipFile(BytesIO(zipFileRequest.content))\n",
    "datasetJSONPath = zipFile.extract(zipFile.namelist()[0])"
   ]
  },
  {
   "cell_type": "markdown",
   "id": "830a0f46",
   "metadata": {},
   "source": [
    "### Read JSON File"
   ]
  },
  {
   "cell_type": "code",
   "execution_count": null,
   "id": "c10f8738",
   "metadata": {},
   "outputs": [],
   "source": [
    "from pandas.io import json\n",
    "\n",
    "df = json.read_json(path_or_buf=datasetJSONPath, lines=True)"
   ]
  },
  {
   "cell_type": "markdown",
   "id": "3108dbad",
   "metadata": {},
   "source": [
    "### Access Security Events"
   ]
  },
  {
   "cell_type": "code",
   "execution_count": null,
   "id": "f731d536",
   "metadata": {},
   "outputs": [],
   "source": [
    "df.groupby(['Channel']).size().sort_values(ascending=False)"
   ]
  },
  {
   "cell_type": "markdown",
   "id": "3a8fffcf",
   "metadata": {},
   "source": [
    "## References\n",
    "* [https://github.com/redcanaryco/atomic-red-team/blob/master/atomics/T1518/T1518.md#atomic-test-1---find-and-display-internet-explorer-browser-version](https://github.com/redcanaryco/atomic-red-team/blob/master/atomics/T1518/T1518.md#atomic-test-1---find-and-display-internet-explorer-browser-version) "
   ]
  }
 ],
 "metadata": {},
 "nbformat": 4,
 "nbformat_minor": 5
}
