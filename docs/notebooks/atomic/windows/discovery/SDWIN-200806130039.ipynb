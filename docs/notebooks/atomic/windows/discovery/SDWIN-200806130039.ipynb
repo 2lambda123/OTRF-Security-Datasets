{
 "cells": [
  {
   "cell_type": "markdown",
   "id": "40b1b332",
   "metadata": {},
   "source": [
    "# Covenant GetDomainGroup Domain Admins"
   ]
  },
  {
   "cell_type": "markdown",
   "id": "7149dde0",
   "metadata": {},
   "source": [
    "## Metadata"
   ]
  },
  {
   "cell_type": "markdown",
   "id": "5055a319",
   "metadata": {},
   "source": [
    "\n",
    "|                   |    |\n",
    "|:------------------|:---|\n",
    "| Contributors      | Roberto Rodriguez @Cyb3rWard0g |\n",
    "| Creation Date     | 2020/08/06 |\n",
    "| Modification Date | 2020/08/06 |\n",
    "| Tactics           | [TA0007](https://attack.mitre.org/tactics/TA0007) |\n",
    "| Techniques        | [T1069.002](https://attack.mitre.org/techniques/T1069/002) |\n",
    "| Tags              | Domain Groups Enumeration,LDAP SearchRequest |"
   ]
  },
  {
   "cell_type": "markdown",
   "id": "ed2cd65c",
   "metadata": {},
   "source": [
    "## Dataset Description\n",
    "This dataset represents a threat actor enumerating the domain groups via LDAP (i.e. SearchRequest Method) in an environment."
   ]
  },
  {
   "cell_type": "markdown",
   "id": "110032ce",
   "metadata": {},
   "source": [
    "## Datasets Downloads"
   ]
  },
  {
   "cell_type": "markdown",
   "id": "9a85eb8d",
   "metadata": {},
   "source": [
    "\n",
    "| Type | Link   |\n",
    "|:-------------|:-------|\n",
    "| Host | [https://raw.githubusercontent.com/OTRF/Security-Datasets/master/datasets/atomic/windows/discovery/host/covenant_getdomaingroup_ldap_searchrequest_domain_admins.zip](https://raw.githubusercontent.com/OTRF/Security-Datasets/master/datasets/atomic/windows/discovery/host/covenant_getdomaingroup_ldap_searchrequest_domain_admins.zip) |\n",
    "| Network | [https://raw.githubusercontent.com/OTRF/Security-Datasets/master/datasets/atomic/windows/discovery/network/covenant_getdomaingroup_ldap_searchrequest_domain_admins.zip](https://raw.githubusercontent.com/OTRF/Security-Datasets/master/datasets/atomic/windows/discovery/network/covenant_getdomaingroup_ldap_searchrequest_domain_admins.zip) |"
   ]
  },
  {
   "cell_type": "markdown",
   "id": "07ace504",
   "metadata": {},
   "source": [
    "## Simulation Metadata"
   ]
  },
  {
   "cell_type": "markdown",
   "id": "90a6f25f",
   "metadata": {},
   "source": [
    "### Tools"
   ]
  },
  {
   "cell_type": "markdown",
   "id": "a5489625",
   "metadata": {},
   "source": [
    "\n",
    "| type | Name | Module |\n",
    "|:-----|:-----|--------|\n",
    "| C2 | Covenant | [GetDomainGroup](https://github.com/cobbr/Covenant/blob/19e4a17048ade1b854241bb5d938398860ab5981/Covenant/Data/Tasks/SharpSploit.Enumeration.yaml) |"
   ]
  },
  {
   "cell_type": "markdown",
   "id": "18334523",
   "metadata": {},
   "source": [
    "## Adversary View\n",
    "```\n",
    "[09/22/2020 18:10:15 UTC] GetDomainGroup completed\n",
    "(wardog) > GetDomainGroup /identities:\"Domain Admins\"\n",
    "samaccountname: Domain Admins\n",
    "samaccounttype: GROUP_OBJECT\n",
    "distinguishedname: CN=Domain Admins,CN=Users,DC=theshire,DC=local\n",
    "cn: Domain Admins\n",
    "objectsid: S-1-5-21-4228717743-1032521047-1810997296-512\n",
    "grouptype: 0\n",
    "admincount: 1\n",
    "name: Domain Admins\n",
    "description: Designated administrators of the domain\n",
    "memberof: CN=Denied RODC Password Replication Group,CN=Users,DC=theshire,DC=local, CN=Administrators,CN=Builtin,DC=theshire,DC=local\n",
    "useraccountcontrol: 0\n",
    "badpasswordtime: 1/1/0001 12:00:00 AM\n",
    "pwdlastset: 1/1/0001 12:00:00 AM\n",
    "whencreated: 9/17/2020 3:14:46 PM\n",
    "whenchanged: 9/17/2020 3:29:58 PM\n",
    "accountexpires: 1/1/0001 12:00:00 AM\n",
    "lastlogon: 1/1/0001 12:00:00 AM\n",
    "lastlogoff: 1/1/0001 12:00:00 AM\n",
    "objectcategory: CN=Group,CN=Schema,CN=Configuration,DC=theshire,DC=local\n",
    "usnchanged: 12909\n",
    "instancetype: 4\n",
    "objectclass: top, group\n",
    "iscriticalsystemobject: True\n",
    "usncreated: 12345\n",
    "dscorepropagationdata: 9/17/2020 3:29:58 PM, 9/17/2020 3:14:47 PM, 1/1/1601 12:04:16 AM\n",
    "adspath: LDAP://CN=Domain Admins,CN=Users,DC=theshire,DC=local\n",
    "objectguid: bba6ff30-abfc-4166-b209-5e6edd49366b\n",
    "lastlogontimestamp: 1/1/0001 12:00:00 AM\n",
    "```"
   ]
  },
  {
   "cell_type": "markdown",
   "id": "2a14a04b",
   "metadata": {},
   "source": [
    "## Explore Datasets"
   ]
  },
  {
   "cell_type": "markdown",
   "id": "38df155c",
   "metadata": {},
   "source": [
    "### Download & Decompress Dataset"
   ]
  },
  {
   "cell_type": "code",
   "execution_count": null,
   "id": "a3d2b0ee",
   "metadata": {},
   "outputs": [],
   "source": [
    "import requests\n",
    "from zipfile import ZipFile\n",
    "from io import BytesIO\n",
    "\n",
    "url = https://raw.githubusercontent.com/OTRF/Security-Datasets/master/datasets/atomic/windows/discovery/host/covenant_getdomaingroup_ldap_searchrequest_domain_admins.zip\n",
    "zipFileRequest = requests.get(url)\n",
    "zipFile = ZipFile(BytesIO(zipFileRequest.content))\n",
    "datasetJSONPath = zipFile.extract(zipFile.namelist()[0])"
   ]
  },
  {
   "cell_type": "markdown",
   "id": "83d8b47a",
   "metadata": {},
   "source": [
    "### Read JSON File"
   ]
  },
  {
   "cell_type": "code",
   "execution_count": null,
   "id": "e05b3e3f",
   "metadata": {},
   "outputs": [],
   "source": [
    "from pandas.io import json\n",
    "\n",
    "df = json.read_json(path_or_buf=datasetJSONPath, lines=True)"
   ]
  },
  {
   "cell_type": "markdown",
   "id": "5b162b01",
   "metadata": {},
   "source": [
    "### Access Security Events"
   ]
  },
  {
   "cell_type": "code",
   "execution_count": null,
   "id": "488e81c1",
   "metadata": {},
   "outputs": [],
   "source": [
    "df.groupby(['Channel']).size().sort_values(ascending=False)"
   ]
  },
  {
   "cell_type": "markdown",
   "id": "464af9b5",
   "metadata": {},
   "source": [
    "## References\n",
    "* [https://blog.f-secure.com/endpoint-detection-of-remote-service-creation-and-psexec/](https://blog.f-secure.com/endpoint-detection-of-remote-service-creation-and-psexec/) "
   ]
  }
 ],
 "metadata": {},
 "nbformat": 4,
 "nbformat_minor": 5
}
