{
 "cells": [
  {
   "cell_type": "markdown",
   "id": "e5279712",
   "metadata": {},
   "source": [
    "# PurpleSharp PE Injection CreateRemoteThread"
   ]
  },
  {
   "cell_type": "markdown",
   "id": "d7c123ac",
   "metadata": {},
   "source": [
    "## Metadata"
   ]
  },
  {
   "cell_type": "markdown",
   "id": "354661cc",
   "metadata": {},
   "source": [
    "\n",
    "|                   |    |\n",
    "|:------------------|:---|\n",
    "| Contributors      | Roberto Rodriguez @Cyb3rWard0g |\n",
    "| Creation Date     | 2020/10/23 |\n",
    "| Modification Date | 2020/10/23 |\n",
    "| Tactics           | [TA0004](https://attack.mitre.org/tactics/TA0004),[TA0005](https://attack.mitre.org/tactics/TA0005) |\n",
    "| Techniques        | [T1055.002](https://attack.mitre.org/techniques/T1055/002) |\n",
    "| Tags              | None |"
   ]
  },
  {
   "cell_type": "markdown",
   "id": "b06985c5",
   "metadata": {},
   "source": [
    "## Dataset Description\n",
    "This dataset represents threat actors injecting portable executables (PE) into processes via APIs such asVirtualAllocEx and WriteProcessMemory and running it on the virtual address space of another process via the CreateRemoteThread API."
   ]
  },
  {
   "cell_type": "markdown",
   "id": "3e089a0f",
   "metadata": {},
   "source": [
    "## Datasets Downloads"
   ]
  },
  {
   "cell_type": "markdown",
   "id": "db845144",
   "metadata": {},
   "source": [
    "\n",
    "| Type | Link   |\n",
    "|:-------------|:-------|\n",
    "| Host | [https://raw.githubusercontent.com/OTRF/Security-Datasets/master/datasets/atomic/windows/defense_evasion/host/purplesharp_pe_injection_createremotethread.zip](https://raw.githubusercontent.com/OTRF/Security-Datasets/master/datasets/atomic/windows/defense_evasion/host/purplesharp_pe_injection_createremotethread.zip) |"
   ]
  },
  {
   "cell_type": "markdown",
   "id": "b152147f",
   "metadata": {},
   "source": [
    "## Simulation Metadata"
   ]
  },
  {
   "cell_type": "markdown",
   "id": "7355a74b",
   "metadata": {},
   "source": [
    "### Tools"
   ]
  },
  {
   "cell_type": "markdown",
   "id": "c8a17709",
   "metadata": {},
   "source": [
    "\n",
    "| type | Name | Module |\n",
    "|:-----|:-----|--------|\n",
    "| Manual | Cmd | [Cmd](https://github.com/mvelazc0/PurpleSharp/blob/master/PurpleSharp/Simulations/DefenseEvasion.cs#L216-L238) |"
   ]
  },
  {
   "cell_type": "markdown",
   "id": "1a971ef5",
   "metadata": {},
   "source": [
    "## Adversary View\n",
    "```\n",
    "C:\\Users\\wardog\\Desktop>PurpleSharp.exe /t T1055.002\n",
    "10/23/2020 03:12:04 [*]  Starting T1055.002 Simulation on WORKSTATION5\n",
    "10/23/2020 03:12:04 [*]  Simulator running from C:\\Users\\wardog\\Desktop\\PurpleSharp.exe with PID:8972 as WORKSTATION5\\wardog\n",
    "10/23/2020 03:12:04 [*]  Process notepad.exe with PID:9908 started for the injection\n",
    "10/23/2020 03:12:04 [*]  Calling OpenProcess on PID:9908\n",
    "10/23/2020 03:12:04 [*]  Calling VirtualAllocEx on PID:9908\n",
    "10/23/2020 03:12:04 [*]  Calling WriteProcessMemory on PID:9908\n",
    "10/23/2020 03:12:04 [*]  Calling CreateRemoteThread on PID:9908\n",
    "10/23/2020 03:12:04 [*]  Simulation Finished\n",
    "10/23/2020 03:12:04 [*]  Playbook Finished\n",
    "\n",
    "C:\\Users\\wardog\\Desktop>\n",
    "```"
   ]
  },
  {
   "cell_type": "markdown",
   "id": "850812ba",
   "metadata": {},
   "source": [
    "## Explore Datasets"
   ]
  },
  {
   "cell_type": "markdown",
   "id": "fa8e5c73",
   "metadata": {},
   "source": [
    "### Download & Decompress Dataset"
   ]
  },
  {
   "cell_type": "code",
   "execution_count": null,
   "id": "102ee8ff",
   "metadata": {},
   "outputs": [],
   "source": [
    "import requests\n",
    "from zipfile import ZipFile\n",
    "from io import BytesIO\n",
    "\n",
    "url = https://raw.githubusercontent.com/OTRF/Security-Datasets/master/datasets/atomic/windows/defense_evasion/host/purplesharp_pe_injection_createremotethread.zip\n",
    "zipFileRequest = requests.get(url)\n",
    "zipFile = ZipFile(BytesIO(zipFileRequest.content))\n",
    "datasetJSONPath = zipFile.extract(zipFile.namelist()[0])"
   ]
  },
  {
   "cell_type": "markdown",
   "id": "f2969b31",
   "metadata": {},
   "source": [
    "### Read JSON File"
   ]
  },
  {
   "cell_type": "code",
   "execution_count": null,
   "id": "b8a2cb27",
   "metadata": {},
   "outputs": [],
   "source": [
    "from pandas.io import json\n",
    "\n",
    "df = json.read_json(path_or_buf=datasetJSONPath, lines=True)"
   ]
  },
  {
   "cell_type": "markdown",
   "id": "0bc345f9",
   "metadata": {},
   "source": [
    "### Access Security Events"
   ]
  },
  {
   "cell_type": "code",
   "execution_count": null,
   "id": "dedec29e",
   "metadata": {},
   "outputs": [],
   "source": [
    "df.groupby(['Channel']).size().sort_values(ascending=False)"
   ]
  },
  {
   "cell_type": "markdown",
   "id": "38b929f7",
   "metadata": {},
   "source": [
    "## References\n",
    "* [https://github.com/mvelazc0/PurpleSharp/blob/master/PurpleSharp/Simulations/DefenseEvasion.cs#L216-L238](https://github.com/mvelazc0/PurpleSharp/blob/master/PurpleSharp/Simulations/DefenseEvasion.cs#L216-L238) "
   ]
  }
 ],
 "metadata": {},
 "nbformat": 4,
 "nbformat_minor": 5
}
