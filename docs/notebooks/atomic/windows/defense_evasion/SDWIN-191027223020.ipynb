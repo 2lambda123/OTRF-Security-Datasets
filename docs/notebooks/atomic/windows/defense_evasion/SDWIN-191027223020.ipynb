{
 "cells": [
  {
   "cell_type": "markdown",
   "id": "58289eda",
   "metadata": {},
   "source": [
    "# Covenant ShellCmd InstallUtil"
   ]
  },
  {
   "cell_type": "markdown",
   "id": "a0044a4b",
   "metadata": {},
   "source": [
    "## Metadata"
   ]
  },
  {
   "cell_type": "markdown",
   "id": "9644edcd",
   "metadata": {},
   "source": [
    "\n",
    "|                   |    |\n",
    "|:------------------|:---|\n",
    "| Contributors      | Roberto Rodriguez @Cyb3rWard0g |\n",
    "| Creation Date     | 2019/10/27 |\n",
    "| Modification Date | 2020/09/19 |\n",
    "| Tactics           | [TA0005](https://attack.mitre.org/tactics/TA0005),[TA0002](https://attack.mitre.org/tactics/TA0002) |\n",
    "| Techniques        | [T1218.004](https://attack.mitre.org/techniques/T1218/004) |\n",
    "| Tags              | InstallUtil,LOLBin |"
   ]
  },
  {
   "cell_type": "markdown",
   "id": "c3450b1f",
   "metadata": {},
   "source": [
    "## Dataset Description\n",
    "This dataset represents adversaries proxy executing code through InstallUtil, a trusted Windows utility."
   ]
  },
  {
   "cell_type": "markdown",
   "id": "73af28cd",
   "metadata": {},
   "source": [
    "## Datasets Downloads"
   ]
  },
  {
   "cell_type": "markdown",
   "id": "ff52cbe0",
   "metadata": {},
   "source": [
    "\n",
    "| Type | Link   |\n",
    "|:-------------|:-------|\n",
    "| Host | [https://raw.githubusercontent.com/OTRF/Security-Datasets/master/datasets/atomic/windows/defense_evasion/host/covenant_installutil.zip](https://raw.githubusercontent.com/OTRF/Security-Datasets/master/datasets/atomic/windows/defense_evasion/host/covenant_installutil.zip) |"
   ]
  },
  {
   "cell_type": "markdown",
   "id": "5b33c6bb",
   "metadata": {},
   "source": [
    "## Simulation Metadata"
   ]
  },
  {
   "cell_type": "markdown",
   "id": "d030a259",
   "metadata": {},
   "source": [
    "### Tools"
   ]
  },
  {
   "cell_type": "markdown",
   "id": "b9b8f488",
   "metadata": {},
   "source": [
    "\n",
    "| type | Name | Module |\n",
    "|:-----|:-----|--------|\n",
    "| C2 | Covenant | [ShellCmd](https://github.com/cobbr/Covenant/blob/7555b19ffb9401c0e37094c25e404a640b1688d7/Covenant/Data/Tasks/SharpSploit.Execution.yaml#L96) |"
   ]
  },
  {
   "cell_type": "markdown",
   "id": "a0185592",
   "metadata": {},
   "source": [
    "## Adversary View\n",
    "```\n",
    "Upload Task: GruntHTTP.dll -> C:\\ProgramData\\GruntHTTP.dll\n",
    "(wardog) > ShellCmd /shellcommand:\"C:\\Windows\\Microsoft.NET\\Framework64\\v4.0.30319\\InstallUtil.exe /logfile= /LogToConsole=false /u c:\\ProgramData\\GruntHTTP.dll\"\n",
    "```"
   ]
  },
  {
   "cell_type": "markdown",
   "id": "0c70e7f0",
   "metadata": {},
   "source": [
    "## Explore Datasets"
   ]
  },
  {
   "cell_type": "markdown",
   "id": "8a9b7010",
   "metadata": {},
   "source": [
    "### Download & Decompress Dataset"
   ]
  },
  {
   "cell_type": "code",
   "execution_count": null,
   "id": "092fd5ee",
   "metadata": {},
   "outputs": [],
   "source": [
    "import requests\n",
    "from zipfile import ZipFile\n",
    "from io import BytesIO\n",
    "\n",
    "url = https://raw.githubusercontent.com/OTRF/Security-Datasets/master/datasets/atomic/windows/defense_evasion/host/covenant_installutil.zip\n",
    "zipFileRequest = requests.get(url)\n",
    "zipFile = ZipFile(BytesIO(zipFileRequest.content))\n",
    "datasetJSONPath = zipFile.extract(zipFile.namelist()[0])"
   ]
  },
  {
   "cell_type": "markdown",
   "id": "c4a27787",
   "metadata": {},
   "source": [
    "### Read JSON File"
   ]
  },
  {
   "cell_type": "code",
   "execution_count": null,
   "id": "b8b2ea56",
   "metadata": {},
   "outputs": [],
   "source": [
    "from pandas.io import json\n",
    "\n",
    "df = json.read_json(path_or_buf=datasetJSONPath, lines=True)"
   ]
  },
  {
   "cell_type": "markdown",
   "id": "6bb054c7",
   "metadata": {},
   "source": [
    "### Access Security Events"
   ]
  },
  {
   "cell_type": "code",
   "execution_count": null,
   "id": "79c47fb2",
   "metadata": {},
   "outputs": [],
   "source": [
    "df.groupby(['Channel']).size().sort_values(ascending=False)"
   ]
  },
  {
   "cell_type": "markdown",
   "id": "5625e50a",
   "metadata": {},
   "source": [
    "## References\n",
    "* [https://www.elastic.co/blog/ten-process-injection-techniques-technical-survey-common-and-trending-process](https://www.elastic.co/blog/ten-process-injection-techniques-technical-survey-common-and-trending-process) "
   ]
  }
 ],
 "metadata": {},
 "nbformat": 4,
 "nbformat_minor": 5
}
