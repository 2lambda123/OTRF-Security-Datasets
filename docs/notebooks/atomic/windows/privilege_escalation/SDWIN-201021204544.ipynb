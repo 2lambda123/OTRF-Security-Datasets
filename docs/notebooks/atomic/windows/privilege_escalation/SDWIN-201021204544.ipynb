{
 "cells": [
  {
   "cell_type": "markdown",
   "id": "b1505265",
   "metadata": {},
   "source": [
    "# Service Modification Fax"
   ]
  },
  {
   "cell_type": "markdown",
   "id": "86a4a262",
   "metadata": {},
   "source": [
    "## Metadata"
   ]
  },
  {
   "cell_type": "markdown",
   "id": "561e2524",
   "metadata": {},
   "source": [
    "\n",
    "|                   |    |\n",
    "|:------------------|:---|\n",
    "| Contributors      | Roberto Rodriguez @Cyb3rWard0g |\n",
    "| Creation Date     | 2020/10/21 |\n",
    "| Modification Date | 2020/10/21 |\n",
    "| Tactics           | [TA0003](https://attack.mitre.org/tactics/TA0003),[TA0004](https://attack.mitre.org/tactics/TA0004) |\n",
    "| Techniques        | [T1543.003](https://attack.mitre.org/techniques/T1543/003) |\n",
    "| Tags              | art.ed366cde-7d12-49df-a833-671904770b9f |"
   ]
  },
  {
   "cell_type": "markdown",
   "id": "2e0dab7f",
   "metadata": {},
   "source": [
    "## Dataset Description\n",
    "This dataset represents adversaries modifying a local service to execute powershell."
   ]
  },
  {
   "cell_type": "markdown",
   "id": "728758ad",
   "metadata": {},
   "source": [
    "## Datasets Downloads"
   ]
  },
  {
   "cell_type": "markdown",
   "id": "dbb6901a",
   "metadata": {},
   "source": [
    "\n",
    "| Type | Link   |\n",
    "|:-------------|:-------|\n",
    "| Host | [https://raw.githubusercontent.com/OTRF/Security-Datasets/master/datasets/atomic/windows/privilege_escalation/host/cmd_service_mod_fax.zip](https://raw.githubusercontent.com/OTRF/Security-Datasets/master/datasets/atomic/windows/privilege_escalation/host/cmd_service_mod_fax.zip) |"
   ]
  },
  {
   "cell_type": "markdown",
   "id": "f3bb0c95",
   "metadata": {},
   "source": [
    "## Simulation Metadata"
   ]
  },
  {
   "cell_type": "markdown",
   "id": "c189b882",
   "metadata": {},
   "source": [
    "### Tools"
   ]
  },
  {
   "cell_type": "markdown",
   "id": "40b7ea31",
   "metadata": {},
   "source": [
    "\n",
    "| type | Name | Module |\n",
    "|:-----|:-----|--------|\n",
    "| Manual | cmd | [cmd](https://github.com/redcanaryco/atomic-red-team/blob/master/atomics/T1543.003/T1543.003.md#atomic-test-1---modify-fax-service-to-run-powershell) |"
   ]
  },
  {
   "cell_type": "markdown",
   "id": "00ade0e8",
   "metadata": {},
   "source": [
    "## Adversary View\n",
    "```\n",
    "sc config Fax binPath= \"C:\\windows\\system32\\WindowsPowerShell\\v1.0\\powershell.exe -noexit -c \\\"write-host 'T1543.003 Test'\\\"\"\n",
    "sc start Fax\n",
    "```"
   ]
  },
  {
   "cell_type": "markdown",
   "id": "ac5d1e12",
   "metadata": {},
   "source": [
    "## Explore Datasets"
   ]
  },
  {
   "cell_type": "markdown",
   "id": "a9140d37",
   "metadata": {},
   "source": [
    "### Download & Decompress Dataset"
   ]
  },
  {
   "cell_type": "code",
   "execution_count": null,
   "id": "2431c639",
   "metadata": {},
   "outputs": [],
   "source": [
    "import requests\n",
    "from zipfile import ZipFile\n",
    "from io import BytesIO\n",
    "\n",
    "url = https://raw.githubusercontent.com/OTRF/Security-Datasets/master/datasets/atomic/windows/privilege_escalation/host/cmd_service_mod_fax.zip\n",
    "zipFileRequest = requests.get(url)\n",
    "zipFile = ZipFile(BytesIO(zipFileRequest.content))\n",
    "datasetJSONPath = zipFile.extract(zipFile.namelist()[0])"
   ]
  },
  {
   "cell_type": "markdown",
   "id": "e100cb24",
   "metadata": {},
   "source": [
    "### Read JSON File"
   ]
  },
  {
   "cell_type": "code",
   "execution_count": null,
   "id": "80c12274",
   "metadata": {},
   "outputs": [],
   "source": [
    "from pandas.io import json\n",
    "\n",
    "df = json.read_json(path_or_buf=datasetJSONPath, lines=True)"
   ]
  },
  {
   "cell_type": "markdown",
   "id": "bd223cc3",
   "metadata": {},
   "source": [
    "### Access Security Events"
   ]
  },
  {
   "cell_type": "code",
   "execution_count": null,
   "id": "44922124",
   "metadata": {},
   "outputs": [],
   "source": [
    "df.groupby(['Channel']).size().sort_values(ascending=False)"
   ]
  },
  {
   "cell_type": "markdown",
   "id": "b9882ded",
   "metadata": {},
   "source": [
    "## References\n",
    "* [https://github.com/redcanaryco/atomic-red-team/blob/master/atomics/T1543.003/T1543.003.md#atomic-test-1---modify-fax-service-to-run-powershell](https://github.com/redcanaryco/atomic-red-team/blob/master/atomics/T1543.003/T1543.003.md#atomic-test-1---modify-fax-service-to-run-powershell) "
   ]
  }
 ],
 "metadata": {},
 "nbformat": 4,
 "nbformat_minor": 5
}
