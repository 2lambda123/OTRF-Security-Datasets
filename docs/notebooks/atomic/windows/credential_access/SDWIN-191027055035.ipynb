{
 "cells": [
  {
   "cell_type": "markdown",
   "id": "51f0ebd2",
   "metadata": {},
   "source": [
    "# RDP TaskManager LSASS Dump"
   ]
  },
  {
   "cell_type": "markdown",
   "id": "57e8f3cc",
   "metadata": {},
   "source": [
    "## Metadata"
   ]
  },
  {
   "cell_type": "markdown",
   "id": "c1b371f2",
   "metadata": {},
   "source": [
    "\n",
    "|                   |    |\n",
    "|:------------------|:---|\n",
    "| Contributors      | Roberto Rodriguez @Cyb3rWard0g |\n",
    "| Creation Date     | 2019/10/27 |\n",
    "| Modification Date | 2020/09/21 |\n",
    "| Tactics           | [TA0006](https://attack.mitre.org/tactics/TA0006) |\n",
    "| Techniques        | [T1003.001](https://attack.mitre.org/techniques/T1003/001) |\n",
    "| Tags              | RDP Interactive |"
   ]
  },
  {
   "cell_type": "markdown",
   "id": "1bb7a992",
   "metadata": {},
   "source": [
    "## Dataset Description\n",
    "This dataset represents adversaries using RDP and task manager interactively and dump the memory space of lsass."
   ]
  },
  {
   "cell_type": "markdown",
   "id": "8cfd918c",
   "metadata": {},
   "source": [
    "## Datasets Downloads"
   ]
  },
  {
   "cell_type": "markdown",
   "id": "12030bb4",
   "metadata": {},
   "source": [
    "\n",
    "| Type | Link   |\n",
    "|:-------------|:-------|\n",
    "| Host | [https://raw.githubusercontent.com/OTRF/Security-Datasets/master/datasets/atomic/windows/credential_access/host/rdp_interactive_taskmanager_lsass_dump.zip](https://raw.githubusercontent.com/OTRF/Security-Datasets/master/datasets/atomic/windows/credential_access/host/rdp_interactive_taskmanager_lsass_dump.zip) |"
   ]
  },
  {
   "cell_type": "markdown",
   "id": "982412cc",
   "metadata": {},
   "source": [
    "## Simulation Metadata"
   ]
  },
  {
   "cell_type": "markdown",
   "id": "232d762a",
   "metadata": {},
   "source": [
    "### Tools"
   ]
  },
  {
   "cell_type": "markdown",
   "id": "261c3de6",
   "metadata": {},
   "source": [
    "\n",
    "| type | Name | Module |\n",
    "|:-----|:-----|--------|\n",
    "| Interactive Session | RDP | [None](None) |"
   ]
  },
  {
   "cell_type": "markdown",
   "id": "19d4e3c4",
   "metadata": {},
   "source": [
    "## Adversary View\n",
    "```\n",
    "RDP to victim\n",
    "Open Windows Task Manager as Administrator\n",
    "Select lsass.exe\n",
    "Right-click on lsass.exe and select “Create dump file”\n",
    "```"
   ]
  },
  {
   "cell_type": "markdown",
   "id": "2d305111",
   "metadata": {},
   "source": [
    "## Explore Datasets"
   ]
  },
  {
   "cell_type": "markdown",
   "id": "d9f23f28",
   "metadata": {},
   "source": [
    "### Download & Decompress Dataset"
   ]
  },
  {
   "cell_type": "code",
   "execution_count": null,
   "id": "73418254",
   "metadata": {},
   "outputs": [],
   "source": [
    "import requests\n",
    "from zipfile import ZipFile\n",
    "from io import BytesIO\n",
    "\n",
    "url = https://raw.githubusercontent.com/OTRF/Security-Datasets/master/datasets/atomic/windows/credential_access/host/rdp_interactive_taskmanager_lsass_dump.zip\n",
    "zipFileRequest = requests.get(url)\n",
    "zipFile = ZipFile(BytesIO(zipFileRequest.content))\n",
    "datasetJSONPath = zipFile.extract(zipFile.namelist()[0])"
   ]
  },
  {
   "cell_type": "markdown",
   "id": "0c30e541",
   "metadata": {},
   "source": [
    "### Read JSON File"
   ]
  },
  {
   "cell_type": "code",
   "execution_count": null,
   "id": "5fcfdec2",
   "metadata": {},
   "outputs": [],
   "source": [
    "from pandas.io import json\n",
    "\n",
    "df = json.read_json(path_or_buf=datasetJSONPath, lines=True)"
   ]
  },
  {
   "cell_type": "markdown",
   "id": "feaad25b",
   "metadata": {},
   "source": [
    "### Access Security Events"
   ]
  },
  {
   "cell_type": "code",
   "execution_count": null,
   "id": "8cf84315",
   "metadata": {},
   "outputs": [],
   "source": [
    "df.groupby(['Channel']).size().sort_values(ascending=False)"
   ]
  },
  {
   "cell_type": "markdown",
   "id": "d45c4e61",
   "metadata": {},
   "source": [
    "## References\n",
    "* [https://www.elastic.co/blog/ten-process-injection-techniques-technical-survey-common-and-trending-process](https://www.elastic.co/blog/ten-process-injection-techniques-technical-survey-common-and-trending-process) "
   ]
  }
 ],
 "metadata": {},
 "nbformat": 4,
 "nbformat_minor": 5
}
