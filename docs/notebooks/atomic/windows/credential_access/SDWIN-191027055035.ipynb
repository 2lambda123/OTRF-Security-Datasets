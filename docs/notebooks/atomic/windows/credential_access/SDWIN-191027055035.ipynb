{
 "cells": [
  {
   "cell_type": "markdown",
   "id": "4804c7e3",
   "metadata": {},
   "source": [
    "# RDP TaskManager LSASS Dump"
   ]
  },
  {
   "cell_type": "markdown",
   "id": "81fd104c",
   "metadata": {},
   "source": [
    "## Metadata"
   ]
  },
  {
   "cell_type": "markdown",
   "id": "9c340ef4",
   "metadata": {},
   "source": [
    "\n",
    "|                   |    |\n",
    "|:------------------|:---|\n",
    "| Contributors      | Roberto Rodriguez @Cyb3rWard0g |\n",
    "| Creation Date     | 2019/10/27 |\n",
    "| Modification Date | 2020/09/21 |\n",
    "| Tactics           | [TA0006](https://attack.mitre.org/tactics/TA0006) |\n",
    "| Techniques        | [T1003.001](https://attack.mitre.org/techniques/T1003/001) |\n",
    "| Tags              | RDP Interactive |"
   ]
  },
  {
   "cell_type": "markdown",
   "id": "d611d261",
   "metadata": {},
   "source": [
    "## Dataset Description\n",
    "This dataset represents adversaries using RDP and task manager interactively and dump the memory space of lsass."
   ]
  },
  {
   "cell_type": "markdown",
   "id": "1299c012",
   "metadata": {},
   "source": [
    "## Datasets Downloads"
   ]
  },
  {
   "cell_type": "markdown",
   "id": "0fe94ac9",
   "metadata": {},
   "source": [
    "\n",
    "| Type | Link   |\n",
    "|:-------------|:-------|\n",
    "| Host | [https://raw.githubusercontent.com/OTRF/Security-Datasets/master/datasets/atomic/windows/credential_access/host/rdp_interactive_taskmanager_lsass_dump.zip](https://raw.githubusercontent.com/OTRF/Security-Datasets/master/datasets/atomic/windows/credential_access/host/rdp_interactive_taskmanager_lsass_dump.zip) |"
   ]
  },
  {
   "cell_type": "markdown",
   "id": "b8ef279d",
   "metadata": {},
   "source": [
    "## Simulation Metadata"
   ]
  },
  {
   "cell_type": "markdown",
   "id": "27c30742",
   "metadata": {},
   "source": [
    "### Tools"
   ]
  },
  {
   "cell_type": "markdown",
   "id": "7a0415be",
   "metadata": {},
   "source": [
    "\n",
    "| type | Name | Module |\n",
    "|:-----|:-----|--------|\n",
    "| Interactive Session | RDP | [None](None) |"
   ]
  },
  {
   "cell_type": "markdown",
   "id": "7821cda2",
   "metadata": {},
   "source": [
    "## Adversary View\n",
    "```\n",
    "RDP to victim\n",
    "Open Windows Task Manager as Administrator\n",
    "Select lsass.exe\n",
    "Right-click on lsass.exe and select “Create dump file”\n",
    "```"
   ]
  },
  {
   "cell_type": "markdown",
   "id": "99ed2f61",
   "metadata": {},
   "source": [
    "## Explore Datasets"
   ]
  },
  {
   "cell_type": "markdown",
   "id": "b8072a15",
   "metadata": {},
   "source": [
    "### Download & Decompress Dataset"
   ]
  },
  {
   "cell_type": "code",
   "execution_count": null,
   "id": "e7642376",
   "metadata": {},
   "outputs": [],
   "source": [
    "import requests\n",
    "from zipfile import ZipFile\n",
    "from io import BytesIO\n",
    "\n",
    "url = https://raw.githubusercontent.com/OTRF/Security-Datasets/master/datasets/atomic/windows/credential_access/host/rdp_interactive_taskmanager_lsass_dump.zip\n",
    "zipFileRequest = requests.get(url)\n",
    "zipFile = ZipFile(BytesIO(zipFileRequest.content))\n",
    "datasetJSONPath = zipFile.extract(zipFile.namelist()[0])"
   ]
  },
  {
   "cell_type": "markdown",
   "id": "b44f6c0c",
   "metadata": {},
   "source": [
    "### Read JSON File"
   ]
  },
  {
   "cell_type": "code",
   "execution_count": null,
   "id": "b024e4b9",
   "metadata": {},
   "outputs": [],
   "source": [
    "from pandas.io import json\n",
    "\n",
    "df = json.read_json(path_or_buf=datasetJSONPath, lines=True)"
   ]
  },
  {
   "cell_type": "markdown",
   "id": "ac0337ed",
   "metadata": {},
   "source": [
    "### Access Security Events"
   ]
  },
  {
   "cell_type": "code",
   "execution_count": null,
   "id": "c2d775a0",
   "metadata": {},
   "outputs": [],
   "source": [
    "df.groupby(['Channel']).size().sort_values(ascending=False)"
   ]
  },
  {
   "cell_type": "markdown",
   "id": "db8969b0",
   "metadata": {},
   "source": [
    "## References\n",
    "* [https://www.elastic.co/blog/ten-process-injection-techniques-technical-survey-common-and-trending-process](https://www.elastic.co/blog/ten-process-injection-techniques-technical-survey-common-and-trending-process) "
   ]
  }
 ],
 "metadata": {},
 "nbformat": 4,
 "nbformat_minor": 5
}
