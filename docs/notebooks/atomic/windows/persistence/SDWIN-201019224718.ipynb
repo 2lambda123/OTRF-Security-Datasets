{
 "cells": [
  {
   "cell_type": "markdown",
   "id": "110a7e8a",
   "metadata": {},
   "source": [
    "# Logon Scripts via UserInitMprLogonScript"
   ]
  },
  {
   "cell_type": "markdown",
   "id": "6fb610a2",
   "metadata": {},
   "source": [
    "## Metadata"
   ]
  },
  {
   "cell_type": "markdown",
   "id": "1bbe5a8a",
   "metadata": {},
   "source": [
    "\n",
    "|                   |    |\n",
    "|:------------------|:---|\n",
    "| Contributors      | Roberto Rodriguez @Cyb3rWard0g |\n",
    "| Creation Date     | 2020/10/19 |\n",
    "| Modification Date | 2020/10/19 |\n",
    "| Tactics           | [TA0003](https://attack.mitre.org/tactics/TA0003) |\n",
    "| Techniques        | [T1037.001](https://attack.mitre.org/techniques/T1037/001) |\n",
    "| Tags              | art.d6042746-07d4-4c92-9ad8-e644c114a231 |"
   ]
  },
  {
   "cell_type": "markdown",
   "id": "cc110c5a",
   "metadata": {},
   "source": [
    "## Dataset Description\n",
    "This dataset represents adversaries leveraging logon initialization scripts to achieve persistence via the UserInitMprLogonScript user environment."
   ]
  },
  {
   "cell_type": "markdown",
   "id": "a16d3b71",
   "metadata": {},
   "source": [
    "## Datasets Downloads"
   ]
  },
  {
   "cell_type": "markdown",
   "id": "43b73648",
   "metadata": {},
   "source": [
    "\n",
    "| Type | Link   |\n",
    "|:-------------|:-------|\n",
    "| Host | [https://raw.githubusercontent.com/OTRF/Security-Datasets/master/datasets/atomic/windows/persistence/host/cmd_userinitmprlogonscript_batch.zip](https://raw.githubusercontent.com/OTRF/Security-Datasets/master/datasets/atomic/windows/persistence/host/cmd_userinitmprlogonscript_batch.zip) |"
   ]
  },
  {
   "cell_type": "markdown",
   "id": "a6099de0",
   "metadata": {},
   "source": [
    "## Simulation Metadata"
   ]
  },
  {
   "cell_type": "markdown",
   "id": "73f57c15",
   "metadata": {},
   "source": [
    "### Tools"
   ]
  },
  {
   "cell_type": "markdown",
   "id": "9790de4f",
   "metadata": {},
   "source": [
    "\n",
    "| type | Name | Module |\n",
    "|:-----|:-----|--------|\n",
    "| Manual | Cmd | [Cmd](https://github.com/redcanaryco/atomic-red-team/blob/master/atomics/T1037.001/T1037.001.md) |"
   ]
  },
  {
   "cell_type": "markdown",
   "id": "f458f6c6",
   "metadata": {},
   "source": [
    "## Adversary View\n",
    "```\n",
    "Microsoft Windows [Version 10.0.18363.1139]\n",
    "(c) 2019 Microsoft Corporation. All rights reserved.\n",
    "\n",
    "C:\\Users\\wardog>echo \"echo Art Logon Script atomic test was successful. >> %USERPROFILE%\\desktop\\T1037.001-log.txt\" > %temp%\\art.bat\n",
    "\n",
    "C:\\Users\\wardog>REG.exe ADD HKCU\\Environment /v UserInitMprLogonScript /t REG_SZ /d %temp%\\art.bat /f\n",
    "The operation completed successfully.\n",
    "```"
   ]
  },
  {
   "cell_type": "markdown",
   "id": "db3b6eda",
   "metadata": {},
   "source": [
    "## Explore Datasets"
   ]
  },
  {
   "cell_type": "markdown",
   "id": "b71f27d2",
   "metadata": {},
   "source": [
    "### Download & Decompress Dataset"
   ]
  },
  {
   "cell_type": "code",
   "execution_count": null,
   "id": "c8fb8a37",
   "metadata": {},
   "outputs": [],
   "source": [
    "import requests\n",
    "from zipfile import ZipFile\n",
    "from io import BytesIO\n",
    "\n",
    "url = https://raw.githubusercontent.com/OTRF/Security-Datasets/master/datasets/atomic/windows/persistence/host/cmd_userinitmprlogonscript_batch.zip\n",
    "zipFileRequest = requests.get(url)\n",
    "zipFile = ZipFile(BytesIO(zipFileRequest.content))\n",
    "datasetJSONPath = zipFile.extract(zipFile.namelist()[0])"
   ]
  },
  {
   "cell_type": "markdown",
   "id": "f1b857b6",
   "metadata": {},
   "source": [
    "### Read JSON File"
   ]
  },
  {
   "cell_type": "code",
   "execution_count": null,
   "id": "6064e6fb",
   "metadata": {},
   "outputs": [],
   "source": [
    "from pandas.io import json\n",
    "\n",
    "df = json.read_json(path_or_buf=datasetJSONPath, lines=True)"
   ]
  },
  {
   "cell_type": "markdown",
   "id": "6c6c5408",
   "metadata": {},
   "source": [
    "### Access Security Events"
   ]
  },
  {
   "cell_type": "code",
   "execution_count": null,
   "id": "c5a58a1b",
   "metadata": {},
   "outputs": [],
   "source": [
    "df.groupby(['Channel']).size().sort_values(ascending=False)"
   ]
  },
  {
   "cell_type": "markdown",
   "id": "fca7a82a",
   "metadata": {},
   "source": [
    "## References\n",
    "* [https://github.com/redcanaryco/atomic-red-team/blob/master/atomics/T1037.001/T1037.001.md](https://github.com/redcanaryco/atomic-red-team/blob/master/atomics/T1037.001/T1037.001.md) "
   ]
  }
 ],
 "metadata": {},
 "nbformat": 4,
 "nbformat_minor": 5
}
