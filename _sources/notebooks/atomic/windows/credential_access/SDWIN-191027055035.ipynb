{
 "cells": [
  {
   "cell_type": "markdown",
   "id": "7b77d5d7",
   "metadata": {},
   "source": [
    "# RDP TaskManager LSASS Dump"
   ]
  },
  {
   "cell_type": "markdown",
   "id": "3b8db3d6",
   "metadata": {},
   "source": [
    "## Metadata"
   ]
  },
  {
   "cell_type": "markdown",
   "id": "ad5b0c6b",
   "metadata": {},
   "source": [
    "\n",
    "|                   |    |\n",
    "|:------------------|:---|\n",
    "| Contributors      | Roberto Rodriguez @Cyb3rWard0g |\n",
    "| Creation Date     | 2019/10/27 |\n",
    "| Modification Date | 2020/09/21 |\n",
    "| Tactics           | [TA0006](https://attack.mitre.org/tactics/TA0006) |\n",
    "| Techniques        | [T1003.001](https://attack.mitre.org/techniques/T1003/001) |\n",
    "| Tags              | RDP Interactive |"
   ]
  },
  {
   "cell_type": "markdown",
   "id": "9c928574",
   "metadata": {},
   "source": [
    "## Dataset Description\n",
    "This dataset represents adversaries using RDP and task manager interactively and dump the memory space of lsass."
   ]
  },
  {
   "cell_type": "markdown",
   "id": "e49633aa",
   "metadata": {},
   "source": [
    "## Datasets Downloads"
   ]
  },
  {
   "cell_type": "markdown",
   "id": "c104a9bf",
   "metadata": {},
   "source": [
    "\n",
    "| Type | Link   |\n",
    "|:-------------|:-------|\n",
    "| Host | [https://raw.githubusercontent.com/OTRF/Security-Datasets/master/datasets/atomic/windows/credential_access/host/rdp_interactive_taskmanager_lsass_dump.zip](https://raw.githubusercontent.com/OTRF/Security-Datasets/master/datasets/atomic/windows/credential_access/host/rdp_interactive_taskmanager_lsass_dump.zip) |"
   ]
  },
  {
   "cell_type": "markdown",
   "id": "eb07cdf7",
   "metadata": {},
   "source": [
    "## Simulation Metadata"
   ]
  },
  {
   "cell_type": "markdown",
   "id": "66542401",
   "metadata": {},
   "source": [
    "### Tools"
   ]
  },
  {
   "cell_type": "markdown",
   "id": "793f6420",
   "metadata": {},
   "source": [
    "\n",
    "| type | Name | Module |\n",
    "|:-----|:-----|--------|\n",
    "| Interactive Session | RDP | [None](None) |"
   ]
  },
  {
   "cell_type": "markdown",
   "id": "7779de23",
   "metadata": {},
   "source": [
    "## Adversary View\n",
    "```\n",
    "RDP to victim\n",
    "Open Windows Task Manager as Administrator\n",
    "Select lsass.exe\n",
    "Right-click on lsass.exe and select “Create dump file”\n",
    "```"
   ]
  },
  {
   "cell_type": "markdown",
   "id": "443aae5b",
   "metadata": {},
   "source": [
    "## Explore Datasets"
   ]
  },
  {
   "cell_type": "markdown",
   "id": "2bb1fbb8",
   "metadata": {},
   "source": [
    "### Download & Decompress Dataset"
   ]
  },
  {
   "cell_type": "code",
   "execution_count": null,
   "id": "b4f51f44",
   "metadata": {},
   "outputs": [],
   "source": [
    "import requests\n",
    "from zipfile import ZipFile\n",
    "from io import BytesIO\n",
    "\n",
    "url = https://raw.githubusercontent.com/OTRF/Security-Datasets/master/datasets/atomic/windows/credential_access/host/rdp_interactive_taskmanager_lsass_dump.zip\n",
    "zipFileRequest = requests.get(url)\n",
    "zipFile = ZipFile(BytesIO(zipFileRequest.content))\n",
    "datasetJSONPath = zipFile.extract(zipFile.namelist()[0])"
   ]
  },
  {
   "cell_type": "markdown",
   "id": "7d6bdd1d",
   "metadata": {},
   "source": [
    "### Read JSON File"
   ]
  },
  {
   "cell_type": "code",
   "execution_count": null,
   "id": "3806519c",
   "metadata": {},
   "outputs": [],
   "source": [
    "from pandas.io import json\n",
    "\n",
    "df = json.read_json(path_or_buf=datasetJSONPath, lines=True)"
   ]
  },
  {
   "cell_type": "markdown",
   "id": "3658e3d0",
   "metadata": {},
   "source": [
    "### Access Security Events"
   ]
  },
  {
   "cell_type": "code",
   "execution_count": null,
   "id": "2ec1cce5",
   "metadata": {},
   "outputs": [],
   "source": [
    "df.groupby(['Channel']).size().sort_values(ascending=False)"
   ]
  },
  {
   "cell_type": "markdown",
   "id": "70c5232b",
   "metadata": {},
   "source": [
    "## References\n",
    "* [https://www.elastic.co/blog/ten-process-injection-techniques-technical-survey-common-and-trending-process](https://www.elastic.co/blog/ten-process-injection-techniques-technical-survey-common-and-trending-process) "
   ]
  }
 ],
 "metadata": {},
 "nbformat": 4,
 "nbformat_minor": 5
}
