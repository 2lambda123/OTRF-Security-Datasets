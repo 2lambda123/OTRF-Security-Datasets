{
 "cells": [
  {
   "cell_type": "markdown",
   "id": "f303d08d",
   "metadata": {},
   "source": [
    "# Empire Reg Dump SAM Hive"
   ]
  },
  {
   "cell_type": "markdown",
   "id": "d71a28c9",
   "metadata": {},
   "source": [
    "## Metadata"
   ]
  },
  {
   "cell_type": "markdown",
   "id": "92fa03b3",
   "metadata": {},
   "source": [
    "\n",
    "|                   |    |\n",
    "|:------------------|:---|\n",
    "| Contributors      | Roberto Rodriguez @Cyb3rWard0g |\n",
    "| Creation Date     | 2019/06/25 |\n",
    "| Modification Date | 2019/06/25 |\n",
    "| Tactics           | [TA0006](https://attack.mitre.org/tactics/TA0006) |\n",
    "| Techniques        | [T1003.002](https://attack.mitre.org/techniques/T1003/002) |\n",
    "| Tags              | SAM Rquest Handle |"
   ]
  },
  {
   "cell_type": "markdown",
   "id": "3b38b998",
   "metadata": {},
   "source": [
    "## Dataset Description\n",
    "This dataset represents adversaries with administrator privileges using the windows reg utility to dump the SAM registry hive."
   ]
  },
  {
   "cell_type": "markdown",
   "id": "257dffc8",
   "metadata": {},
   "source": [
    "## Datasets Downloads"
   ]
  },
  {
   "cell_type": "markdown",
   "id": "c4e6d743",
   "metadata": {},
   "source": [
    "\n",
    "| Type | Link   |\n",
    "|:-------------|:-------|\n",
    "| Host | [https://raw.githubusercontent.com/OTRF/Security-Datasets/master/datasets/atomic/windows/credential_access/host/empire_shell_reg_dump_sam.zip](https://raw.githubusercontent.com/OTRF/Security-Datasets/master/datasets/atomic/windows/credential_access/host/empire_shell_reg_dump_sam.zip) |"
   ]
  },
  {
   "cell_type": "markdown",
   "id": "b9fd73d0",
   "metadata": {},
   "source": [
    "## Simulation Metadata"
   ]
  },
  {
   "cell_type": "markdown",
   "id": "4c87029b",
   "metadata": {},
   "source": [
    "### Tools"
   ]
  },
  {
   "cell_type": "markdown",
   "id": "051ec740",
   "metadata": {},
   "source": [
    "\n",
    "| type | Name | Module |\n",
    "|:-----|:-----|--------|\n",
    "| Interactive Session | Remote Desktop Protocol | [None](None) |"
   ]
  },
  {
   "cell_type": "markdown",
   "id": "7cefe3f5",
   "metadata": {},
   "source": [
    "## Adversary View\n",
    "```\n",
    "(Empire: WE8XYD3K) > agents\n",
    "\n",
    "[*] Active agents:\n",
    "\n",
    "Name     La Internal IP     Machine Name      Username                Process            PID    Delay    Last Seen            Listener\n",
    "----     -- -----------     ------------      --------                -------            ---    -----    ---------            ----------------\n",
    "WE8XYD3K ps 172.18.39.5     WORKSTATION5      *THESHIRE\\pgustavo      powershell         5972   5/0.0    2020-09-22 08:27:49  http            \n",
    "\n",
    "(Empire: agents) > interact WE8XYD3K\n",
    "(Empire: WE8XYD3K) > shell reg save HKLM\\sam sam\n",
    "[*] Tasked WE8XYD3K to run TASK_SHELL\n",
    "[*] Agent WE8XYD3K tasked with task ID 5\n",
    "(Empire: WE8XYD3K) > \n",
    "The operation completed successfully.\n",
    "\n",
    "..Command execution completed.\n",
    "\n",
    "(Empire: WE8XYD3K) >\n",
    "```"
   ]
  },
  {
   "cell_type": "markdown",
   "id": "24611688",
   "metadata": {},
   "source": [
    "## Explore Datasets"
   ]
  },
  {
   "cell_type": "markdown",
   "id": "60d15e46",
   "metadata": {},
   "source": [
    "### Download & Decompress Dataset"
   ]
  },
  {
   "cell_type": "code",
   "execution_count": null,
   "id": "6400c220",
   "metadata": {},
   "outputs": [],
   "source": [
    "import requests\n",
    "from zipfile import ZipFile\n",
    "from io import BytesIO\n",
    "\n",
    "url = https://raw.githubusercontent.com/OTRF/Security-Datasets/master/datasets/atomic/windows/credential_access/host/empire_shell_reg_dump_sam.zip\n",
    "zipFileRequest = requests.get(url)\n",
    "zipFile = ZipFile(BytesIO(zipFileRequest.content))\n",
    "datasetJSONPath = zipFile.extract(zipFile.namelist()[0])"
   ]
  },
  {
   "cell_type": "markdown",
   "id": "3a3f60a0",
   "metadata": {},
   "source": [
    "### Read JSON File"
   ]
  },
  {
   "cell_type": "code",
   "execution_count": null,
   "id": "7956d6b6",
   "metadata": {},
   "outputs": [],
   "source": [
    "from pandas.io import json\n",
    "\n",
    "df = json.read_json(path_or_buf=datasetJSONPath, lines=True)"
   ]
  },
  {
   "cell_type": "markdown",
   "id": "6bd70fa0",
   "metadata": {},
   "source": [
    "### Access Security Events"
   ]
  },
  {
   "cell_type": "code",
   "execution_count": null,
   "id": "bb3ed790",
   "metadata": {},
   "outputs": [],
   "source": [
    "df.groupby(['Channel']).size().sort_values(ascending=False)"
   ]
  },
  {
   "cell_type": "markdown",
   "id": "83538271",
   "metadata": {},
   "source": [
    "## References\n",
    "* [https://www.elastic.co/blog/ten-process-injection-techniques-technical-survey-common-and-trending-process](https://www.elastic.co/blog/ten-process-injection-techniques-technical-survey-common-and-trending-process) "
   ]
  }
 ],
 "metadata": {},
 "nbformat": 4,
 "nbformat_minor": 5
}
