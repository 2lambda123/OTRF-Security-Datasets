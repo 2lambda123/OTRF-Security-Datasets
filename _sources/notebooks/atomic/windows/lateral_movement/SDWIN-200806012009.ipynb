{
 "cells": [
  {
   "cell_type": "markdown",
   "id": "d527751b",
   "metadata": {},
   "source": [
    "# Covenant SharpSC Query"
   ]
  },
  {
   "cell_type": "markdown",
   "id": "29dd9478",
   "metadata": {},
   "source": [
    "## Metadata"
   ]
  },
  {
   "cell_type": "markdown",
   "id": "51ef7120",
   "metadata": {},
   "source": [
    "\n",
    "|                   |    |\n",
    "|:------------------|:---|\n",
    "| Contributors      | Roberto Rodriguez @Cyb3rWard0g |\n",
    "| Creation Date     | 2020/08/06 |\n",
    "| Modification Date | 2020/08/06 |\n",
    "| Tactics           | [TA0008](https://attack.mitre.org/tactics/TA0008) |\n",
    "| Techniques        | [T1021.002](https://attack.mitre.org/techniques/T1021/002) |\n",
    "| Tags              | RPC EnumServiceStatusW,SMB Svcctl |"
   ]
  },
  {
   "cell_type": "markdown",
   "id": "51b6426e",
   "metadata": {},
   "source": [
    "## Dataset Description\n",
    "This dataset represents a threat actor leveraging the RPC method EnumServiceStatusW over SMB svcctl to query the status of a service on a remote endpoint.."
   ]
  },
  {
   "cell_type": "markdown",
   "id": "5292d335",
   "metadata": {},
   "source": [
    "## Datasets Downloads"
   ]
  },
  {
   "cell_type": "markdown",
   "id": "c65316d6",
   "metadata": {},
   "source": [
    "\n",
    "| Type | Link   |\n",
    "|:-------------|:-------|\n",
    "| Host | [https://raw.githubusercontent.com/OTRF/Security-Datasets/master/datasets/atomic/windows/lateral_movement/host/covenant_sharpsc_query_dcerpc_smb_svcctl.zip](https://raw.githubusercontent.com/OTRF/Security-Datasets/master/datasets/atomic/windows/lateral_movement/host/covenant_sharpsc_query_dcerpc_smb_svcctl.zip) |\n",
    "| Network | [https://raw.githubusercontent.com/OTRF/Security-Datasets/master/datasets/atomic/windows/lateral_movement/network/covenant_sharpsc_query_dcerpc_smb_svcctl.zip](https://raw.githubusercontent.com/OTRF/Security-Datasets/master/datasets/atomic/windows/lateral_movement/network/covenant_sharpsc_query_dcerpc_smb_svcctl.zip) |"
   ]
  },
  {
   "cell_type": "markdown",
   "id": "f6d806dd",
   "metadata": {},
   "source": [
    "## Simulation Metadata"
   ]
  },
  {
   "cell_type": "markdown",
   "id": "cfe5cdb0",
   "metadata": {},
   "source": [
    "### Tools"
   ]
  },
  {
   "cell_type": "markdown",
   "id": "a913a5bc",
   "metadata": {},
   "source": [
    "\n",
    "| type | Name | Module |\n",
    "|:-----|:-----|--------|\n",
    "| C2 | Covenant | [SharpSC](https://github.com/cobbr/Covenant/blob/19e4a17048ade1b854241bb5d938398860ab5981/Covenant/Data/Tasks/SharpSC.yaml) |"
   ]
  },
  {
   "cell_type": "markdown",
   "id": "efc7565c",
   "metadata": {},
   "source": [
    "## Adversary View\n",
    "```\n",
    "(wardog) > SharpSC /command:\"action=query computername=WORKSTATION6 service=ikeext\"\n",
    "\n",
    "[+] Service information for IKEEXT on WORKSTATION6:\n",
    "\n",
    "  DisplayName: IKE and AuthIP IPsec Keying Modules\n",
    "  ServiceName: IKEEXT\n",
    "  Status     : Stopped\n",
    "  CanStop    : False\n",
    "```"
   ]
  },
  {
   "cell_type": "markdown",
   "id": "b65344b8",
   "metadata": {},
   "source": [
    "## Explore Datasets"
   ]
  },
  {
   "cell_type": "markdown",
   "id": "6fcd0741",
   "metadata": {},
   "source": [
    "### Download & Decompress Dataset"
   ]
  },
  {
   "cell_type": "code",
   "execution_count": null,
   "id": "d60d6de8",
   "metadata": {},
   "outputs": [],
   "source": [
    "import requests\n",
    "from zipfile import ZipFile\n",
    "from io import BytesIO\n",
    "\n",
    "url = https://raw.githubusercontent.com/OTRF/Security-Datasets/master/datasets/atomic/windows/lateral_movement/host/covenant_sharpsc_query_dcerpc_smb_svcctl.zip\n",
    "zipFileRequest = requests.get(url)\n",
    "zipFile = ZipFile(BytesIO(zipFileRequest.content))\n",
    "datasetJSONPath = zipFile.extract(zipFile.namelist()[0])"
   ]
  },
  {
   "cell_type": "markdown",
   "id": "4ad48150",
   "metadata": {},
   "source": [
    "### Read JSON File"
   ]
  },
  {
   "cell_type": "code",
   "execution_count": null,
   "id": "c26ca4d3",
   "metadata": {},
   "outputs": [],
   "source": [
    "from pandas.io import json\n",
    "\n",
    "df = json.read_json(path_or_buf=datasetJSONPath, lines=True)"
   ]
  },
  {
   "cell_type": "markdown",
   "id": "648abfe1",
   "metadata": {},
   "source": [
    "### Access Security Events"
   ]
  },
  {
   "cell_type": "code",
   "execution_count": null,
   "id": "efbd9583",
   "metadata": {},
   "outputs": [],
   "source": [
    "df.groupby(['Channel']).size().sort_values(ascending=False)"
   ]
  },
  {
   "cell_type": "markdown",
   "id": "ee9f0f82",
   "metadata": {},
   "source": [
    "## References\n",
    "* [https://www.mdsec.co.uk/2020/09/i-like-to-move-it-windows-lateral-movement-part-1-wmi-event-subscription/](https://www.mdsec.co.uk/2020/09/i-like-to-move-it-windows-lateral-movement-part-1-wmi-event-subscription/) "
   ]
  }
 ],
 "metadata": {},
 "nbformat": 4,
 "nbformat_minor": 5
}
