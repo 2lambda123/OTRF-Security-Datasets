{
 "cells": [
  {
   "cell_type": "markdown",
   "id": "b5cd529b",
   "metadata": {},
   "source": [
    "# Empire Enable RDP"
   ]
  },
  {
   "cell_type": "markdown",
   "id": "0784e49c",
   "metadata": {},
   "source": [
    "## Metadata"
   ]
  },
  {
   "cell_type": "markdown",
   "id": "04f4b7a6",
   "metadata": {},
   "source": [
    "\n",
    "|                   |    |\n",
    "|:------------------|:---|\n",
    "| Contributors      | Roberto Rodriguez @Cyb3rWard0g |\n",
    "| Creation Date     | 2019/05/18 |\n",
    "| Modification Date | 2020/09/20 |\n",
    "| Tactics           | [TA0005](https://attack.mitre.org/tactics/TA0005) |\n",
    "| Techniques        | [T1112](https://attack.mitre.org/techniques/T1112) |\n",
    "| Tags              | Registry Modification,Windows Registry RDP Settings |"
   ]
  },
  {
   "cell_type": "markdown",
   "id": "ef4e3a71",
   "metadata": {},
   "source": [
    "## Dataset Description\n",
    "This dataset represents adversaries enabling RDP and adding a firewall exception to a compromised system"
   ]
  },
  {
   "cell_type": "markdown",
   "id": "88ee5c50",
   "metadata": {},
   "source": [
    "## Datasets Downloads"
   ]
  },
  {
   "cell_type": "markdown",
   "id": "4d6b06c5",
   "metadata": {},
   "source": [
    "\n",
    "| Type | Link   |\n",
    "|:-------------|:-------|\n",
    "| Host | [https://raw.githubusercontent.com/OTRF/Security-Datasets/master/datasets/atomic/windows/defense_evasion/host/empire_enable_rdp.tar.gz](https://raw.githubusercontent.com/OTRF/Security-Datasets/master/datasets/atomic/windows/defense_evasion/host/empire_enable_rdp.tar.gz) |"
   ]
  },
  {
   "cell_type": "markdown",
   "id": "09490796",
   "metadata": {},
   "source": [
    "## Simulation Metadata"
   ]
  },
  {
   "cell_type": "markdown",
   "id": "6248cee5",
   "metadata": {},
   "source": [
    "### Tools"
   ]
  },
  {
   "cell_type": "markdown",
   "id": "ffdb6113",
   "metadata": {},
   "source": [
    "\n",
    "| type | Name | Module |\n",
    "|:-----|:-----|--------|\n",
    "| C2 | Empire | [management](https://github.com/EmpireProject/Empire/blob/master/lib/modules/powershell/management/enable_rdp.py) |"
   ]
  },
  {
   "cell_type": "markdown",
   "id": "2e3abb47",
   "metadata": {},
   "source": [
    "## Adversary View\n",
    "```\n",
    "(Empire: TKV35P8X) > usemodule management/enable_rdp*           \n",
    "(Empire: powershell/management/enable_rdp) > info\n",
    "\n",
    "              Name: Enable-RDP\n",
    "            Module: powershell/management/enable_rdp\n",
    "        NeedsAdmin: True\n",
    "        OpsecSafe: False\n",
    "          Language: powershell\n",
    "MinLanguageVersion: 2\n",
    "        Background: False\n",
    "  OutputExtension: None\n",
    "\n",
    "Authors:\n",
    "  @harmj0y\n",
    "\n",
    "Description:\n",
    "  Enables RDP on the remote machine and adds a firewall\n",
    "  exception.\n",
    "\n",
    "Options:\n",
    "\n",
    "  Name  Required    Value                     Description\n",
    "  ----  --------    -------                   -----------\n",
    "  Agent True        TKV35P8X                  Agent to run module on.                 \n",
    "\n",
    "(Empire: powershell/management/enable_rdp) > execute\n",
    "[>] Module is not opsec safe, run? [y/N] y\n",
    "[*] Tasked TKV35P8X to run TASK_CMD_WAIT\n",
    "[*] Agent TKV35P8X tasked with task ID 21\n",
    "[*] Tasked agent TKV35P8X to run module powershell/management/enable_rdp\n",
    "(Empire: powershell/management/enable_rdp) > The operation completed successfully.\n",
    "(Empire: powershell/management/enable_rdp) >\n",
    "```"
   ]
  },
  {
   "cell_type": "markdown",
   "id": "23c9b1bd",
   "metadata": {},
   "source": [
    "## Explore Datasets"
   ]
  },
  {
   "cell_type": "markdown",
   "id": "eff4fa89",
   "metadata": {},
   "source": [
    "### Download & Decompress Dataset"
   ]
  },
  {
   "cell_type": "code",
   "execution_count": null,
   "id": "836380bc",
   "metadata": {},
   "outputs": [],
   "source": [
    "import requests\n",
    "from zipfile import ZipFile\n",
    "from io import BytesIO\n",
    "\n",
    "url = https://raw.githubusercontent.com/OTRF/Security-Datasets/master/datasets/atomic/windows/defense_evasion/host/empire_enable_rdp.tar.gz\n",
    "zipFileRequest = requests.get(url)\n",
    "zipFile = ZipFile(BytesIO(zipFileRequest.content))\n",
    "datasetJSONPath = zipFile.extract(zipFile.namelist()[0])"
   ]
  },
  {
   "cell_type": "markdown",
   "id": "1b82742d",
   "metadata": {},
   "source": [
    "### Read JSON File"
   ]
  },
  {
   "cell_type": "code",
   "execution_count": null,
   "id": "afaa4747",
   "metadata": {},
   "outputs": [],
   "source": [
    "from pandas.io import json\n",
    "\n",
    "df = json.read_json(path_or_buf=datasetJSONPath, lines=True)"
   ]
  },
  {
   "cell_type": "markdown",
   "id": "c886a5d5",
   "metadata": {},
   "source": [
    "### Access Security Events"
   ]
  },
  {
   "cell_type": "code",
   "execution_count": null,
   "id": "2f65dd77",
   "metadata": {},
   "outputs": [],
   "source": [
    "df.groupby(['Channel']).size().sort_values(ascending=False)"
   ]
  },
  {
   "cell_type": "markdown",
   "id": "b0b03646",
   "metadata": {},
   "source": [
    "## References\n",
    "* [https://powersploit.readthedocs.io/en/latest/CodeExecution/Invoke-ReflectivePEInjection/](https://powersploit.readthedocs.io/en/latest/CodeExecution/Invoke-ReflectivePEInjection/) \n",
    "* [https://github.com/PowerShellEmpire/PowerTools/tree/master/PowerPick#psinjectps1](https://github.com/PowerShellEmpire/PowerTools/tree/master/PowerPick#psinjectps1) "
   ]
  }
 ],
 "metadata": {},
 "nbformat": 4,
 "nbformat_minor": 5
}
