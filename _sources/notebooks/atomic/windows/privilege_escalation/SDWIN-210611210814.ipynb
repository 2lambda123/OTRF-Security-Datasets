{
 "cells": [
  {
   "cell_type": "markdown",
   "id": "109749b1",
   "metadata": {},
   "source": [
    "# APT Simulator Cobalt Strike"
   ]
  },
  {
   "cell_type": "markdown",
   "id": "2a6c71d3",
   "metadata": {},
   "source": [
    "## Metadata"
   ]
  },
  {
   "cell_type": "markdown",
   "id": "4d3156bc",
   "metadata": {},
   "source": [
    "\n",
    "|                   |    |\n",
    "|:------------------|:---|\n",
    "| Contributors      | Jose Rodriguez @Cyb3rPandaH |\n",
    "| Creation Date     | 2021/06/11 |\n",
    "| Modification Date | 2021/06/11 |\n",
    "| Tactics           | [TA0004](https://attack.mitre.org/tactics/TA0004),[TA0005](https://attack.mitre.org/tactics/TA0005) |\n",
    "| Techniques        | [T1134.002](https://attack.mitre.org/techniques/T1134/002),[T1134.001](https://attack.mitre.org/techniques/T1134/001) |\n",
    "| Tags              | None |"
   ]
  },
  {
   "cell_type": "markdown",
   "id": "973cc3ac",
   "metadata": {},
   "source": [
    "## Dataset Description\n",
    "This dataset was created after running the Cobalt Strike module from the APT Simulator tool (https://github.com/NextronSystems/APTSimulator)."
   ]
  },
  {
   "cell_type": "markdown",
   "id": "50bdc6dd",
   "metadata": {},
   "source": [
    "## Datasets Downloads"
   ]
  },
  {
   "cell_type": "markdown",
   "id": "0f3565d3",
   "metadata": {},
   "source": [
    "\n",
    "| Type | Link   |\n",
    "|:-------------|:-------|\n",
    "| Host | [https://raw.githubusercontent.com/OTRF/Security-Datasets/master/datasets/atomic/windows/other/aptsimulator_cobaltstrike.zip](https://raw.githubusercontent.com/OTRF/Security-Datasets/master/datasets/atomic/windows/other/aptsimulator_cobaltstrike.zip) |"
   ]
  },
  {
   "cell_type": "markdown",
   "id": "1010e1ec",
   "metadata": {},
   "source": [
    "## Simulation Metadata"
   ]
  },
  {
   "cell_type": "markdown",
   "id": "bea8d4d1",
   "metadata": {},
   "source": [
    "### Tools"
   ]
  },
  {
   "cell_type": "markdown",
   "id": "b15197fa",
   "metadata": {},
   "source": [
    "\n",
    "| type | Name | Module |\n",
    "|:-----|:-----|--------|\n",
    "| Batch Script | APT Simulator | [Cobalt Strike](https://github.com/NextronSystems/APTSimulator/blob/master/test-sets/cobaltstrike/cobaltstrike-simulation.bat) |"
   ]
  },
  {
   "cell_type": "markdown",
   "id": "f79a61d2",
   "metadata": {},
   "source": [
    "## Adversary View\n",
    "```\n",
    "===========================================================================\n",
    "    ___    ____  ___________ _                 __      __\n",
    "  /   |  / __ \\/_  __/ ___/(_)___ ___  __  __/ /___ _/ /_____  _____\n",
    "  / /| | / /_/ / / /  \\__ \\/ / __ `__ \\/ / / / / __ `/ __/ __ \\/ ___/\n",
    "/ ___ |/ ____/ / /  ___/ / / / / / / / /_/ / / /_/ / /_/ /_/ / /\n",
    "/_/  |_/_/     /_/  /____/_/_/ /_/ /_/\\__,_/_/\\__,_/\\__/\\____/_/\n",
    "\n",
    "Florian Roth, Nextron Systems, v0.9.1, June 2021\n",
    "\n",
    "Select the test-set that you want to run:\n",
    "\n",
    "[0] RUN EVERY TEST\n",
    "[1] Collection\n",
    "[2] Command and Control\n",
    "[3] Credential Access\n",
    "[4] Defense Evasion\n",
    "[5] Discovery\n",
    "[6] Execution\n",
    "[7] Lateral Movement\n",
    "[8] Persistence\n",
    "[9] Privilege Escalation\n",
    "\n",
    "[C] CobaltStrike Beacon Simulation\n",
    "\n",
    "[A] Apply AV Exclusions in Registry\n",
    "[S] Settings\n",
    "[E] Exit\n",
    "\n",
    "Your selection (then press ENTER): C\n",
    "===========================================================================\n",
    "Simulate CobaltStrike Beacon Activity\n",
    "\n",
    "--- Create some default Named Pipes ...\n",
    "Creating Named Pipe number 1: MSSE-1337-server\n",
    "\n",
    "Waiting for 0 seconds, press a key to continue ...\n",
    "Killing named pipe creator for pipe 1\n",
    "SUCCESS: The process \"CreateNamedPipe.exe\" with PID 4748 has been terminated.\n",
    "Creating Named Pipe number 2 (P2P communication): msagent_fedac123\n",
    "\n",
    "Waiting for 0 seconds, press a key to continue ...\n",
    "Killing named pipe creator for pipe 2\n",
    "SUCCESS: The process \"CreateNamedPipe.exe\" with PID 4236 has been terminated.\n",
    "Creating Named Pipe number 3 (Post Exploitation): postex_ssh_fedac123\n",
    "\n",
    "Waiting for 0 seconds, press a key to continue ...\n",
    "Killing named pipe creator for pipe 3\n",
    "SUCCESS: The process \"CreateNamedPipe.exe\" with PID 7444 has been terminated.\n",
    "Creating Named Pipe number 3 (Post Exploitation): postex_ssh_fedac123\n",
    "\n",
    "Waiting for 0 seconds, press a key to continue ...\n",
    "Killing named pipe creator for pipe 3\n",
    "SUCCESS: The process \"CreateNamedPipe.exe\" with PID 512 has been terminated.\n",
    "\n",
    "--- Simulating GetSystem ...\n",
    "\n",
    "Waiting for 0 seconds, press a key to continue ...\n",
    "Copy a service binary file to a suspicious location ...\n",
    "Using Post-CobaltStrike 4.2 scheme\n",
    "        1 file(s) copied.\n",
    "Starting suspicious service\n",
    "[SC] CreateService SUCCESS\n",
    "[SC] StartService FAILED 1053:\n",
    "\n",
    "The service did not respond to the start or control request in a timely fashion.\n",
    "\n",
    "[SC] ControlService FAILED 1062:\n",
    "\n",
    "The service has not been started.\n",
    "\n",
    "[SC] DeleteService SUCCESS\n",
    "\n",
    "Waiting for 0 seconds, press a key to continue ...\n",
    "Killing named pipe creator\n",
    "ERROR: The process \"CreateNamedPipe.exe\" not found.\n",
    "\n",
    "--- HTTP Beaconing 1\n",
    "Simulating HTTP beaconing - this step takes up to an hour to complete\n",
    "\n",
    "Beacon 1 - HTTP 30s+50//10.0.2.15/pixel.gif\n",
    "Sending HTTP request ...\n",
    "\n",
    "C:\\Users\\APT-Simulator\\Documents\\APTSimulator-master>\n",
    "```"
   ]
  },
  {
   "cell_type": "markdown",
   "id": "e86499d3",
   "metadata": {},
   "source": [
    "## Explore Datasets"
   ]
  },
  {
   "cell_type": "markdown",
   "id": "85ac2f43",
   "metadata": {},
   "source": [
    "### Download & Decompress Dataset"
   ]
  },
  {
   "cell_type": "code",
   "execution_count": null,
   "id": "83ce45da",
   "metadata": {},
   "outputs": [],
   "source": [
    "import requests\n",
    "from zipfile import ZipFile\n",
    "from io import BytesIO\n",
    "\n",
    "url = https://raw.githubusercontent.com/OTRF/Security-Datasets/master/datasets/atomic/windows/other/aptsimulator_cobaltstrike.zip\n",
    "zipFileRequest = requests.get(url)\n",
    "zipFile = ZipFile(BytesIO(zipFileRequest.content))\n",
    "datasetJSONPath = zipFile.extract(zipFile.namelist()[0])"
   ]
  },
  {
   "cell_type": "markdown",
   "id": "500018a2",
   "metadata": {},
   "source": [
    "### Read JSON File"
   ]
  },
  {
   "cell_type": "code",
   "execution_count": null,
   "id": "a95fd2f1",
   "metadata": {},
   "outputs": [],
   "source": [
    "from pandas.io import json\n",
    "\n",
    "df = json.read_json(path_or_buf=datasetJSONPath, lines=True)"
   ]
  },
  {
   "cell_type": "markdown",
   "id": "269d570d",
   "metadata": {},
   "source": [
    "### Access Security Events"
   ]
  },
  {
   "cell_type": "code",
   "execution_count": null,
   "id": "2d1b40ee",
   "metadata": {},
   "outputs": [],
   "source": [
    "df.groupby(['Channel']).size().sort_values(ascending=False)"
   ]
  },
  {
   "cell_type": "markdown",
   "id": "a9dc66a4",
   "metadata": {},
   "source": [
    "## References\n",
    "* [https://twitter.com/cyb3rops/status/1403253268051107840](https://twitter.com/cyb3rops/status/1403253268051107840) "
   ]
  }
 ],
 "metadata": {},
 "nbformat": 4,
 "nbformat_minor": 5
}
