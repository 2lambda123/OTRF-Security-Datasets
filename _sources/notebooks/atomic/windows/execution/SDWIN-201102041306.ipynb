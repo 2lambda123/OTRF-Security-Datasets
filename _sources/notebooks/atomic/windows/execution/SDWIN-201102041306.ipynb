{
 "cells": [
  {
   "cell_type": "markdown",
   "id": "adbf0011",
   "metadata": {},
   "source": [
    "# PowerShell HTTP Listener"
   ]
  },
  {
   "cell_type": "markdown",
   "id": "96a2704d",
   "metadata": {},
   "source": [
    "## Metadata"
   ]
  },
  {
   "cell_type": "markdown",
   "id": "6aa32a90",
   "metadata": {},
   "source": [
    "\n",
    "|                   |    |\n",
    "|:------------------|:---|\n",
    "| Contributors      | Roberto Rodriguez @Cyb3rWard0g |\n",
    "| Creation Date     | 2020/11/02 |\n",
    "| Modification Date | 2020/11/02 |\n",
    "| Tactics           | [TA0002](https://attack.mitre.org/tactics/TA0002) |\n",
    "| Techniques        | [T1059.001](https://attack.mitre.org/techniques/T1059/001) |\n",
    "| Tags              | None |"
   ]
  },
  {
   "cell_type": "markdown",
   "id": "b8939ab9",
   "metadata": {},
   "source": [
    "## Dataset Description\n",
    "This dataset represents a threat actor using PowerShell to start an HTTP Listener on a compromised endpoint"
   ]
  },
  {
   "cell_type": "markdown",
   "id": "a20cfe8d",
   "metadata": {},
   "source": [
    "## Datasets Downloads"
   ]
  },
  {
   "cell_type": "markdown",
   "id": "0abd0fb0",
   "metadata": {},
   "source": [
    "\n",
    "| Type | Link   |\n",
    "|:-------------|:-------|\n",
    "| Host | [https://raw.githubusercontent.com/OTRF/Security-Datasets/master/datasets/atomic/windows/execution/host/psh_powershell_httplistener.zip](https://raw.githubusercontent.com/OTRF/Security-Datasets/master/datasets/atomic/windows/execution/host/psh_powershell_httplistener.zip) |"
   ]
  },
  {
   "cell_type": "markdown",
   "id": "5f925e2c",
   "metadata": {},
   "source": [
    "## Simulation Metadata"
   ]
  },
  {
   "cell_type": "markdown",
   "id": "624decab",
   "metadata": {},
   "source": [
    "### Tools"
   ]
  },
  {
   "cell_type": "markdown",
   "id": "52554904",
   "metadata": {},
   "source": [
    "\n",
    "| type | Name | Module |\n",
    "|:-----|:-----|--------|\n",
    "| Manual | PowerShell | [PowerShell](None) |"
   ]
  },
  {
   "cell_type": "markdown",
   "id": "6902c2a8",
   "metadata": {},
   "source": [
    "## Adversary View\n",
    "```\n",
    "$Hso = New-Object Net.HttpListener\n",
    "$Hso.Prefixes.Add(\"http://+:8000/\")\n",
    "$Hso.Start() \n",
    "```"
   ]
  },
  {
   "cell_type": "markdown",
   "id": "d5cdcb6e",
   "metadata": {},
   "source": [
    "## Explore Datasets"
   ]
  },
  {
   "cell_type": "markdown",
   "id": "d8b34aa1",
   "metadata": {},
   "source": [
    "### Download & Decompress Dataset"
   ]
  },
  {
   "cell_type": "code",
   "execution_count": null,
   "id": "227264b0",
   "metadata": {},
   "outputs": [],
   "source": [
    "import requests\n",
    "from zipfile import ZipFile\n",
    "from io import BytesIO\n",
    "\n",
    "url = https://raw.githubusercontent.com/OTRF/Security-Datasets/master/datasets/atomic/windows/execution/host/psh_powershell_httplistener.zip\n",
    "zipFileRequest = requests.get(url)\n",
    "zipFile = ZipFile(BytesIO(zipFileRequest.content))\n",
    "datasetJSONPath = zipFile.extract(zipFile.namelist()[0])"
   ]
  },
  {
   "cell_type": "markdown",
   "id": "f0184b84",
   "metadata": {},
   "source": [
    "### Read JSON File"
   ]
  },
  {
   "cell_type": "code",
   "execution_count": null,
   "id": "39f473a1",
   "metadata": {},
   "outputs": [],
   "source": [
    "from pandas.io import json\n",
    "\n",
    "df = json.read_json(path_or_buf=datasetJSONPath, lines=True)"
   ]
  },
  {
   "cell_type": "markdown",
   "id": "6f72cdb9",
   "metadata": {},
   "source": [
    "### Access Security Events"
   ]
  },
  {
   "cell_type": "code",
   "execution_count": null,
   "id": "452fd835",
   "metadata": {},
   "outputs": [],
   "source": [
    "df.groupby(['Channel']).size().sort_values(ascending=False)"
   ]
  },
  {
   "cell_type": "markdown",
   "id": "4d79551b",
   "metadata": {},
   "source": [
    "## References\n",
    "* [https://docs.microsoft.com/en-us/dotnet/api/system.net.httplistener?view=netcore-3.1](https://docs.microsoft.com/en-us/dotnet/api/system.net.httplistener?view=netcore-3.1) "
   ]
  }
 ],
 "metadata": {},
 "nbformat": 4,
 "nbformat_minor": 5
}
