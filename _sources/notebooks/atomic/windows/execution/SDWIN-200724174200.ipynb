{
 "cells": [
  {
   "cell_type": "markdown",
   "id": "d1a9d102",
   "metadata": {},
   "source": [
    "# Covenant Remote WMI Eventing ActiveScriptEventConsumers"
   ]
  },
  {
   "cell_type": "markdown",
   "id": "c56da29b",
   "metadata": {},
   "source": [
    "## Metadata"
   ]
  },
  {
   "cell_type": "markdown",
   "id": "ddcdce9e",
   "metadata": {},
   "source": [
    "\n",
    "|                   |    |\n",
    "|:------------------|:---|\n",
    "| Contributors      | Roberto Rodriguez @Cyb3rWard0g |\n",
    "| Creation Date     | 2020/07/24 |\n",
    "| Modification Date | 2020/07/24 |\n",
    "| Tactics           | [TA0002](https://attack.mitre.org/tactics/TA0002),[TA0008](https://attack.mitre.org/tactics/TA0008) |\n",
    "| Techniques        | [T1047](https://attack.mitre.org/techniques/T1047) |\n",
    "| Tags              | Remote WMI Eventing |"
   ]
  },
  {
   "cell_type": "markdown",
   "id": "a5cb6c1b",
   "metadata": {},
   "source": [
    "## Dataset Description\n",
    "This dataset represents adversaries using WMI event subscriptions (ActiveScriptEventConsumers) remotely to move laterally."
   ]
  },
  {
   "cell_type": "markdown",
   "id": "3dfaa242",
   "metadata": {},
   "source": [
    "## Datasets Downloads"
   ]
  },
  {
   "cell_type": "markdown",
   "id": "40263eae",
   "metadata": {},
   "source": [
    "\n",
    "| Type | Link   |\n",
    "|:-------------|:-------|\n",
    "| Host | [https://raw.githubusercontent.com/OTRF/Security-Datasets/master/datasets/atomic/windows/lateral_movement/host/covenant_wmi_remote_event_subscription_ActiveScriptEventConsumers.zip](https://raw.githubusercontent.com/OTRF/Security-Datasets/master/datasets/atomic/windows/lateral_movement/host/covenant_wmi_remote_event_subscription_ActiveScriptEventConsumers.zip) |\n",
    "| Network | [https://raw.githubusercontent.com/OTRF/Security-Datasets/master/datasets/atomic/windows/lateral_movement/network/covenant_wmi_remote_event_subscription_ActiveScriptEventConsumers.zip](https://raw.githubusercontent.com/OTRF/Security-Datasets/master/datasets/atomic/windows/lateral_movement/network/covenant_wmi_remote_event_subscription_ActiveScriptEventConsumers.zip) |"
   ]
  },
  {
   "cell_type": "markdown",
   "id": "8c1cb13b",
   "metadata": {},
   "source": [
    "## Simulation Metadata"
   ]
  },
  {
   "cell_type": "markdown",
   "id": "828e6c9e",
   "metadata": {},
   "source": [
    "### Tools"
   ]
  },
  {
   "cell_type": "markdown",
   "id": "a3cbdf12",
   "metadata": {},
   "source": [
    "\n",
    "| type | Name | Module |\n",
    "|:-----|:-----|--------|\n",
    "| manual | shell | [manual](https://3xpl01tc0d3r.blogspot.com/2020/02/gadgettojscript-covenant-donut.html) |"
   ]
  },
  {
   "cell_type": "markdown",
   "id": "0c555d3c",
   "metadata": {},
   "source": [
    "## Adversary View\n",
    "```\n",
    "None\n",
    "```"
   ]
  },
  {
   "cell_type": "markdown",
   "id": "2a5c02f5",
   "metadata": {},
   "source": [
    "## Explore Datasets"
   ]
  },
  {
   "cell_type": "markdown",
   "id": "17d56820",
   "metadata": {},
   "source": [
    "### Download & Decompress Dataset"
   ]
  },
  {
   "cell_type": "code",
   "execution_count": null,
   "id": "025a1d69",
   "metadata": {},
   "outputs": [],
   "source": [
    "import requests\n",
    "from zipfile import ZipFile\n",
    "from io import BytesIO\n",
    "\n",
    "url = https://raw.githubusercontent.com/OTRF/Security-Datasets/master/datasets/atomic/windows/lateral_movement/host/covenant_wmi_remote_event_subscription_ActiveScriptEventConsumers.zip\n",
    "zipFileRequest = requests.get(url)\n",
    "zipFile = ZipFile(BytesIO(zipFileRequest.content))\n",
    "datasetJSONPath = zipFile.extract(zipFile.namelist()[0])"
   ]
  },
  {
   "cell_type": "markdown",
   "id": "091613a5",
   "metadata": {},
   "source": [
    "### Read JSON File"
   ]
  },
  {
   "cell_type": "code",
   "execution_count": null,
   "id": "95f0cf49",
   "metadata": {},
   "outputs": [],
   "source": [
    "from pandas.io import json\n",
    "\n",
    "df = json.read_json(path_or_buf=datasetJSONPath, lines=True)"
   ]
  },
  {
   "cell_type": "markdown",
   "id": "f7af31d0",
   "metadata": {},
   "source": [
    "### Access Security Events"
   ]
  },
  {
   "cell_type": "code",
   "execution_count": null,
   "id": "fd864816",
   "metadata": {},
   "outputs": [],
   "source": [
    "df.groupby(['Channel']).size().sort_values(ascending=False)"
   ]
  },
  {
   "cell_type": "markdown",
   "id": "e74df678",
   "metadata": {},
   "source": [
    "## References\n",
    "* [https://www.mdsec.co.uk/2020/09/i-like-to-move-it-windows-lateral-movement-part-1-wmi-event-subscription/](https://www.mdsec.co.uk/2020/09/i-like-to-move-it-windows-lateral-movement-part-1-wmi-event-subscription/) "
   ]
  }
 ],
 "metadata": {},
 "nbformat": 4,
 "nbformat_minor": 5
}
