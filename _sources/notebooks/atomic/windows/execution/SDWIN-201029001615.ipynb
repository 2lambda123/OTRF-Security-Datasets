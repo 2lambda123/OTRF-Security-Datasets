{
 "cells": [
  {
   "cell_type": "markdown",
   "id": "0570f0aa",
   "metadata": {},
   "source": [
    "# Python HTTP Server"
   ]
  },
  {
   "cell_type": "markdown",
   "id": "792c3153",
   "metadata": {},
   "source": [
    "## Metadata"
   ]
  },
  {
   "cell_type": "markdown",
   "id": "ee202105",
   "metadata": {},
   "source": [
    "\n",
    "|                   |    |\n",
    "|:------------------|:---|\n",
    "| Contributors      | Roberto Rodriguez @Cyb3rWard0g |\n",
    "| Creation Date     | 2020/10/29 |\n",
    "| Modification Date | 2020/10/29 |\n",
    "| Tactics           | [TA0002](https://attack.mitre.org/tactics/TA0002) |\n",
    "| Techniques        | [T1059](https://attack.mitre.org/techniques/T1059) |\n",
    "| Tags              | None |"
   ]
  },
  {
   "cell_type": "markdown",
   "id": "8e6ebcba",
   "metadata": {},
   "source": [
    "## Dataset Description\n",
    "This dataset represents threat actors adding a FW inbound rule and starting a Python HTTP Server."
   ]
  },
  {
   "cell_type": "markdown",
   "id": "76b4d17e",
   "metadata": {},
   "source": [
    "## Datasets Downloads"
   ]
  },
  {
   "cell_type": "markdown",
   "id": "33670700",
   "metadata": {},
   "source": [
    "\n",
    "| Type | Link   |\n",
    "|:-------------|:-------|\n",
    "| Host | [https://raw.githubusercontent.com/OTRF/Security-Datasets/master/datasets/atomic/windows/execution/host/psh_python_webserver.zip](https://raw.githubusercontent.com/OTRF/Security-Datasets/master/datasets/atomic/windows/execution/host/psh_python_webserver.zip) |"
   ]
  },
  {
   "cell_type": "markdown",
   "id": "d474d3c7",
   "metadata": {},
   "source": [
    "## Simulation Metadata"
   ]
  },
  {
   "cell_type": "markdown",
   "id": "1e6f17ae",
   "metadata": {},
   "source": [
    "### Tools"
   ]
  },
  {
   "cell_type": "markdown",
   "id": "bf28b3a9",
   "metadata": {},
   "source": [
    "\n",
    "| type | Name | Module |\n",
    "|:-----|:-----|--------|\n",
    "| Manual | PowerShell | [PowerShell](None) |"
   ]
  },
  {
   "cell_type": "markdown",
   "id": "9195ec88",
   "metadata": {},
   "source": [
    "## Adversary View\n",
    "```\n",
    "Add Firewall Rule\n",
    "-----------------\n",
    "PS > & netsh advfirewall firewall add rule name=\"python.exe\" dir=in action=allow description=\"python.exe\" program=\"C:\\users\\wardog\\appdata\\local\\programs\\python\\python39\\python.exe\" enable=yes localport=any protocol=tcp remoteip=any\n",
    "Ok.    \n",
    "\n",
    "PS > & netsh advfirewall firewall add rule name=\"python.exe\" dir=in action=allow description=\"python.exe\" program=\"C:\\users\\wardog\\appdata\\local\\programs\\python\\python39\\python.exe\" enable=yes localport=any protocol=udp remoteip=any\n",
    "Ok.\n",
    "\n",
    "Start HTTP Server\n",
    "-----------------\n",
    "PS > python -m http.server 8000\n",
    "\n",
    "Serving HTTP on :: port 8000 (http://[::]:8000/) ...\n",
    "```"
   ]
  },
  {
   "cell_type": "markdown",
   "id": "487263b1",
   "metadata": {},
   "source": [
    "## Explore Datasets"
   ]
  },
  {
   "cell_type": "markdown",
   "id": "baa48c20",
   "metadata": {},
   "source": [
    "### Download & Decompress Dataset"
   ]
  },
  {
   "cell_type": "code",
   "execution_count": null,
   "id": "53c2eacf",
   "metadata": {},
   "outputs": [],
   "source": [
    "import requests\n",
    "from zipfile import ZipFile\n",
    "from io import BytesIO\n",
    "\n",
    "url = https://raw.githubusercontent.com/OTRF/Security-Datasets/master/datasets/atomic/windows/execution/host/psh_python_webserver.zip\n",
    "zipFileRequest = requests.get(url)\n",
    "zipFile = ZipFile(BytesIO(zipFileRequest.content))\n",
    "datasetJSONPath = zipFile.extract(zipFile.namelist()[0])"
   ]
  },
  {
   "cell_type": "markdown",
   "id": "9729898b",
   "metadata": {},
   "source": [
    "### Read JSON File"
   ]
  },
  {
   "cell_type": "code",
   "execution_count": null,
   "id": "93aaf15c",
   "metadata": {},
   "outputs": [],
   "source": [
    "from pandas.io import json\n",
    "\n",
    "df = json.read_json(path_or_buf=datasetJSONPath, lines=True)"
   ]
  },
  {
   "cell_type": "markdown",
   "id": "73c5e666",
   "metadata": {},
   "source": [
    "### Access Security Events"
   ]
  },
  {
   "cell_type": "code",
   "execution_count": null,
   "id": "c24ca663",
   "metadata": {},
   "outputs": [],
   "source": [
    "df.groupby(['Channel']).size().sort_values(ascending=False)"
   ]
  },
  {
   "cell_type": "markdown",
   "id": "5bba6ec4",
   "metadata": {},
   "source": [
    "## References\n",
    "* [https://github.com/samratashok/nishang/blob/master/Gather/Get-WebCredentials.ps1](https://github.com/samratashok/nishang/blob/master/Gather/Get-WebCredentials.ps1) "
   ]
  }
 ],
 "metadata": {},
 "nbformat": 4,
 "nbformat_minor": 5
}
