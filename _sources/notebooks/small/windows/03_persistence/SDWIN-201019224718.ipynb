{
 "cells": [
  {
   "cell_type": "markdown",
   "id": "529d66aa",
   "metadata": {},
   "source": [
    "# Logon Scripts via UserInitMprLogonScript"
   ]
  },
  {
   "cell_type": "markdown",
   "id": "844e77e2",
   "metadata": {},
   "source": [
    "## Metadata"
   ]
  },
  {
   "cell_type": "markdown",
   "id": "042fae2a",
   "metadata": {},
   "source": [
    "\n",
    "|                   |    |\n",
    "|:------------------|:---|\n",
    "| Author            | Roberto Rodriguez @Cyb3rWard0g |\n",
    "| Creation Date     | 2020/10/19 |\n",
    "| Modification Date | 2020/10/19 |\n",
    "| Tactics           | ['[TA0003](https://attack.mitre.org/tactics/TA0003)'] |\n",
    "| Techniques        | ['[T1037.001](https://attack.mitre.org/techniques/T1037/001)'] |\n",
    "| Tags              | ['art.d6042746-07d4-4c92-9ad8-e644c114a231'] |"
   ]
  },
  {
   "cell_type": "markdown",
   "id": "65d010aa",
   "metadata": {},
   "source": [
    "## Dataset Description\n",
    "This dataset represents adversaries leveraging logon initialization scripts to achieve persistence via the UserInitMprLogonScript user environment."
   ]
  },
  {
   "cell_type": "markdown",
   "id": "7c44a6a2",
   "metadata": {},
   "source": [
    "## Datasets Downloads"
   ]
  },
  {
   "cell_type": "markdown",
   "id": "fea3fd55",
   "metadata": {},
   "source": [
    "\n",
    "| Dataset Type | Link   |\n",
    "|:-------------|:-------|\n",
    "| Host | [https://raw.githubusercontent.com/OTRF/Security-Datasets/master/datasets/small/windows/persistence/host/cmd_userinitmprlogonscript_batch.zip](https://raw.githubusercontent.com/OTRF/Security-Datasets/master/datasets/small/windows/persistence/host/cmd_userinitmprlogonscript_batch.zip) |"
   ]
  },
  {
   "cell_type": "markdown",
   "id": "f0bb4e70",
   "metadata": {},
   "source": [
    "## Notebooks\n",
    "Notebooks created by the community leveraging the mordor datasets"
   ]
  },
  {
   "cell_type": "markdown",
   "id": "171ca59e",
   "metadata": {},
   "source": [
    "\n",
    "| Author | Name | Link |\n",
    "|:-------|:-----|:-----|"
   ]
  },
  {
   "cell_type": "markdown",
   "id": "97d8ebc6",
   "metadata": {},
   "source": [
    "## Simulation Plan"
   ]
  },
  {
   "cell_type": "markdown",
   "id": "0b768654",
   "metadata": {},
   "source": [
    "\n",
    "| Environment | Tool Type | Module |\n",
    "|:------------|:----------|:-------|\n",
    "| Lab VM | Manual | [Cmd](https://github.com/redcanaryco/atomic-red-team/blob/master/atomics/T1037.001/T1037.001.md) |"
   ]
  },
  {
   "cell_type": "markdown",
   "id": "16c34526",
   "metadata": {},
   "source": [
    "## Adversary View\n",
    "```\n",
    "Microsoft Windows [Version 10.0.18363.1139]\n",
    "(c) 2019 Microsoft Corporation. All rights reserved.\n",
    "\n",
    "C:\\Users\\wardog>echo \"echo Art Logon Script atomic test was successful. >> %USERPROFILE%\\desktop\\T1037.001-log.txt\" > %temp%\\art.bat\n",
    "\n",
    "C:\\Users\\wardog>REG.exe ADD HKCU\\Environment /v UserInitMprLogonScript /t REG_SZ /d %temp%\\art.bat /f\n",
    "The operation completed successfully.\n",
    "```"
   ]
  },
  {
   "cell_type": "markdown",
   "id": "ce334fcc",
   "metadata": {},
   "source": [
    "## Explore Mordor Dataset"
   ]
  },
  {
   "cell_type": "markdown",
   "id": "f668e78c",
   "metadata": {},
   "source": [
    "### Initialize Analytics Engine"
   ]
  },
  {
   "cell_type": "code",
   "execution_count": null,
   "id": "83bce9b3",
   "metadata": {},
   "outputs": [],
   "source": [
    "from openhunt.mordorutils import *\n",
    "spark = get_spark()"
   ]
  },
  {
   "cell_type": "markdown",
   "id": "f0a7d463",
   "metadata": {},
   "source": [
    "### Download & Process Mordor File"
   ]
  },
  {
   "cell_type": "code",
   "execution_count": null,
   "id": "d0825946",
   "metadata": {},
   "outputs": [],
   "source": [
    "mordor_file = \"https://raw.githubusercontent.com/OTRF/Security-Datasets/master/datasets/small/windows/persistence/host/cmd_userinitmprlogonscript_batch.zip\"\n",
    "registerMordorSQLTable(spark, mordor_file, \"mordorTable\")"
   ]
  },
  {
   "cell_type": "markdown",
   "id": "fa09e67a",
   "metadata": {},
   "source": [
    "### Get to know your data"
   ]
  },
  {
   "cell_type": "code",
   "execution_count": null,
   "id": "83a16b51",
   "metadata": {},
   "outputs": [],
   "source": [
    "df = spark.sql(\n",
    "'''\n",
    "SELECT Hostname,Channel,EventID, Count(*) as count\n",
    "FROM mordorTable\n",
    "GROUP BY Hostname,Channel,EventID\n",
    "ORDER BY count DESC\n",
    "'''\n",
    ")\n",
    "df.show(truncate=False)"
   ]
  }
 ],
 "metadata": {
  "kernelspec": {
   "display_name": "PySpark_Python3",
   "language": "python",
   "name": "pyspark3"
  },
  "language_info": {
   "codemirror_mode": {
    "name": "ipython",
    "version": 3
   },
   "file_extension": ".py",
   "mimetype": "text/x-python",
   "name": "python",
   "nbconvert_exporter": "python",
   "pygments_lexer": "ipython3",
   "version": "3.7.3"
  }
 },
 "nbformat": 4,
 "nbformat_minor": 5
}
