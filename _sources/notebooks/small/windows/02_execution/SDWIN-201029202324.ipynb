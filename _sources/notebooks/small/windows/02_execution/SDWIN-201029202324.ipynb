{
 "cells": [
  {
   "cell_type": "markdown",
   "id": "85d7c03c",
   "metadata": {},
   "source": [
    "# SharpView PCRE.NET"
   ]
  },
  {
   "cell_type": "markdown",
   "id": "45a05551",
   "metadata": {},
   "source": [
    "## Metadata"
   ]
  },
  {
   "cell_type": "markdown",
   "id": "297a2c72",
   "metadata": {},
   "source": [
    "\n",
    "|                   |    |\n",
    "|:------------------|:---|\n",
    "| Author            | Roberto Rodriguez @Cyb3rWard0g |\n",
    "| Creation Date     | 2020/10/29 |\n",
    "| Modification Date | 2020/10/29 |\n",
    "| Tactics           | ['[TA0002](https://attack.mitre.org/tactics/TA0002)'] |\n",
    "| Techniques        | ['[T1059](https://attack.mitre.org/techniques/T1059)'] |\n",
    "| Tags              | None |"
   ]
  },
  {
   "cell_type": "markdown",
   "id": "8e0e9090",
   "metadata": {},
   "source": [
    "## Dataset Description\n",
    "This dataset represents a threat actor leveraging SharpView and specific functions such as Get-ObjectAcl creating files and loading dlls related to PCRE.NET use."
   ]
  },
  {
   "cell_type": "markdown",
   "id": "4379c558",
   "metadata": {},
   "source": [
    "## Datasets Downloads"
   ]
  },
  {
   "cell_type": "markdown",
   "id": "72dd1d5f",
   "metadata": {},
   "source": [
    "\n",
    "| Dataset Type | Link   |\n",
    "|:-------------|:-------|\n",
    "| Host | [https://raw.githubusercontent.com/OTRF/Security-Datasets/master/datasets/small/windows/execution/host/cmd_sharpview_pcre_net.zip](https://raw.githubusercontent.com/OTRF/Security-Datasets/master/datasets/small/windows/execution/host/cmd_sharpview_pcre_net.zip) |"
   ]
  },
  {
   "cell_type": "markdown",
   "id": "fb19f2f3",
   "metadata": {},
   "source": [
    "## Notebooks\n",
    "Notebooks created by the community leveraging the mordor datasets"
   ]
  },
  {
   "cell_type": "markdown",
   "id": "c9fcddf9",
   "metadata": {},
   "source": [
    "\n",
    "| Author | Name | Link |\n",
    "|:-------|:-----|:-----|"
   ]
  },
  {
   "cell_type": "markdown",
   "id": "8e5fec5d",
   "metadata": {},
   "source": [
    "## Simulation Plan"
   ]
  },
  {
   "cell_type": "markdown",
   "id": "ddc7a048",
   "metadata": {},
   "source": [
    "\n",
    "| Environment | Tool Type | Module |\n",
    "|:------------|:----------|:-------|\n",
    "| Lab VM | Manual | [Cmd](None) |"
   ]
  },
  {
   "cell_type": "markdown",
   "id": "77e0c716",
   "metadata": {},
   "source": [
    "## Adversary View\n",
    "```\n",
    "C:\\ProgramData>SharpView.exe Get-ObjectAcl -SamAccountName \"Domain Admins\"\n",
    "[Get-DomainSearcher] search base: LDAP://MORDORDC.THESHIRE.LOCAL/DC=THESHIRE,DC=LOCAL\n",
    "[Get-DomainObjectAcl] Get-DomainObjectAcl filter string: (&(|(|(samAccountName=Domain Admins)(name=Domain Admins)(displayname=Domain Admins))))\n",
    "ObjectDN                       : CN=Domain Admins,CN=Users,DC=theshire,DC=local\n",
    "ObjectAceFlags                 : ObjectAceTypePresent, InheritedObjectAceTypePresent\n",
    "ObjectAceType                  : 4c164200-20c0-11d0-a768-00aa006e0529\n",
    "InheritedObjectAceType         : 4828cc14-1437-45bc-9b07-ad6f015e5f28\n",
    "BinaryLength                   : 60\n",
    "AceQualifier                   : AccessAllowed\n",
    "IsCallback                     : False\n",
    "OpaqueLength                   : 0\n",
    "AccessMask                     : 16\n",
    "SecurityIdentifier             : S-1-5-32-554\n",
    "AceType                        : AccessAllowedObject\n",
    "AceFlags                       : None\n",
    "IsInherited                    : False\n",
    "InheritanceFlags               : None\n",
    "PropagationFlags               : None\n",
    "AuditFlags                     : None\n",
    "ObjectSID                      : S-1-5-21-3140987116-517580383-2541594433-512\n",
    "ActiveDirectoryRights          : ReadProperty\n",
    "..\n",
    ".....\n",
    "```"
   ]
  },
  {
   "cell_type": "markdown",
   "id": "2462b2b6",
   "metadata": {},
   "source": [
    "## Explore Mordor Dataset"
   ]
  },
  {
   "cell_type": "markdown",
   "id": "451969d8",
   "metadata": {},
   "source": [
    "### Initialize Analytics Engine"
   ]
  },
  {
   "cell_type": "code",
   "execution_count": null,
   "id": "b6619649",
   "metadata": {},
   "outputs": [],
   "source": [
    "from openhunt.mordorutils import *\n",
    "spark = get_spark()"
   ]
  },
  {
   "cell_type": "markdown",
   "id": "0e32e24b",
   "metadata": {},
   "source": [
    "### Download & Process Mordor File"
   ]
  },
  {
   "cell_type": "code",
   "execution_count": null,
   "id": "a556322e",
   "metadata": {},
   "outputs": [],
   "source": [
    "mordor_file = \"https://raw.githubusercontent.com/OTRF/Security-Datasets/master/datasets/small/windows/execution/host/cmd_sharpview_pcre_net.zip\"\n",
    "registerMordorSQLTable(spark, mordor_file, \"mordorTable\")"
   ]
  },
  {
   "cell_type": "markdown",
   "id": "88bc68ca",
   "metadata": {},
   "source": [
    "### Get to know your data"
   ]
  },
  {
   "cell_type": "code",
   "execution_count": null,
   "id": "9775f18d",
   "metadata": {},
   "outputs": [],
   "source": [
    "df = spark.sql(\n",
    "'''\n",
    "SELECT Hostname,Channel,EventID, Count(*) as count\n",
    "FROM mordorTable\n",
    "GROUP BY Hostname,Channel,EventID\n",
    "ORDER BY count DESC\n",
    "'''\n",
    ")\n",
    "df.show(truncate=False)"
   ]
  }
 ],
 "metadata": {
  "kernelspec": {
   "display_name": "PySpark_Python3",
   "language": "python",
   "name": "pyspark3"
  },
  "language_info": {
   "codemirror_mode": {
    "name": "ipython",
    "version": 3
   },
   "file_extension": ".py",
   "mimetype": "text/x-python",
   "name": "python",
   "nbconvert_exporter": "python",
   "pygments_lexer": "ipython3",
   "version": "3.7.3"
  }
 },
 "nbformat": 4,
 "nbformat_minor": 5
}
