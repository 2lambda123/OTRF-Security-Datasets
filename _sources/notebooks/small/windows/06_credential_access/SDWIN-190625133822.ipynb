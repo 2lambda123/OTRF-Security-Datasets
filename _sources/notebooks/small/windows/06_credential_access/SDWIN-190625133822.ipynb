{
 "cells": [
  {
   "cell_type": "markdown",
   "id": "094f4951",
   "metadata": {},
   "source": [
    "# Empire Reg Dump SAM Hive"
   ]
  },
  {
   "cell_type": "markdown",
   "id": "14d07ca2",
   "metadata": {},
   "source": [
    "## Metadata"
   ]
  },
  {
   "cell_type": "markdown",
   "id": "8f75611d",
   "metadata": {},
   "source": [
    "\n",
    "|                   |    |\n",
    "|:------------------|:---|\n",
    "| Author            | Roberto Rodriguez @Cyb3rWard0g |\n",
    "| Creation Date     | 2019/06/25 |\n",
    "| Modification Date | 2019/06/25 |\n",
    "| Tactics           | ['[TA0006](https://attack.mitre.org/tactics/TA0006)'] |\n",
    "| Techniques        | ['[T1003.002](https://attack.mitre.org/techniques/T1003/002)'] |\n",
    "| Tags              | ['SAM Rquest Handle'] |"
   ]
  },
  {
   "cell_type": "markdown",
   "id": "1eef7ce5",
   "metadata": {},
   "source": [
    "## Dataset Description\n",
    "This dataset represents adversaries with administrator privileges using the windows reg utility to dump the SAM registry hive."
   ]
  },
  {
   "cell_type": "markdown",
   "id": "cef62da3",
   "metadata": {},
   "source": [
    "## Datasets Downloads"
   ]
  },
  {
   "cell_type": "markdown",
   "id": "160ff712",
   "metadata": {},
   "source": [
    "\n",
    "| Dataset Type | Link   |\n",
    "|:-------------|:-------|\n",
    "| Host | [https://raw.githubusercontent.com/OTRF/Security-Datasets/master/datasets/small/windows/credential_access/host/empire_shell_reg_dump_sam.zip](https://raw.githubusercontent.com/OTRF/Security-Datasets/master/datasets/small/windows/credential_access/host/empire_shell_reg_dump_sam.zip) |"
   ]
  },
  {
   "cell_type": "markdown",
   "id": "e9705295",
   "metadata": {},
   "source": [
    "## Notebooks\n",
    "Notebooks created by the community leveraging the mordor datasets"
   ]
  },
  {
   "cell_type": "markdown",
   "id": "a0ce7674",
   "metadata": {},
   "source": [
    "\n",
    "| Author | Name | Link |\n",
    "|:-------|:-----|:-----|"
   ]
  },
  {
   "cell_type": "markdown",
   "id": "471eeddf",
   "metadata": {},
   "source": [
    "## Simulation Plan"
   ]
  },
  {
   "cell_type": "markdown",
   "id": "933e3283",
   "metadata": {},
   "source": [
    "\n",
    "| Environment | Tool Type | Module |\n",
    "|:------------|:----------|:-------|\n",
    "| Mordor shire | Interactive Session | [None](None) |"
   ]
  },
  {
   "cell_type": "markdown",
   "id": "21fd97b8",
   "metadata": {},
   "source": [
    "## Adversary View\n",
    "```\n",
    "(Empire: WE8XYD3K) > agents\n",
    "\n",
    "[*] Active agents:\n",
    "\n",
    "Name     La Internal IP     Machine Name      Username                Process            PID    Delay    Last Seen            Listener\n",
    "----     -- -----------     ------------      --------                -------            ---    -----    ---------            ----------------\n",
    "WE8XYD3K ps 172.18.39.5     WORKSTATION5      *THESHIRE\\pgustavo      powershell         5972   5/0.0    2020-09-22 08:27:49  http            \n",
    "\n",
    "(Empire: agents) > interact WE8XYD3K\n",
    "(Empire: WE8XYD3K) > shell reg save HKLM\\sam sam\n",
    "[*] Tasked WE8XYD3K to run TASK_SHELL\n",
    "[*] Agent WE8XYD3K tasked with task ID 5\n",
    "(Empire: WE8XYD3K) > \n",
    "The operation completed successfully.\n",
    "\n",
    "..Command execution completed.\n",
    "\n",
    "(Empire: WE8XYD3K) >\n",
    "```"
   ]
  },
  {
   "cell_type": "markdown",
   "id": "13539f99",
   "metadata": {},
   "source": [
    "## Explore Mordor Dataset"
   ]
  },
  {
   "cell_type": "markdown",
   "id": "aa94c79d",
   "metadata": {},
   "source": [
    "### Initialize Analytics Engine"
   ]
  },
  {
   "cell_type": "code",
   "execution_count": null,
   "id": "fb2d826a",
   "metadata": {},
   "outputs": [],
   "source": [
    "from openhunt.mordorutils import *\n",
    "spark = get_spark()"
   ]
  },
  {
   "cell_type": "markdown",
   "id": "57cb3a72",
   "metadata": {},
   "source": [
    "### Download & Process Mordor File"
   ]
  },
  {
   "cell_type": "code",
   "execution_count": null,
   "id": "f4ed2d4b",
   "metadata": {},
   "outputs": [],
   "source": [
    "mordor_file = \"https://raw.githubusercontent.com/OTRF/Security-Datasets/master/datasets/small/windows/credential_access/host/empire_shell_reg_dump_sam.zip\"\n",
    "registerMordorSQLTable(spark, mordor_file, \"mordorTable\")"
   ]
  },
  {
   "cell_type": "markdown",
   "id": "812bb46a",
   "metadata": {},
   "source": [
    "### Get to know your data"
   ]
  },
  {
   "cell_type": "code",
   "execution_count": null,
   "id": "708e185b",
   "metadata": {},
   "outputs": [],
   "source": [
    "df = spark.sql(\n",
    "'''\n",
    "SELECT Hostname,Channel,EventID, Count(*) as count\n",
    "FROM mordorTable\n",
    "GROUP BY Hostname,Channel,EventID\n",
    "ORDER BY count DESC\n",
    "'''\n",
    ")\n",
    "df.show(truncate=False)"
   ]
  }
 ],
 "metadata": {
  "kernelspec": {
   "display_name": "PySpark_Python3",
   "language": "python",
   "name": "pyspark3"
  },
  "language_info": {
   "codemirror_mode": {
    "name": "ipython",
    "version": 3
   },
   "file_extension": ".py",
   "mimetype": "text/x-python",
   "name": "python",
   "nbconvert_exporter": "python",
   "pygments_lexer": "ipython3",
   "version": "3.7.3"
  }
 },
 "nbformat": 4,
 "nbformat_minor": 5
}
